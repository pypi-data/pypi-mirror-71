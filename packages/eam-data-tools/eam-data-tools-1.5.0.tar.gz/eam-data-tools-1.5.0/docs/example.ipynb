{
 "cells": [
  {
   "cell_type": "code",
   "execution_count": 2,
   "metadata": {},
   "outputs": [
    {
     "name": "stdout",
     "output_type": "stream",
     "text": [
      "authors.rst           example.ipynb         requirements.txt\r\n",
      "changelog.rst         index.rst             spelling_wordlist.txt\r\n",
      "conf.py               installation.rst      tables.rst\r\n",
      "contributing.rst      readme.rst            usage.rst\r\n",
      "development.rst       \u001b[1m\u001b[36mreference\u001b[m\u001b[m\r\n"
     ]
    }
   ],
   "source": [
    "! ls"
   ]
  },
  {
   "cell_type": "code",
   "execution_count": 11,
   "metadata": {},
   "outputs": [],
   "source": [
    "import csv\n",
    "\n",
    "reader = csv.DictReader(open('../tests/test.csv'), delimiter=',')"
   ]
  },
  {
   "cell_type": "code",
   "execution_count": 12,
   "metadata": {},
   "outputs": [
    {
     "name": "stdout",
     "output_type": "stream",
     "text": [
      "{'variable': 'a', ' scenario': '', 'type': 'exp', 'ref value': '10', 'param': '', 'initial_value_proportional_variation': '0.4', 'unit': 'kg', 'mean growth': '-0.20', 'variability growth': '0.10', 'ref date': '01/01/2009', 'label': 'test var 1', 'comment': '', 'source': '', '': ''}\n",
      "{'variable': 'b', ' scenario': '', 'type': 'interp', 'ref value': '{\"2010-01-01\":1, \"2010-03-01\":100 , \"2010-12-01\":110}', 'param': 'linear', 'initial_value_proportional_variation': '0.4', 'unit': 'kg', 'mean growth': '-0.20', 'variability growth': '0.10', 'ref date': '01/01/2009', 'label': 'test var 1', 'comment': '', 'source': '', '': ''}\n",
      "{'variable': 'c', ' scenario': '', 'type': '', 'ref value': '', 'param': '', 'initial_value_proportional_variation': '3', 'unit': '-', 'mean growth': '', 'variability growth': '', 'ref date': '', 'label': 'label', 'comment': '', 'source': '', '': ''}\n",
      "{'variable': 'e', ' scenario': '', 'type': '', 'ref value': '', 'param': '', 'initial_value_proportional_variation': '1', 'unit': '', 'mean growth': '', 'variability growth': '', 'ref date': '', 'label': '', 'comment': '', 'source': '', '': ''}\n"
     ]
    }
   ],
   "source": [
    "reader\n",
    "for _def in reader:\n",
    "\n",
    "    print (_def)"
   ]
  },
  {
   "cell_type": "code",
   "execution_count": 14,
   "metadata": {},
   "outputs": [],
   "source": [
    "from datetime import datetime\n",
    "\n",
    "datetime_str = '01/01/2009'\n",
    "\n",
    "datetime_object = datetime.strptime(datetime_str, '%d/%m/%Y')"
   ]
  },
  {
   "cell_type": "code",
   "execution_count": 15,
   "metadata": {},
   "outputs": [
    {
     "data": {
      "text/plain": [
       "datetime.datetime(2009, 1, 1, 0, 0)"
      ]
     },
     "execution_count": 15,
     "metadata": {},
     "output_type": "execute_result"
    }
   ],
   "source": [
    "datetime_object"
   ]
  },
  {
   "cell_type": "code",
   "execution_count": null,
   "metadata": {},
   "outputs": [],
   "source": []
  }
 ],
 "metadata": {
  "kernelspec": {
   "display_name": "Python 3",
   "language": "python",
   "name": "python3"
  },
  "language_info": {
   "codemirror_mode": {
    "name": "ipython",
    "version": 3
   },
   "file_extension": ".py",
   "mimetype": "text/x-python",
   "name": "python",
   "nbconvert_exporter": "python",
   "pygments_lexer": "ipython3",
   "version": "3.8.1"
  }
 },
 "nbformat": 4,
 "nbformat_minor": 4
}
