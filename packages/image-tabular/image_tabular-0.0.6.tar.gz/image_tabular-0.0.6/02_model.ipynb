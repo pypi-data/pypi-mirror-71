{
 "cells": [
  {
   "cell_type": "code",
   "execution_count": null,
   "metadata": {},
   "outputs": [],
   "source": [
    "# default_exp model"
   ]
  },
  {
   "cell_type": "markdown",
   "metadata": {},
   "source": [
    "# model\n",
    "\n",
    "> Model for integrated image and tabular data"
   ]
  },
  {
   "cell_type": "code",
   "execution_count": null,
   "metadata": {},
   "outputs": [],
   "source": [
    "#hide\n",
    "from nbdev.showdoc import *"
   ]
  },
  {
   "cell_type": "code",
   "execution_count": null,
   "metadata": {},
   "outputs": [],
   "source": [
    "#export\n",
    "from fastai.vision import *\n",
    "from fastai.tabular import *"
   ]
  },
  {
   "cell_type": "code",
   "execution_count": null,
   "metadata": {},
   "outputs": [],
   "source": [
    "#export\n",
    "class CNNTabularModel(Module):\n",
    "    def __init__(self, cnn_model, tabular_model, layers, ps, out_sz):\n",
    "        \"\"\"\n",
    "        Hybrid CNN and tabular model.\n",
    "        Image and tabular data will pass through a cnn model and tabular model, respectively.\n",
    "        The outputs from the two models will subsequently be concatenated will be fed into a few\n",
    "        fully connected layers to generate the final output.\n",
    "\n",
    "        :param cnn_model: cnn model for image data\n",
    "        :param tabular_model: tabular model to tabular data\n",
    "        :param layers: fully connected layers for concatenated data\n",
    "        :ps: dropouts\n",
    "        :out_sz: size of the final output\n",
    "        \"\"\"\n",
    "        super().__init__()\n",
    "        self.cnn_model = cnn_model\n",
    "        self.tabular_model = tabular_model\n",
    "\n",
    "        ps = ifnone(ps, [0]*len(layers))\n",
    "        ps = listify(ps, layers)\n",
    "        sizes = layers + [out_sz]\n",
    "        actns = [nn.ReLU(inplace=True) for _ in range(len(sizes)-2)] + [None]\n",
    "\n",
    "        layers = []\n",
    "        for n_in,n_out,dp,act in zip(sizes[:-1],sizes[1:], ps, actns):\n",
    "            layers += bn_drop_lin(n_in, n_out, bn=True, p=dp, actn=act)\n",
    "        self.layers = nn.Sequential(*layers)\n",
    "\n",
    "\n",
    "    def forward(self, *x):\n",
    "        # image\n",
    "        x_image = self.cnn_model(x[0])\n",
    "        # tabular, expand categorical and continous data\n",
    "        x_tab = self.tabular_model(*x[1])\n",
    "\n",
    "        # concatenate the outputs\n",
    "        x = torch.cat([x_image, x_tab], 1)\n",
    "\n",
    "        # pass through fully connected layers\n",
    "        x = self.layers(x)\n",
    "        return x"
   ]
  },
  {
   "cell_type": "code",
   "execution_count": null,
   "metadata": {},
   "outputs": [
    {
     "name": "stdout",
     "output_type": "stream",
     "text": [
      "Converted 00_core.ipynb.\n",
      "Converted 01_dataset.ipynb.\n",
      "Converted 02_model.ipynb.\n",
      "Converted 03_metric.ipynb.\n",
      "Converted index.ipynb.\n",
      "Converted siim-isic-melanoma-classification.ipynb.\n"
     ]
    }
   ],
   "source": [
    "from nbdev.export import *\n",
    "notebook2script()"
   ]
  }
 ],
 "metadata": {
  "kernelspec": {
   "display_name": "Python 3",
   "language": "python",
   "name": "python3"
  }
 },
 "nbformat": 4,
 "nbformat_minor": 2
}
