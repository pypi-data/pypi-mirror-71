{
 "cells": [
  {
   "cell_type": "code",
   "execution_count": null,
   "metadata": {},
   "outputs": [],
   "source": [
    "# default_exp dataset"
   ]
  },
  {
   "cell_type": "markdown",
   "metadata": {},
   "source": [
    "# dataset\n",
    "\n",
    "> dataset that integrates image and tabular data"
   ]
  },
  {
   "cell_type": "code",
   "execution_count": null,
   "metadata": {},
   "outputs": [],
   "source": [
    "#hide\n",
    "from nbdev.showdoc import *"
   ]
  },
  {
   "cell_type": "code",
   "execution_count": null,
   "metadata": {},
   "outputs": [],
   "source": [
    "#export\n",
    "from fastai.vision import *\n",
    "from fastai.tabular import *"
   ]
  },
  {
   "cell_type": "code",
   "execution_count": null,
   "metadata": {},
   "outputs": [],
   "source": [
    "#export\n",
    "class ImageTabDataset(Dataset):\n",
    "    def __init__(self, images, tabs):\n",
    "        \"\"\"\n",
    "        Hybrid dataset that integrates image and tabular data.\n",
    "        \n",
    "        :param images: a fastai LabelList that contains image data\n",
    "        :param tabs: a fastai LabelList that contains tabular data\n",
    "        \"\"\"\n",
    "        self.images, self.tabs = images, tabs\n",
    "\n",
    "    def __len__(self):\n",
    "        return len(self.images)\n",
    "\n",
    "    def __getitem__(self, i):\n",
    "        # return x as a tuple of image x and tabular x\n",
    "        # image y and tabular y should be the same \n",
    "        return (self.images[i][0], self.tabs[i][0]), self.images[i][1]"
   ]
  },
  {
   "cell_type": "code",
   "execution_count": null,
   "metadata": {},
   "outputs": [],
   "source": [
    "#export\n",
    "def get_imagetabdatasets(image_data, tabular_data):\n",
    "    \"\"\"\n",
    "    Helper function to construct train, valid, and optional test imagetabdatasets.\n",
    "        \n",
    "    :param image_data: a fastai Labellists that contains image train, valid, and optional test Labellists\n",
    "    :param tabular_data: a fastai Labellists that contains tabular train, valid, and optional test Labellists\n",
    "    \"\"\"\n",
    "    datasets = []\n",
    "    for images, tabs in zip(image_data.lists, tabular_data.lists):\n",
    "        datasets.append(ImageTabDataset(images, tabs))\n",
    "    return datasets"
   ]
  },
  {
   "cell_type": "code",
   "execution_count": null,
   "metadata": {},
   "outputs": [
    {
     "name": "stdout",
     "output_type": "stream",
     "text": [
      "Converted 00_core.ipynb.\n",
      "Converted 01_dataset.ipynb.\n",
      "Converted 02_model.ipynb.\n",
      "Converted 03_metric.ipynb.\n",
      "Converted index.ipynb.\n",
      "Converted siim_isic_image_only.ipynb.\n",
      "Converted siim_isic_integrated_model.ipynb.\n",
      "Converted siim_isic_tabular_only.ipynb.\n"
     ]
    }
   ],
   "source": [
    "from nbdev.export import *\n",
    "notebook2script()"
   ]
  }
 ],
 "metadata": {
  "kernelspec": {
   "display_name": "Python 3",
   "language": "python",
   "name": "python3"
  }
 },
 "nbformat": 4,
 "nbformat_minor": 2
}
