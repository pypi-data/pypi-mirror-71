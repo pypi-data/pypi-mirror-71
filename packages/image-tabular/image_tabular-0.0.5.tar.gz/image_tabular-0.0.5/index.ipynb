{
 "cells": [
  {
   "cell_type": "code",
   "execution_count": null,
   "metadata": {},
   "outputs": [],
   "source": [
    "#hide\n",
    "from image_tabular.core import *\n",
    "from image_tabular.dataset import *\n",
    "from image_tabular.model import *\n",
    "from image_tabular.metric import *"
   ]
  },
  {
   "cell_type": "markdown",
   "metadata": {},
   "source": [
    "# image_tabular\n",
    "\n",
    "> Integrate image and tabular data for deep learning."
   ]
  },
  {
   "cell_type": "markdown",
   "metadata": {},
   "source": [
    "## Install"
   ]
  },
  {
   "cell_type": "markdown",
   "metadata": {},
   "source": [
    "`pip install image_tabular`"
   ]
  },
  {
   "cell_type": "markdown",
   "metadata": {},
   "source": [
    "## How to use"
   ]
  },
  {
   "cell_type": "markdown",
   "metadata": {},
   "source": [
    "This library utilizes fastai and pytorch to integrate image and tabular data for deep learning and train a joint model using the integrated data."
   ]
  },
  {
   "cell_type": "markdown",
   "metadata": {},
   "source": [
    "![title](pics/model.png)\n",
    "<center>Image source: N. Gessert, M. Nielsen and M. Shaikh et al. / MethodsX 7 (2020) 100864<center>"
   ]
  },
  {
   "cell_type": "markdown",
   "metadata": {},
   "source": [
    "1. Please first prepare image and tabular data separately as fastai LabelLists, and then integrate them using the `get_imagetabdatasets` function as below:  \n",
    "\n",
    "```python\n",
    "integrate_train, integrate_valid, integrate_test = get_imagetabdatasets(image_data, tab_data)\n",
    "```  \n",
    "\n",
    "2. The train, validation, and optional test datasets can then be combined in a DataBunch:  \n",
    "```python\n",
    "db = DataBunch.create(integrate_train, integrate_valid, integrate_test,\n",
    "                      path=data_path, bs=bs)\n",
    "```\n",
    "\n",
    "3. Next, we create a joint model to train on both image and tabular data simultaneously:\n",
    "```python\n",
    "integrate_model = CNNTabularModel(cnn_model,\n",
    "                                  tabular_model,\n",
    "                                  layers = [cnn_out_sz + tab_out_sz, 32],\n",
    "                                  ps=0.2,\n",
    "                                  out_sz=2).to(device)\n",
    "```\n",
    "\n",
    "4. Finally, we pack everying into a fastai learner and train the joint model:\n",
    "```python\n",
    "learn = Learner(db, integrate_model)\n",
    "learn.fit_one_cycle(10, 1e-4)\n",
    "```\n",
    "\n",
    "The following notebook puts everything together and shows how to use the library for the SIIM-ISIC Melanoma Classification competition on Kaggle:  \n",
    "\n",
    "[SIIM-ISIC Integrated Model](siim_isic_integrated_model.ipynb#siim_isic_integrated)\n",
    "<a id='siim_isic_integrated'></a>"
   ]
  },
  {
   "cell_type": "code",
   "execution_count": null,
   "metadata": {},
   "outputs": [],
   "source": []
  }
 ],
 "metadata": {
  "kernelspec": {
   "display_name": "Python 3",
   "language": "python",
   "name": "python3"
  }
 },
 "nbformat": 4,
 "nbformat_minor": 2
}
