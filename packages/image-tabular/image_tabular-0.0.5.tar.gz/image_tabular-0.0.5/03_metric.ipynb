{
 "cells": [
  {
   "cell_type": "code",
   "execution_count": null,
   "metadata": {},
   "outputs": [],
   "source": [
    "# default_exp metric"
   ]
  },
  {
   "cell_type": "markdown",
   "metadata": {},
   "source": [
    "# metric\n",
    "\n",
    "> metric for training"
   ]
  },
  {
   "cell_type": "code",
   "execution_count": null,
   "metadata": {},
   "outputs": [],
   "source": [
    "#hide\n",
    "from nbdev.showdoc import *"
   ]
  },
  {
   "cell_type": "code",
   "execution_count": null,
   "metadata": {},
   "outputs": [],
   "source": [
    "#export\n",
    "from fastai.vision import *\n",
    "from fastai.tabular import *\n",
    "from sklearn.metrics import roc_auc_score"
   ]
  },
  {
   "cell_type": "code",
   "execution_count": null,
   "metadata": {},
   "outputs": [],
   "source": [
    "#export\n",
    "def auc_roc_score(input:Tensor, target:Tensor):\n",
    "    \"\"\"\n",
    "    Helper function to run sklearn's roc_auc_score on tensors\n",
    "    \"\"\"\n",
    "    # convert to numpy array\n",
    "    input, target = input.cpu().numpy(), target.cpu().numpy()\n",
    "    return roc_auc_score(target, input)\n",
    "\n",
    "@dataclass\n",
    "class ROCAUC(AUROC):\n",
    "    \"\"\"\n",
    "    Calculate area under the ROC curve metric after epoch ends.\n",
    "    \"\"\"\n",
    "    def on_epoch_end(self, last_metrics, **kwargs):\n",
    "        return add_metrics(last_metrics, auc_roc_score(self.preds, self.targs))"
   ]
  },
  {
   "cell_type": "code",
   "execution_count": null,
   "metadata": {},
   "outputs": [
    {
     "name": "stdout",
     "output_type": "stream",
     "text": [
      "Converted 00_core.ipynb.\n",
      "Converted 01_dataset.ipynb.\n",
      "Converted 02_model.ipynb.\n",
      "Converted 03_metric.ipynb.\n",
      "Converted index.ipynb.\n",
      "Converted siim_isic_integrated_model.ipynb.\n"
     ]
    }
   ],
   "source": [
    "from nbdev.export import *\n",
    "notebook2script()"
   ]
  }
 ],
 "metadata": {
  "kernelspec": {
   "display_name": "Python 3",
   "language": "python",
   "name": "python3"
  }
 },
 "nbformat": 4,
 "nbformat_minor": 2
}
