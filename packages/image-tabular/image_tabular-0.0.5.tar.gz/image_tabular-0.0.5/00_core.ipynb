{
 "cells": [
  {
   "cell_type": "code",
   "execution_count": null,
   "metadata": {},
   "outputs": [],
   "source": [
    "# default_exp core"
   ]
  },
  {
   "cell_type": "markdown",
   "metadata": {},
   "source": [
    "# core\n",
    "\n",
    "> helper functions"
   ]
  },
  {
   "cell_type": "code",
   "execution_count": null,
   "metadata": {},
   "outputs": [],
   "source": [
    "#hide\n",
    "from nbdev.showdoc import *"
   ]
  },
  {
   "cell_type": "code",
   "execution_count": null,
   "metadata": {},
   "outputs": [],
   "source": [
    "#export\n",
    "from fastai.vision import *\n",
    "from fastai.tabular import *"
   ]
  },
  {
   "cell_type": "code",
   "execution_count": null,
   "metadata": {},
   "outputs": [],
   "source": [
    "#export\n",
    "def get_valid_index(df, valid_pct:float=0.2, seed:int=0):\n",
    "    \"\"\"generate valid index that will be used to split both image and tabular data\"\"\"\n",
    "    np.random.seed(seed)\n",
    "    rand_idx = np.random.permutation(range_of(df))\n",
    "    cut = int(valid_pct * len(df))\n",
    "    val_idx = rand_idx[:cut]\n",
    "    return val_idx"
   ]
  },
  {
   "cell_type": "code",
   "execution_count": null,
   "metadata": {},
   "outputs": [],
   "source": [
    "#export\n",
    "def _normalize_batch_image_tab(b:Tuple[Tensor,Tensor],\n",
    "                               mean:FloatTensor,\n",
    "                               std:FloatTensor,\n",
    "                               do_x:bool=True,\n",
    "                               do_y:bool=False)->Tuple[Tensor,Tensor]:\n",
    "    \"`b` = `x`,`y` - normalize `x` array of imgs and `do_y` optionally `y`.\"\n",
    "    x,y = b\n",
    "    # only normalize image not tabular data\n",
    "    mean,std = mean.to(x[0].device),std.to(x[0].device)\n",
    "    if do_x: x[0] = normalize(x[0],mean,std)\n",
    "    return x,y\n",
    "\n",
    "def normalize_funcs_image_tab(mean:FloatTensor,\n",
    "                              std:FloatTensor, do_x:bool=True,\n",
    "                              do_y:bool=False)->Tuple[Callable,Callable]:\n",
    "    \"Create normalize/denormalize func using `mean` and `std`, can specify `do_y` and `device`.\"\n",
    "    mean,std = tensor(mean),tensor(std)\n",
    "    # use custom _normalize_batch_image_tab function to accommodate (image_data, tabular_data)\n",
    "    return (partial(_normalize_batch_image_tab, mean=mean, std=std, do_x=do_x, do_y=do_y),\n",
    "            partial(denormalize,      mean=mean, std=std, do_x=do_x))"
   ]
  },
  {
   "cell_type": "code",
   "execution_count": null,
   "metadata": {},
   "outputs": [
    {
     "name": "stdout",
     "output_type": "stream",
     "text": [
      "Converted 00_core.ipynb.\n",
      "Converted 01_dataset.ipynb.\n",
      "Converted 02_model.ipynb.\n",
      "Converted 03_metric.ipynb.\n",
      "Converted index.ipynb.\n",
      "Converted siim-isic-melanoma-classification.ipynb.\n"
     ]
    }
   ],
   "source": [
    "from nbdev.export import *\n",
    "notebook2script()"
   ]
  }
 ],
 "metadata": {
  "kernelspec": {
   "display_name": "Python 3",
   "language": "python",
   "name": "python3"
  }
 },
 "nbformat": 4,
 "nbformat_minor": 2
}
