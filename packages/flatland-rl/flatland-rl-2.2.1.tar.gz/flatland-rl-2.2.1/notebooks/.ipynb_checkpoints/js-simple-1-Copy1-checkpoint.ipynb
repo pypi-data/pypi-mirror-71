{
 "cells": [
  {
   "cell_type": "code",
   "execution_count": null,
   "metadata": {},
   "outputs": [],
   "source": [
    "%load_ext autoreload\n",
    "%autoreload 2\n",
    "%matplotlib inline"
   ]
  },
  {
   "cell_type": "code",
   "execution_count": null,
   "metadata": {},
   "outputs": [],
   "source": [
    "import time\n",
    "import os\n",
    "import numpy as np \n",
    "from numpy import array\n",
    "import threading\n",
    "import webbrowser\n",
    "import pandas as pd # useful for displaying tables\n",
    "#import ipysheet as ips\n",
    "from IPython.display import HTML, display\n",
    "from matplotlib import pyplot as plt\n",
    "import PIL\n",
    "\n",
    "from flatland.envs.malfunction_generators import malfunction_from_params, MalfunctionParameters\n",
    "from flatland.envs.observations import GlobalObsForRailEnv\n",
    "# First of all we import the Flatland rail environment\n",
    "from flatland.envs.rail_env import RailEnv\n",
    "from flatland.envs.rail_env import RailEnvActions\n",
    "from flatland.envs.rail_generators import sparse_rail_generator\n",
    "from flatland.envs.schedule_generators import sparse_schedule_generator\n",
    "# We also include a renderer because we want to visualize what is going on in the environment\n",
    "from flatland.utils.rendertools import RenderTool, AgentRenderVariant\n",
    "from flatland.utils.flask_util import simple_flask_server"
   ]
  },
  {
   "cell_type": "code",
   "execution_count": null,
   "metadata": {},
   "outputs": [],
   "source": [
    "nSize = 3\n",
    "\n",
    "if nSize == 1: \n",
    "    width = 30  # With of map\n",
    "    height = 30  # Height of map\n",
    "    nr_trains = 5  # Number of trains that have an assigned task in the env\n",
    "    cities_in_map = 2  # Number of cities where agents can start or end\n",
    "elif nSize == 2:\n",
    "    width = 8 * 7  # With of map\n",
    "    height = 8 * 7  # Height of map\n",
    "    nr_trains = 20  # Number of trains that have an assigned task in the env\n",
    "    cities_in_map = 10  # Number of cities where agents can start or end\n",
    "else:\n",
    "    width = 16 * 7  # With of map\n",
    "    height = 9 * 7  # Height of map\n",
    "    nr_trains = 50  # Number of trains that have an assigned task in the env\n",
    "    cities_in_map = 20  # Number of cities where agents can start or end\n",
    "    \n",
    "seed = 14  # Random seed\n",
    "grid_distribution_of_cities = False  # Type of city distribution, if False cities are randomly placed\n",
    "max_rails_between_cities = 2  # Max number of tracks allowed between cities. This is number of entry point to a city\n",
    "max_rail_in_cities = 6  # Max number of parallel tracks within a city, representing a realistic trainstation\n"
   ]
  },
  {
   "cell_type": "code",
   "execution_count": null,
   "metadata": {},
   "outputs": [],
   "source": [
    "rail_generator = sparse_rail_generator(max_num_cities=cities_in_map,\n",
    "                                       seed=seed,\n",
    "                                       grid_mode=grid_distribution_of_cities,\n",
    "                                       max_rails_between_cities=max_rails_between_cities,\n",
    "                                       max_rails_in_city=max_rail_in_cities,\n",
    "                                       )\n",
    "\n",
    "speed_ration_map = {1.: 0.25,  # Fast passenger train\n",
    "                    1. / 2.: 0.25,  # Fast freight train\n",
    "                    1. / 3.: 0.25,  # Slow commuter train\n",
    "                    1. / 4.: 0.25}  # Slow freight train\n",
    "\n",
    "schedule_generator = sparse_schedule_generator(speed_ration_map)\n",
    "\n",
    "stochastic_data = MalfunctionParameters(malfunction_rate=10000,  # Rate of malfunction occurence\n",
    "                                        min_duration=15,  # Minimal duration of malfunction\n",
    "                                        max_duration=50  # Max duration of malfunction\n",
    "                                        )\n",
    "\n",
    "# Custom observation builder without predictor\n",
    "observation_builder = GlobalObsForRailEnv()"
   ]
  },
  {
   "cell_type": "code",
   "execution_count": null,
   "metadata": {},
   "outputs": [],
   "source": [
    "env = RailEnv(width=width,\n",
    "              height=height,\n",
    "              rail_generator=rail_generator,\n",
    "              schedule_generator=schedule_generator,\n",
    "              number_of_agents=nr_trains,\n",
    "              obs_builder_object=observation_builder,\n",
    "              malfunction_generator_and_process_data=malfunction_from_params(stochastic_data),\n",
    "              remove_agents_at_target=True)\n",
    "\n",
    "env.reset();"
   ]
  },
  {
   "cell_type": "code",
   "execution_count": null,
   "metadata": {},
   "outputs": [],
   "source": [
    "env_renderer = RenderTool(env,  \n",
    "                          gl=\"BROWSER\",\n",
    "                          agent_render_variant=AgentRenderVariant.ONE_STEP_BEHIND,\n",
    "                          show_debug=False,\n",
    "                          host=\"127.0.0.1\",\n",
    "                          port=None\n",
    "                         )"
   ]
  },
  {
   "cell_type": "code",
   "execution_count": null,
   "metadata": {},
   "outputs": [],
   "source": [
    "render_pil = RenderTool(env, gl=\"PILSVG\",\n",
    "                          agent_render_variant=AgentRenderVariant.ONE_STEP_BEHIND,\n",
    "                          show_debug=False,\n",
    "                          screen_height=1000,  # Adjust these parameters to fit your resolution\n",
    "                          screen_width=1300)  # Adjust these parameters to fit your resolution"
   ]
  },
  {
   "cell_type": "code",
   "execution_count": null,
   "metadata": {},
   "outputs": [],
   "source": [
    "agents_with_same_start = set()\n",
    "agent_pairs = []\n",
    "dict_pos_agents = {}\n",
    "\n",
    "for iAgent, agent in enumerate(env.agents):\n",
    "    rcPos = agent.initial_position\n",
    "    if rcPos in dict_pos_agents:\n",
    "        dict_pos_agents[rcPos].append(iAgent)\n",
    "    else:\n",
    "        dict_pos_agents[rcPos] = [iAgent]\n",
    "pd.set_option(\"display.max_rows\", 30)\n",
    "df_init = pd.DataFrame(dict_pos_agents.items(), columns=[\"Initial_Posn\", \"Agent_indices\"])\n",
    "df_init[\"nAgents\"] = df_init.Agent_indices.apply(len)\n",
    "agents_with_same_start = sorted(np.sum(df_init.Agent_indices[df_init.nAgents>1].values))\n",
    "df_init[df_init.nAgents > 1]"
   ]
  },
  {
   "cell_type": "code",
   "execution_count": null,
   "metadata": {},
   "outputs": [],
   "source": [
    "r_aspect = width / height\n",
    "chart_width_inches = 15\n",
    "plt.figure(figsize=(chart_width_inches, chart_width_inches / r_aspect))\n",
    "\n",
    "rc2xy = array([[0,1],[-1,0]]).T # matrix to convert row, col -> x, y - height\n",
    "for agent in env.agents:\n",
    "    rc1 = array(agent.initial_position)\n",
    "    rc2 = array(agent.target)\n",
    "    rc12 = np.stack([rc1, rc2])\n",
    "    xy12 = np.matmul(rc12, rc2xy)\n",
    "    plt.plot(xy12[:,0], height + xy12[:,1])\n",
    "\n",
    "for rcStart, liAgent in dict_pos_agents.items():\n",
    "    xyStart = np.matmul(array(rcStart), rc2xy) + [0, height]\n",
    "    plt.annotate(liAgent, xyStart)\n",
    "    \n",
    "#plt.xlim(0,srConf.width)\n",
    "#plt.ylim(0,srConf.height)\n",
    "plt.xticks(range(0, width, 5))\n",
    "plt.yticks(range(0, height, 5))\n",
    "plt.grid()\n",
    "plt.title(\"Agent Indices at initial positions\")\n",
    "render_pil.render_env(show=False, show_observations=False)\n",
    "plt.imshow(render_pil.get_image(), extent = [0, width, 0, height])"
   ]
  },
  {
   "cell_type": "code",
   "execution_count": null,
   "metadata": {},
   "outputs": [],
   "source": [
    "url = env_renderer.get_endpoint_URL()\n",
    "HTML(\"<a href={}> Click here to open viewer at {}</a>\".format(url, url))"
   ]
  },
  {
   "cell_type": "code",
   "execution_count": null,
   "metadata": {},
   "outputs": [],
   "source": [
    "action_dict = dict()\n",
    "for agent_id in agents_with_same_start:\n",
    "    action_dict[agent_id] = 1  # Try to move with the agents\n",
    "env.step(action_dict)\n",
    "pass"
   ]
  },
  {
   "cell_type": "code",
   "execution_count": null,
   "metadata": {},
   "outputs": [],
   "source": [
    "class RandomAgent:\n",
    "    def __init__(self, state_size, action_size):\n",
    "        self.state_size = state_size\n",
    "        self.action_size = action_size\n",
    "        \n",
    "    def act(self, state):\n",
    "        # random choice\n",
    "        return np.random.choice([RailEnvActions.MOVE_FORWARD, \n",
    "                                 RailEnvActions.MOVE_RIGHT, \n",
    "                                 RailEnvActions.MOVE_LEFT,\n",
    "                                 RailEnvActions.STOP_MOVING])\n",
    "    def step(self, memories):\n",
    "        return\n",
    "    \n",
    "    def save(self, filename):\n",
    "        return\n",
    "    \n",
    "    def load(self, filename):\n",
    "        return\n",
    "    \n",
    "controller = RandomAgent(218, env.action_space[0])"
   ]
  },
  {
   "cell_type": "code",
   "execution_count": null,
   "metadata": {},
   "outputs": [],
   "source": [
    "for a in range(env.get_num_agents()):\n",
    "    action = controller.act(0)\n",
    "    action_dict.update({a: action})\n",
    "\n",
    "observations, rewards, dones, information = env.step(action_dict)"
   ]
  },
  {
   "cell_type": "code",
   "execution_count": null,
   "metadata": {},
   "outputs": [],
   "source": [
    "#url = env_renderer.get_endpoint_URL()\n",
    "#HTML(\"<iframe src='{}/index.html' height=500 width=100% />\".format(url))"
   ]
  },
  {
   "cell_type": "code",
   "execution_count": null,
   "metadata": {},
   "outputs": [],
   "source": [
    "nSteps = 5\n",
    "\n",
    "score = 0\n",
    "frame_step = 0\n",
    "\n",
    "for step in range(nSteps):\n",
    "    for a in range(env.get_num_agents()):\n",
    "        action = controller.act(observations[a])\n",
    "        action_dict.update({a: action})\n",
    "\n",
    "    # Environment step which returns the observations for all agents, their corresponding\n",
    "    # reward and whether their are done\n",
    "    next_obs, all_rewards, done, _ = env.step(action_dict)\n",
    "    \n",
    "    print('{}/{} agents done.'.format(np.sum(list(done.values())), len(done)))\n",
    "    \n",
    "    env_renderer.render_env(show=False, \n",
    "                            show_observations=True, \n",
    "                            show_predictions=False)\n",
    "    \n",
    "    # env_renderer.gl.save_image('./misc/Fames2/flatland_frame_{:04d}.png'.format(step))\n",
    "    frame_step += 1\n",
    "    \n",
    "    # Update replay buffer and train agent\n",
    "    for a in range(env.get_num_agents()):\n",
    "        score += all_rewards[a]\n",
    "        \n",
    "    observations = next_obs.copy()\n",
    "    if done['__all__']:\n",
    "        print(\"All done!\")\n",
    "        break\n",
    "    print('Step {}\\t Sum scores={}'.format(frame_step, score))\n",
    "    \n",
    "    time.sleep(0.1)"
   ]
  },
  {
   "cell_type": "markdown",
   "metadata": {},
   "source": [
    "\n",
    "<app-root></app-root>\n",
    "<script>\n",
    "try{\n",
    "    window.nodeRequire = require;\n",
    "    delete window.require;\n",
    "    delete window.exports;\n",
    "    delete window.module;\n",
    "} catch (e) {}\n",
    "</script>\n",
    "\n",
    "<script src=\"static/runtime.js\" defer></script>\n",
    "<script src=\"static/polyfills-es5.js\" nomodule defer></script>\n",
    "<script src=\"static/polyfills.js\" defer></script>\n",
    "<script src=\"static/styles.js\" defer></script>\n",
    "<script src=\"static/scripts.js\" defer></script>\n",
    "<script src=\"static/vendor.js\" defer></script>\n",
    "<script src=\"static/main.js\" defer></script>\n",
    "</body>"
   ]
  }
 ],
 "metadata": {
  "hide_input": false,
  "kernelspec": {
   "display_name": "Python 3",
   "language": "python",
   "name": "python3"
  },
  "language_info": {
   "codemirror_mode": {
    "name": "ipython",
    "version": 3
   },
   "file_extension": ".py",
   "mimetype": "text/x-python",
   "name": "python",
   "nbconvert_exporter": "python",
   "pygments_lexer": "ipython3",
   "version": "3.6.9"
  },
  "latex_envs": {
   "LaTeX_envs_menu_present": true,
   "autoclose": false,
   "autocomplete": true,
   "bibliofile": "biblio.bib",
   "cite_by": "apalike",
   "current_citInitial": 1,
   "eqLabelWithNumbers": true,
   "eqNumInitial": 1,
   "hotkeys": {
    "equation": "Ctrl-E",
    "itemize": "Ctrl-I"
   },
   "labels_anchors": false,
   "latex_user_defs": false,
   "report_style_numbering": false,
   "user_envs_cfg": false
  },
  "toc": {
   "base_numbering": 1,
   "nav_menu": {},
   "number_sections": true,
   "sideBar": true,
   "skip_h1_title": false,
   "title_cell": "Table of Contents",
   "title_sidebar": "Contents",
   "toc_cell": false,
   "toc_position": {},
   "toc_section_display": true,
   "toc_window_display": false
  },
  "varInspector": {
   "cols": {
    "lenName": 16,
    "lenType": 16,
    "lenVar": 40
   },
   "kernels_config": {
    "python": {
     "delete_cmd_postfix": "",
     "delete_cmd_prefix": "del ",
     "library": "var_list.py",
     "varRefreshCmd": "print(var_dic_list())"
    },
    "r": {
     "delete_cmd_postfix": ") ",
     "delete_cmd_prefix": "rm(",
     "library": "var_list.r",
     "varRefreshCmd": "cat(var_dic_list()) "
    }
   },
   "types_to_exclude": [
    "module",
    "function",
    "builtin_function_or_method",
    "instance",
    "_Feature"
   ],
   "window_display": false
  }
 },
 "nbformat": 4,
 "nbformat_minor": 4
}
