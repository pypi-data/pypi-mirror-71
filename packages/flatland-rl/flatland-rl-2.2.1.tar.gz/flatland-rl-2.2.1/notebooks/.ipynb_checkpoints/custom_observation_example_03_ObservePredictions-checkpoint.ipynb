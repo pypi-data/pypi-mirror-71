{
 "cells": [
  {
   "cell_type": "code",
   "execution_count": null,
   "metadata": {},
   "outputs": [],
   "source": [
    "import getopt\n",
    "import random\n",
    "import sys\n",
    "import time\n",
    "from typing import Optional, List, Dict"
   ]
  },
  {
   "cell_type": "code",
   "execution_count": null,
   "metadata": {},
   "outputs": [],
   "source": [
    "import numpy as np\n",
    "from IPython.display import HTML"
   ]
  },
  {
   "cell_type": "code",
   "execution_count": null,
   "metadata": {},
   "outputs": [],
   "source": [
    "from flatland.core.env import Environment\n",
    "from flatland.core.env_observation_builder import ObservationBuilder\n",
    "from flatland.core.grid.grid_utils import coordinate_to_position\n",
    "from flatland.envs.predictions import ShortestPathPredictorForRailEnv\n",
    "from flatland.envs.rail_env import RailEnv\n",
    "from flatland.envs.rail_generators import complex_rail_generator\n",
    "from flatland.envs.schedule_generators import complex_schedule_generator\n",
    "from flatland.utils.misc import str2bool\n",
    "from flatland.utils.ordered_set import OrderedSet\n",
    "from flatland.utils.rendertools import RenderTool"
   ]
  },
  {
   "cell_type": "code",
   "execution_count": null,
   "metadata": {},
   "outputs": [],
   "source": [
    "random.seed(100)\n",
    "np.random.seed(100)"
   ]
  },
  {
   "cell_type": "code",
   "execution_count": null,
   "metadata": {},
   "outputs": [],
   "source": [
    "class ObservePredictions(ObservationBuilder):\n",
    "    \"\"\"\n",
    "    We use the provided ShortestPathPredictor to illustrate the usage of predictors in your custom observation.\n",
    "    \"\"\"\n",
    "    def __init__(self, predictor):\n",
    "        super().__init__()\n",
    "        self.predictor = predictor\n",
    "    def reset(self):\n",
    "        pass\n",
    "    def get_many(self, handles: Optional[List[int]] = None) -> Dict[int, np.ndarray]:\n",
    "        '''\n",
    "        Because we do not want to call the predictor seperately for every agent we implement \n",
    "        the get_many function.   Here we can call the predictor just ones for all the agents \n",
    "        and use the predictions to generate our observations\n",
    "        :param handles:\n",
    "        :return:\n",
    "        '''\n",
    "        self.predictions = self.predictor.get()\n",
    "        self.predicted_pos = {}\n",
    "        if handles is None:\n",
    "            handles = []\n",
    "        for t in range(len(self.predictions[0])):\n",
    "            pos_list = []\n",
    "            for a in handles:\n",
    "                pos_list.append(self.predictions[a][t][1:3])\n",
    "            # We transform (x,y) coordinates to a single integer number for simpler comparison\n",
    "            self.predicted_pos.update({t: coordinate_to_position(self.env.width, pos_list)})\n",
    "        observations = super().get_many(handles)\n",
    "        return observations\n",
    "    def get(self, handle: int = 0) -> np.ndarray:\n",
    "        '''\n",
    "        Lets write a simple observation which just indicates whether or not the own predicted path\n",
    "        overlaps with other predicted paths at any time. This is useless for the task of navigation but might\n",
    "        help when looking for conflicts. A more complex implementation can be found in the TreeObsForRailEnv class\n",
    "        Each agent recieves an observation of length 10, where each element represents a prediction step and its value\n",
    "        is:\n",
    "         - 0 if no overlap is happening\n",
    "         - 1 where n i the number of other paths crossing the predicted cell\n",
    "        :param handle: handeled as an index of an agent\n",
    "        :return: Observation of handle\n",
    "        '''\n",
    "        observation = np.zeros(10)\n",
    "\n",
    "        # We are going to track what cells where considered while building the obervation and make them accesible\n",
    "        # For rendering\n",
    "        visited = OrderedSet()\n",
    "        for _idx in range(10):\n",
    "            # Check if any of the other prediction overlap with agents own predictions\n",
    "            x_coord = self.predictions[handle][_idx][1]\n",
    "            y_coord = self.predictions[handle][_idx][2]\n",
    "\n",
    "            # We add every observed cell to the observation rendering\n",
    "            visited.add((x_coord, y_coord))\n",
    "            if self.predicted_pos[_idx][handle] in np.delete(self.predicted_pos[_idx], handle, 0):\n",
    "                # We detect if another agent is predicting to pass through the same cell at the same predicted time\n",
    "                observation[handle] = 1\n",
    "\n",
    "        # This variable will be access by the renderer to visualize the observation\n",
    "        self.env.dev_obs_dict[handle] = visited\n",
    "        return observation\n",
    "    def set_env(self, env: Environment):\n",
    "        super().set_env(env)\n",
    "        if self.predictor:\n",
    "            self.predictor.set_env(self.env)"
   ]
  },
  {
   "cell_type": "code",
   "execution_count": null,
   "metadata": {},
   "outputs": [],
   "source": [
    "sleep_for_animation = True\n",
    "\n",
    "\n",
    "# Initiate the Predictor\n",
    "custom_predictor = ShortestPathPredictorForRailEnv(10)\n",
    "\n",
    "# Pass the Predictor to the observation builder\n",
    "custom_obs_builder = ObservePredictions(custom_predictor)\n",
    "\n",
    "# Initiate Environment\n",
    "env = RailEnv(width=10, height=10,\n",
    "              rail_generator=complex_rail_generator(nr_start_goal=5, nr_extra=1, min_dist=8, max_dist=99999,\n",
    "                                                    seed=1), schedule_generator=complex_schedule_generator(),\n",
    "              number_of_agents=3, obs_builder_object=custom_obs_builder)\n",
    "obs, info = env.reset()\n",
    "env_renderer = RenderTool(env, gl=\"BROWSER\")"
   ]
  },
  {
   "cell_type": "markdown",
   "metadata": {},
   "source": [
    "The following cell generates a link pointing to a FLASK server running in a background thread.\n",
    "\n",
    "We recommend you use \"right-click, open in new window\" to see the env in a separate window. Ideally, drag and resize it so you can see the notebook and env at the same time."
   ]
  },
  {
   "cell_type": "code",
   "execution_count": null,
   "metadata": {},
   "outputs": [],
   "source": [
    "url = env_renderer.get_endpoint_URL()\n",
    "HTML(\"<a href={}> Click here to open viewer at {}</a>\".format(url, url))"
   ]
  },
  {
   "cell_type": "code",
   "execution_count": null,
   "metadata": {},
   "outputs": [],
   "source": [
    "# We render the initial step and show the obsered cells as colored boxes\n",
    "env_renderer.render_env(show=True, frames=True, show_observations=True, show_predictions=False)\n",
    "action_dict = {}"
   ]
  },
  {
   "cell_type": "code",
   "execution_count": null,
   "metadata": {},
   "outputs": [],
   "source": [
    "for step in range(3):\n",
    "    for a in range(env.get_num_agents()):\n",
    "        action = np.random.randint(0, 5)\n",
    "        action_dict[a] = action\n",
    "    obs, all_rewards, done, _ = env.step(action_dict)\n",
    "    print(\"Rewards: \", all_rewards, \"  [done=\", done, \"]\")\n",
    "    env_renderer.render_env(show=True, frames=True, show_observations=True, show_predictions=False)\n",
    "    if sleep_for_animation:\n",
    "        time.sleep(0.1)"
   ]
  },
  {
   "cell_type": "code",
   "execution_count": null,
   "metadata": {},
   "outputs": [],
   "source": [
    "#env.reset()\n",
    "#env_renderer.render_env(show=True, frames=True, show_observations=True, show_predictions=False)"
   ]
  }
 ],
 "metadata": {
  "hide_input": false,
  "kernelspec": {
   "display_name": "Python 3",
   "language": "python",
   "name": "python3"
  },
  "language_info": {
   "codemirror_mode": {
    "name": "ipython",
    "version": 3
   },
   "file_extension": ".py",
   "mimetype": "text/x-python",
   "name": "python",
   "nbconvert_exporter": "python",
   "pygments_lexer": "ipython3",
   "version": "3.6.9"
  },
  "latex_envs": {
   "LaTeX_envs_menu_present": true,
   "autoclose": false,
   "autocomplete": true,
   "bibliofile": "biblio.bib",
   "cite_by": "apalike",
   "current_citInitial": 1,
   "eqLabelWithNumbers": true,
   "eqNumInitial": 1,
   "hotkeys": {
    "equation": "Ctrl-E",
    "itemize": "Ctrl-I"
   },
   "labels_anchors": false,
   "latex_user_defs": false,
   "report_style_numbering": false,
   "user_envs_cfg": false
  },
  "toc": {
   "base_numbering": 1,
   "nav_menu": {},
   "number_sections": true,
   "sideBar": true,
   "skip_h1_title": false,
   "title_cell": "Table of Contents",
   "title_sidebar": "Contents",
   "toc_cell": false,
   "toc_position": {},
   "toc_section_display": true,
   "toc_window_display": false
  },
  "varInspector": {
   "cols": {
    "lenName": 16,
    "lenType": 16,
    "lenVar": 40
   },
   "kernels_config": {
    "python": {
     "delete_cmd_postfix": "",
     "delete_cmd_prefix": "del ",
     "library": "var_list.py",
     "varRefreshCmd": "print(var_dic_list())"
    },
    "r": {
     "delete_cmd_postfix": ") ",
     "delete_cmd_prefix": "rm(",
     "library": "var_list.r",
     "varRefreshCmd": "cat(var_dic_list()) "
    }
   },
   "types_to_exclude": [
    "module",
    "function",
    "builtin_function_or_method",
    "instance",
    "_Feature"
   ],
   "window_display": false
  }
 },
 "nbformat": 4,
 "nbformat_minor": 4
}
