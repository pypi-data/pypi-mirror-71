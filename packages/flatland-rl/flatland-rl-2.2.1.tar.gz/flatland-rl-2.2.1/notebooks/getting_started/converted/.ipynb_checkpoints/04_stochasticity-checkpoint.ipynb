{
 "cells": [
  {
   "cell_type": "markdown",
   "metadata": {},
   "source": [
    "# Stochasticity Tutorial\n",
    "\n",
    "Another area where we improved **Flat**land 2.0 are stochastic events added during the episodes.\n",
    "This is very common for railway networks where the initial plan usually needs to be rescheduled during operations as minor events such as delayed departure from trainstations, malfunctions on trains or infrastructure or just the weather lead to delayed trains.\n",
    "\n",
    "We implemted a poisson process to simulate delays by stopping agents at random times for random durations. The parameters necessary for the stochastic events can be provided when creating the environment."
   ]
  },
  {
   "cell_type": "code",
   "execution_count": null,
   "metadata": {},
   "outputs": [],
   "source": [
    "# Use a the malfunction generator to break agents from time to time\n",
    "\n",
    "stochastic_data = {\n",
    "    'prop_malfunction': 0.5,  # Percentage of defective agents\n",
    "    'malfunction_rate': 30,  # Rate of malfunction occurence\n",
    "    'min_duration': 3,  # Minimal duration of malfunction\n",
    "    'max_duration': 10  # Max duration of malfunction\n",
    "}"
   ]
  },
  {
   "cell_type": "markdown",
   "metadata": {},
   "source": [
    "The parameters are as follows:\n",
    "\n",
    "- `prop_malfunction` is the proportion of agents that can malfunction. `1.0` means that each agent can break.\n",
    "- `malfunction_rate` is the mean rate of the poisson process in number of environment steps.\n",
    "- `min_duration` and `max_duration` set the range of malfunction durations. They are sampled uniformly\n",
    "\n",
    "You can introduce stochasticity by simply creating the env as follows:"
   ]
  },
  {
   "cell_type": "code",
   "execution_count": null,
   "metadata": {
    "lines_to_next_cell": 0
   },
   "outputs": [],
   "source": [
    "env = RailEnv(\n",
    "    ...\n",
    "    stochastic_data=stochastic_data,  # Malfunction data generator\n",
    "    ...\n",
    ")"
   ]
  },
  {
   "cell_type": "markdown",
   "metadata": {
    "lines_to_next_cell": 0
   },
   "source": [
    "In your controller, you can check whether an agent is malfunctioning:"
   ]
  },
  {
   "cell_type": "code",
   "execution_count": null,
   "metadata": {},
   "outputs": [],
   "source": [
    "obs, rew, done, info = env.step(actions)\n",
    "...\n",
    "action_dict = dict()\n",
    "for a in range(env.get_num_agents()):\n",
    "    if info['malfunction'][a] == 0:\n",
    "        action_dict.update({a: ...})\n",
    "\n",
    "# Custom observation builder\n",
    "tree_observation = TreeObsForRailEnv(max_depth=2, predictor=ShortestPathPredictorForRailEnv())\n",
    "\n",
    "# Different agent types (trains) with different speeds.\n",
    "speed_ration_map = {1.: 0.25,  # Fast passenger train\n",
    "                    1. / 2.: 0.25,  # Fast freight train\n",
    "                    1. / 3.: 0.25,  # Slow commuter train\n",
    "                    1. / 4.: 0.25}  # Slow freight train\n",
    "\n",
    "env = RailEnv(width=50,\n",
    "              height=50,\n",
    "              rail_generator=sparse_rail_generator(num_cities=20,  # Number of cities in map (where train stations are)\n",
    "                                                   num_intersections=5,  # Number of intersections (no start / target)\n",
    "                                                   num_trainstations=15,  # Number of possible start/targets on map\n",
    "                                                   min_node_dist=3,  # Minimal distance of nodes\n",
    "                                                   node_radius=2,  # Proximity of stations to city center\n",
    "                                                   num_neighb=4,  # Number of connections to other cities/intersections\n",
    "                                                   seed=15,  # Random seed\n",
    "                                                   grid_mode=True,\n",
    "                                                   enhance_intersection=True\n",
    "                                                   ),\n",
    "              schedule_generator=sparse_schedule_generator(speed_ration_map),\n",
    "              number_of_agents=10,\n",
    "              stochastic_data=stochastic_data,  # Malfunction data generator\n",
    "              obs_builder_object=tree_observation)\n",
    "env.reset()"
   ]
  },
  {
   "cell_type": "markdown",
   "metadata": {},
   "source": [
    "You will quickly realize that this will lead to unforeseen difficulties which means that **your controller** needs to observe the environment at all times to be able to react to the stochastic events.\n",
    "\n",
    "## Example code\n",
    "\n",
    "To see all the changes in action you can just run the `flatland_example_2_0.py` file in the examples folder. The file can be found [here](https://gitlab.aicrowd.com/flatland/flatland/blob/master/examples/flatland_2_0_example.py)."
   ]
  }
 ],
 "metadata": {
  "jupytext": {
   "cell_metadata_filter": "-all",
   "main_language": "python",
   "notebook_metadata_filter": "-all"
  }
 },
 "nbformat": 4,
 "nbformat_minor": 2
}
