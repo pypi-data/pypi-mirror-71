{
 "cells": [
  {
   "cell_type": "markdown",
   "metadata": {},
   "source": [
    "# How to get started in Round 2\n",
    "\n",
    "- [Environment Changes](#environment-changes)\n",
    "- [Level generation](#level-generation)\n",
    "- [Observations](#observations)\n",
    "- [Predictions](#predictions)\n",
    "\n",
    "## Environment Changes\n",
    "There have been some major changes in how agents are being handled in the environment in this Flatland update.\n",
    "### Agents\n",
    "Agents are no more permant entities in the environment. Now agents will be removed from the environment as soon as they finsish their task. To keep interactions with the environment as simple as possible we do not modify the dimensions of the observation vectors nor the number of agents. Agents that have finished do not require any special treatment from the controller. Any action provided to these agents is simply ignored, just like before.\n",
    "\n",
    "Start positions of agents are *not unique* anymore. This means that many agents can start from the same position on the railway grid. It is important to keep in mind that whatever agent moves first will block the rest of the agents from moving into the same cell. Thus, the controller can already decide the ordering of the agents from the first step.\n",
    "\n",
    "## Level Generation\n",
    "The levels are now generated using the `sparse_rail_generator` and the `sparse_schedule_generator`\n",
    "### Rail Generation\n",
    "The rail generation is done in a sequence of steps:\n",
    "1. A number of city centers are placed in a a grid of size `(height, width)`\n",
    "2. Each city is connected to two neighbouring cities\n",
    "3. Internal parallel tracks are generated in each city"
   ]
  },
  {
   "cell_type": "markdown",
   "metadata": {},
   "source": [
    "### Schedule Generation\n",
    "The `sparse_schedule_generator` produces tasks for the agents by selecting a starting city and a target city. The agent is then placed on an even track number on the starting city and faced such that a path exists to the target city. The task for the agent is to reach the target position as fast as possible.\n",
    "\n",
    "In the future we will update how these schedules are generated to allow for more complex tasks\n",
    "\n",
    "## Observations\n",
    "Observations have been updated to reflect the novel features and behaviors of Flatland. Have a look at [observation](https://gitlab.aicrowd.com/flatland/flatland/blob/master/flatland/envs/observations.py) or the documentation for more details on the observations.\n",
    "\n",
    "## Predicitons"
   ]
  }
 ],
 "metadata": {
  "jupytext": {
   "cell_metadata_filter": "-all",
   "main_language": "python",
   "notebook_metadata_filter": "-all"
  }
 },
 "nbformat": 4,
 "nbformat_minor": 2
}
