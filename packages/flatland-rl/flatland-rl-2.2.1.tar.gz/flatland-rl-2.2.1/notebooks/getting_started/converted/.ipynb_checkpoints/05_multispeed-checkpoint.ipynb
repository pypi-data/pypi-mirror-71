{
 "cells": [
  {
   "cell_type": "markdown",
   "metadata": {},
   "source": [
    "# Different speed profiles Tutorial\n",
    "\n",
    "One of the main contributions to the complexity of railway network operations stems from the fact that all trains travel at different speeds while sharing a very limited railway network.\n",
    "In **Flat**land 2.0 this feature will be enabled as well and will lead to much more complex configurations. Here we count on your support if you find bugs or improvements  :).\n",
    "\n",
    "The different speed profiles can be generated using the `schedule_generator`, where you can actually chose as many different speeds as you like.\n",
    "Keep in mind that the *fastest speed* is 1 and all slower speeds must be between 1 and 0.\n",
    "For the submission scoring you can assume that there will be no more than 5 speed profiles.\n"
   ]
  },
  {
   "cell_type": "markdown",
   "metadata": {
    "lines_to_next_cell": 0
   },
   "source": [
    "Later versions of **Flat**land might have varying speeds during episodes. Therefore, we return the agent speeds.\n",
    "Notice that we do not guarantee that the speed will be computed at each step, but if not costly we will return it at each step.\n",
    "In your controller, you can get the agents' speed from the `info` returned by `step`:"
   ]
  },
  {
   "cell_type": "code",
   "execution_count": null,
   "metadata": {},
   "outputs": [],
   "source": [
    "obs, rew, done, info = env.step(actions)\n",
    "...\n",
    "for a in range(env.get_num_agents()):\n",
    "    speed = info['speed'][a]"
   ]
  },
  {
   "cell_type": "markdown",
   "metadata": {
    "lines_to_next_cell": 0
   },
   "source": [
    "## Actions and observation with different speed levels\n",
    "\n",
    "Because the different speeds are implemented as fractions the agents ability to perform actions has been updated.\n",
    "We **do not allow actions to change within the cell **.\n",
    "This means that each agent can only chose an action to be taken when entering a cell.\n",
    "This action is then executed when a step to the next cell is valid. For example\n",
    "\n",
    "- Agent enters switch and choses to deviate left. Agent fractional speed is 1/4 and thus the agent will take 4 time steps to complete its journey through the cell. On the 4th time step the agent will leave the cell deviating left as chosen at the entry of the cell.\n",
    "    - All actions chosen by the agent during its travels within a cell are ignored\n",
    "    - Agents can make observations at any time step. Make sure to discard observations without any information. See this [example](https://gitlab.aicrowd.com/flatland/baselines/blob/master/torch_training/training_navigation.py) for a simple implementation.\n",
    "- The environment checks if agent is allowed to move to next cell only at the time of the switch to the next cell\n",
    "\n",
    "In your controller, you can check whether an agent requires an action by checking `info`:"
   ]
  },
  {
   "cell_type": "code",
   "execution_count": null,
   "metadata": {
    "lines_to_next_cell": 0
   },
   "outputs": [],
   "source": [
    "obs, rew, done, info = env.step(actions)\n",
    "...\n",
    "action_dict = dict()\n",
    "for a in range(env.get_num_agents()):\n",
    "    if info['action_required'][a] and info['malfunction'][a] == 0:\n",
    "        action_dict.update({a: ...})\n"
   ]
  },
  {
   "cell_type": "markdown",
   "metadata": {
    "lines_to_next_cell": 0
   },
   "source": [
    "Notice that `info['action_required'][a]` does not mean that the action will have an effect:\n",
    "if the next cell is blocked or the agent breaks down, the action cannot be performed and an action will be required again in the next step.\n",
    "\n",
    "## Rail Generators and Schedule Generators\n",
    "The separation between rail generator and schedule generator reflects the organisational separation in the railway domain\n",
    "- Infrastructure Manager (IM): is responsible for the layout and maintenance of tracks\n",
    "- Railway Undertaking (RU): operates trains on the infrastructure\n",
    "Usually, there is a third organisation, which ensures discrimination-free access to the infrastructure for concurrent requests for the infrastructure in a **schedule planning phase**.\n",
    "However, in the **Flat**land challenge, we focus on the re-scheduling problem during live operations.\n",
    "\n",
    "Technically,"
   ]
  },
  {
   "cell_type": "code",
   "execution_count": null,
   "metadata": {},
   "outputs": [],
   "source": [
    "RailGeneratorProduct = Tuple[GridTransitionMap, Optional[Any]]\n",
    "RailGenerator = Callable[[int, int, int, int], RailGeneratorProduct]\n",
    "\n",
    "AgentPosition = Tuple[int, int]\n",
    "Schedule = collections.namedtuple('Schedule',   'agent_positions '\n",
    "                                                'agent_directions '\n",
    "                                                'agent_targets '\n",
    "                                                'agent_speeds '\n",
    "                                                'agent_malfunction_rates '\n",
    "                                                'max_episode_steps')\n",
    "ScheduleGenerator = Callable[[GridTransitionMap, int, Optional[Any], Optional[int]], Schedule]"
   ]
  },
  {
   "cell_type": "markdown",
   "metadata": {
    "lines_to_next_cell": 0
   },
   "source": [
    "We can then produce `RailGenerator`s by currying:"
   ]
  },
  {
   "cell_type": "code",
   "execution_count": null,
   "metadata": {
    "lines_to_next_cell": 0
   },
   "outputs": [],
   "source": [
    "def sparse_rail_generator(num_cities=5, num_intersections=4, num_trainstations=2, min_node_dist=20, node_radius=2,\n",
    "                          num_neighb=3, grid_mode=False, enhance_intersection=False, seed=1):\n",
    "\n",
    "    def generator(width, height, num_agents, num_resets=0):\n",
    "\n",
    "        # generate the grid and (optionally) some hints for the schedule_generator\n",
    "        ...\n",
    "\n",
    "        return grid_map, {'agents_hints': {\n",
    "            'num_agents': num_agents,\n",
    "            'agent_start_targets_nodes': agent_start_targets_nodes,\n",
    "            'train_stations': train_stations\n",
    "        }}\n",
    "\n",
    "    return generator"
   ]
  },
  {
   "cell_type": "markdown",
   "metadata": {
    "lines_to_next_cell": 0
   },
   "source": [
    "And, similarly, `ScheduleGenerator`s:"
   ]
  },
  {
   "cell_type": "code",
   "execution_count": null,
   "metadata": {
    "lines_to_next_cell": 0
   },
   "outputs": [],
   "source": [
    "def sparse_schedule_generator(speed_ratio_map: Mapping[float, float] = None) -> ScheduleGenerator:\n",
    "    def generator(rail: GridTransitionMap, num_agents: int, hints: Any = None):\n",
    "        # place agents:\n",
    "        # - initial position\n",
    "        # - initial direction\n",
    "        # - (initial) speed\n",
    "        # - malfunction\n",
    "        ...\n",
    "\n",
    "        return agents_position, agents_direction, agents_target, speeds, agents_malfunction\n",
    "\n",
    "    return generator"
   ]
  },
  {
   "cell_type": "markdown",
   "metadata": {
    "lines_to_next_cell": 0
   },
   "source": [
    "Notice that the `rail_generator` may pass `agents_hints` to the  `schedule_generator` which the latter may interpret.\n",
    "For instance, the way the `sparse_rail_generator` generates the grid, it already determines the agent's goal and target.\n",
    "Hence, `rail_generator` and `schedule_generator` have to match if `schedule_generator` presupposes some specific `agents_hints`.\n",
    "\n",
    "The environment's `reset` takes care of applying the two generators:"
   ]
  },
  {
   "cell_type": "code",
   "execution_count": null,
   "metadata": {
    "lines_to_next_cell": 2
   },
   "outputs": [],
   "source": [
    "    def __init__(self,\n",
    "            ...\n",
    "             rail_generator: RailGenerator = random_rail_generator(),\n",
    "             schedule_generator: ScheduleGenerator = random_schedule_generator(),\n",
    "             ...\n",
    "             ):\n",
    "        self.rail_generator: RailGenerator = rail_generator\n",
    "        self.schedule_generator: ScheduleGenerator = schedule_generator\n",
    "\n",
    "    def reset(self, regenerate_rail=True, regenerate_schedule=True):\n",
    "        rail, optionals = self.rail_generator(self.width, self.height, self.get_num_agents(), self.num_resets)\n",
    "\n",
    "        ...\n",
    "\n",
    "        if replace_agents:\n",
    "            agents_hints = None\n",
    "            if optionals and 'agents_hints' in optionals:\n",
    "                agents_hints = optionals['agents_hints']\n",
    "            self.agents_static = EnvAgentStatic.from_lists(\n",
    "                self.schedule_generator(self.rail, self.get_num_agents(), hints=agents_hints))"
   ]
  },
  {
   "cell_type": "markdown",
   "metadata": {},
   "source": [
    "## Example code\n",
    "\n",
    "To see all the changes in action you can just run the `flatland_example_2_0.py` file in the examples folder. The file can be found [here](https://gitlab.aicrowd.com/flatland/flatland/blob/master/examples/flatland_2_0_example.py)."
   ]
  }
 ],
 "metadata": {
  "jupytext": {
   "cell_metadata_filter": "-all",
   "main_language": "python",
   "notebook_metadata_filter": "-all"
  }
 },
 "nbformat": 4,
 "nbformat_minor": 2
}
