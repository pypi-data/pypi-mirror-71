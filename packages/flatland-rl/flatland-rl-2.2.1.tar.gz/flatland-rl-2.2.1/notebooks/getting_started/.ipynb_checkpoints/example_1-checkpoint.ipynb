{
 "cells": [
  {
   "cell_type": "code",
   "execution_count": 1,
   "metadata": {},
   "outputs": [
    {
     "name": "stdout",
     "output_type": "stream",
     "text": [
      "Flask static folder:  /Users/flaurent/Sites/flatland/flatland/notebooks/getting_started/static\n"
     ]
    }
   ],
   "source": [
    "from flatland.envs.rail_env import RailEnv, RailEnvActions\n",
    "from flatland.envs.rail_generators import rail_from_manual_specifications_generator\n",
    "from flatland.utils.rendertools import RenderTool, AgentRenderVariant\n",
    "import time\n",
    "from ipycanvas import Canvas"
   ]
  },
  {
   "cell_type": "code",
   "execution_count": 13,
   "metadata": {},
   "outputs": [],
   "source": [
    "# notebook-specific imports\n",
    "from IPython.core.display import display, clear_output"
   ]
  },
  {
   "cell_type": "code",
   "execution_count": 3,
   "metadata": {},
   "outputs": [],
   "source": [
    "# Example generate a rail given a manual specification,\n",
    "# a map of tuples (cell_type, rotation)\n",
    "specs = [[(0, 0), (0, 0), (0, 0), (0, 0), (0, 0), (0, 0)],\n",
    "         [(0, 0), (0, 0), (0, 0), (0, 0), (7, 0), (0, 0)],\n",
    "         [(7, 270), (1, 90), (1, 90), (1, 90), (2, 90), (7, 90)],\n",
    "         [(0, 0), (0, 0), (0, 0), (0, 0), (0, 0), (0, 0)]]\n",
    "\n",
    "env = RailEnv(width=6, \n",
    "              height=4, \n",
    "              rail_generator=rail_from_manual_specifications_generator(specs), \n",
    "              number_of_agents=1\n",
    "             )\n"
   ]
  },
  {
   "cell_type": "code",
   "execution_count": 4,
   "metadata": {},
   "outputs": [],
   "source": [
    "env.reset();"
   ]
  },
  {
   "cell_type": "code",
   "execution_count": 5,
   "metadata": {},
   "outputs": [],
   "source": [
    "# Step the env, with an action for the agent, which causes it to become \"active\"\n",
    "# You can re-run this cell to take another step.\n",
    "# In this example the agent terminates after just 2 or 3 steps.\n",
    "env.step({0: RailEnvActions.MOVE_FORWARD});"
   ]
  },
  {
   "cell_type": "code",
   "execution_count": 6,
   "metadata": {},
   "outputs": [],
   "source": [
    "env_renderer = render_pil = RenderTool(env, gl=\"PILSVG\",\n",
    "                          agent_render_variant=AgentRenderVariant.ONE_STEP_BEHIND,\n",
    "                          show_debug=False,\n",
    "                          screen_height=1000,  # Adjust these parameters to fit your resolution\n",
    "                          screen_width=1300)  # Adjust these parameters to fit your resolution\n",
    "\n",
    "env_renderer.reset()"
   ]
  },
  {
   "cell_type": "code",
   "execution_count": 11,
   "metadata": {},
   "outputs": [],
   "source": [
    "render_pil.render_env(show=False, show_observations=False, show_predictions=False, show_agents=True)\n",
    "img = render_pil.get_image()\n",
    "canvas = Canvas(size=(img.shape[0], img.shape[1]))\n",
    "canvas.put_image_data(g2Img)"
   ]
  },
  {
   "cell_type": "code",
   "execution_count": 12,
   "metadata": {},
   "outputs": [
    {
     "data": {
      "application/vnd.jupyter.widget-view+json": {
       "model_id": "c13daeb9cb9d43ec905ef3a89bd37997",
       "version_major": 2,
       "version_minor": 0
      },
      "text/plain": [
       "Canvas(layout=Layout(height='664px', width='444px'), size=(444, 664))"
      ]
     },
     "metadata": {},
     "output_type": "display_data"
    }
   ],
   "source": [
    "canvas"
   ]
  },
  {
   "cell_type": "code",
   "execution_count": null,
   "metadata": {},
   "outputs": [],
   "source": []
  }
 ],
 "metadata": {
  "kernelspec": {
   "display_name": "Python 3",
   "language": "python",
   "name": "python3"
  },
  "language_info": {
   "codemirror_mode": {
    "name": "ipython",
    "version": 3
   },
   "file_extension": ".py",
   "mimetype": "text/x-python",
   "name": "python",
   "nbconvert_exporter": "python",
   "pygments_lexer": "ipython3",
   "version": "3.6.9"
  }
 },
 "nbformat": 4,
 "nbformat_minor": 4
}
