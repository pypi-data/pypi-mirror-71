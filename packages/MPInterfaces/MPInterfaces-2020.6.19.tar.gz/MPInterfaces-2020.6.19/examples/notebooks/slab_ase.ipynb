{
 "metadata": {
  "name": "",
  "signature": "sha256:ffb5b0e2ba841741ce9f538b8a4a400d3a9c2ec754390c5961eaa346d0b4a348"
 },
 "nbformat": 3,
 "nbformat_minor": 0,
 "worksheets": [
  {
   "cells": [
    {
     "cell_type": "code",
     "collapsed": false,
     "input": [
      "TEST_DIR='/home/matk/Software/vasp_automation/test/'\n",
      "\n",
      "from ase.lattice.surface import fcc111\n",
      "from ase.io.vasp import write_vasp\n",
      "\n",
      "pt_slab = fcc111('Pt', size=(2,2,5), vacuum=10.0, orthogonal=True)\n",
      "\n",
      "write_vasp(TEST_DIR+'POSCAR_pt_ase.vasp', pt_slab,\n",
      "           direct=False, sort=None,\n",
      "           symbol_count=None, long_format=True, \n",
      "           vasp5=True )"
     ],
     "language": "python",
     "metadata": {},
     "outputs": [],
     "prompt_number": 1
    },
    {
     "cell_type": "code",
     "collapsed": false,
     "input": [
      "#%load TEST_DIR+/POSCAR_pt_ase.vasp\n",
      "\n",
      "#from ase.io.png import write_png\n",
      "#write_png(TEST_DIR+'test.png', slab)\n",
      "\n",
      "#from IPython.display import Image\n",
      "#Image(filename='TEST_DIR+test.png')\n",
      "\n",
      "#from ase.visualize import view\n",
      "#view(pt_slab)\n",
      "#pt_slab.edit()"
     ],
     "language": "python",
     "metadata": {},
     "outputs": [],
     "prompt_number": 2
    },
    {
     "cell_type": "code",
     "collapsed": false,
     "input": [
      "from ase import Atoms\n",
      "from ase.lattice.surface import surface\n",
      "\n",
      "a = 6.0\n",
      "\n",
      "pbs_conventional = Atoms('Pb4S4',\n",
      "                         scaled_positions=[(0, 0, 0),\n",
      "                                           (0.5, 0.5, 0),\n",
      "                                           (0.5, 0, 0.5),\n",
      "                                           (0, 0.5, 0.5),\n",
      "                                           (0, 0.5, 0),\n",
      "                                           (0, 0, 0.5),\n",
      "                                           (0.5, 0, 0),\n",
      "                                           (0.5, 0.5, 0.5)],\n",
      "                        cell=[a, a, a],\n",
      "                        pbc=True)\n",
      "#111, 2 layers\n",
      "pbs_slab1 = surface(pbs_conventional, (1, 1, 1), 2)\n",
      "pbs_slab1.center(vacuum=10, axis=2)\n",
      "\n",
      "write_vasp(TEST_DIR+'POSCAR_pbs_ase1.vasp', pbs_slab1,\n",
      "           direct=False, sort=None,\n",
      "           symbol_count=None, long_format=True, \n",
      "           vasp5=True)"
     ],
     "language": "python",
     "metadata": {},
     "outputs": [],
     "prompt_number": 3
    },
    {
     "cell_type": "code",
     "collapsed": false,
     "input": [
      "from ase.io.vasp import read_vasp\n",
      "\n",
      "#primitve PbS from materialsproject\n",
      "pbs_primitive = read_vasp(filename=TEST_DIR+'POSCAR.mp-21276_PbS')\n",
      "\n",
      "#111, 2 layers\n",
      "pbs_slab2 = surface(pbs_primitive, (1, 1, 1), 2)\n",
      "pbs_slab2.center(vacuum=10, axis=2)\n",
      "\n",
      "write_vasp(TEST_DIR+'POSCAR_pbs_ase2.vasp', pbs_slab2, \n",
      "           direct=False, sort=None,\n",
      "           symbol_count=None, long_format=True, \n",
      "           vasp5=True)"
     ],
     "language": "python",
     "metadata": {},
     "outputs": [],
     "prompt_number": 4
    },
    {
     "cell_type": "code",
     "collapsed": false,
     "input": [
      "#convert ase Atoms object to pymatgen Structure object\n",
      "from pymatgen.io.aseio import AseAtomsAdaptor\n",
      "\n",
      "pmg_structure = AseAtomsAdaptor().get_structure(pbs_slab2)\n",
      "print pmg_structure"
     ],
     "language": "python",
     "metadata": {},
     "outputs": [
      {
       "output_type": "stream",
       "stream": "stdout",
       "text": [
        "Structure Summary (Pb2 S2)\n",
        "Reduced Formula: PbS\n",
        "abc   :   4.244924   4.244924  25.198949\n",
        "angles:  90.000000  90.000000  60.000000\n",
        "Sites (4)\n",
        "1 Pb     0.000000     0.000000     0.396842\n",
        "2 S     0.333333     0.333333     0.465614\n",
        "3 Pb     0.666667     0.666667     0.534386\n",
        "4 S     1.000000     0.000000     0.603158\n"
       ]
      }
     ],
     "prompt_number": 5
    },
    {
     "cell_type": "code",
     "collapsed": false,
     "input": [],
     "language": "python",
     "metadata": {},
     "outputs": [],
     "prompt_number": 5
    }
   ],
   "metadata": {}
  }
 ]
}