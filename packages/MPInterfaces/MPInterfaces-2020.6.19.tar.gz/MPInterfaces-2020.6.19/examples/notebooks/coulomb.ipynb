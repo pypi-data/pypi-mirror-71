{
 "metadata": {
  "name": "",
  "signature": "sha256:d0fdca0d88a18beb67bbe350e03883703d0f08570ae4eb5750baa59d488586a4"
 },
 "nbformat": 3,
 "nbformat_minor": 0,
 "worksheets": [
  {
   "cells": [
    {
     "cell_type": "code",
     "collapsed": false,
     "input": [
      "from pymatgen import Structure, Molecule\n",
      "from monty.json import MontyDecoder\n",
      "from monty.serialization import loadfn"
     ],
     "language": "python",
     "metadata": {},
     "outputs": [],
     "prompt_number": 1
    },
    {
     "cell_type": "code",
     "collapsed": false,
     "input": [
      "#define the coulomb energy model\n",
      "from pymatgen.analysis.energy_models import EnergyModel\n",
      "\n",
      "class ColoumbEnergy(EnergyModel):\n",
      "    def get_energy(self, structure):\n",
      "        \"\"\"\n",
      "        use the atomic numbers of the structures's elements to compute \n",
      "        the coloumbic energy of the structure\n",
      "        \"\"\"\n",
      "        energy = 0\n",
      "        for i, sitei in enumerate(structure):\n",
      "            for j, sitej in enumerate(structure):\n",
      "                if i != j:\n",
      "                    dij = structure.get_distance(i,j)\n",
      "                    Zi = sitei.species_and_occu.items()[0][0].Z\n",
      "                    Zj = sitej.species_and_occu.items()[0][0].Z\n",
      "                    energy += 0.5 * Zi*Zj/dij\n",
      "        return energy\n",
      "    \n",
      "    def as_dict(self):\n",
      "        return {\"version\": __version__,\n",
      "                \"@module\": self.__class__.__module__,\n",
      "                \"@class\": self.__class__.__name__,\n",
      "                \"init_args\": {\"name\":\"coloumb\"} }\n",
      "        "
     ],
     "language": "python",
     "metadata": {},
     "outputs": [],
     "prompt_number": 2
    },
    {
     "cell_type": "code",
     "collapsed": false,
     "input": [
      "#examples:\n",
      "acetic_acid = Molecule.from_file('../test/acetic_acid.xyz')\n",
      "cscl = loadfn('/home/matk/Software/pymatgen/pymatgen/util/structures/CsCl.json', cls=MontyDecoder)\n",
      "ce = ColoumbEnergy()\n",
      "print ce.get_energy(acetic_acid)\n",
      "print ce.get_energy(cscl)"
     ],
     "language": "python",
     "metadata": {},
     "outputs": [
      {
       "output_type": "stream",
       "stream": "stdout",
       "text": [
        "227.515696545\n",
        "256.508672698\n"
       ]
      }
     ],
     "prompt_number": 3
    },
    {
     "cell_type": "code",
     "collapsed": false,
     "input": [
      "#sort structures based on their coloumbic energies\n",
      "all_structures = dict([(acetic_acid.composition.formula, ce.get_energy(acetic_acid)),\n",
      "                       (cscl.composition.formula, ce.get_energy(cscl))\n",
      "                       ])\n",
      "sorted(all_structures.items(), key=lambda d: d[1])"
     ],
     "language": "python",
     "metadata": {},
     "outputs": [
      {
       "metadata": {},
       "output_type": "pyout",
       "prompt_number": 4,
       "text": [
        "[(u'H4 C2 O2', 227.51569654479172), (u'Cs1 Cl1', 256.5086726976955)]"
       ]
      }
     ],
     "prompt_number": 4
    },
    {
     "cell_type": "code",
     "collapsed": false,
     "input": [
      "#add oxidation states to molecule\n",
      "\n",
      "from pymatgen.core.sites import Site\n",
      "from pymatgen.core.periodic_table import Specie\n",
      "\n",
      "def add_oxidation_states(oxidation_states, molecule):\n",
      "    new_sites = []\n",
      "    for i, site in enumerate(molecule):\n",
      "        new_sp = {}\n",
      "        for el, occu in site.species_and_occu.items():\n",
      "            sym = el.symbol\n",
      "            new_sp[Specie(sym, oxidation_states[sym])] = occu\n",
      "            new_site = Site(new_sp, site.coords,properties=site.properties)\n",
      "            new_sites.append(new_site)\n",
      "    return Molecule.from_sites(new_sites)"
     ],
     "language": "python",
     "metadata": {},
     "outputs": [],
     "prompt_number": 5
    },
    {
     "cell_type": "code",
     "collapsed": false,
     "input": [
      "oxidation_states = {'C':4, 'O':-2, 'H':1}\n",
      "acetic_acid_decorated = add_oxidation_states(oxidation_states, acetic_acid)\n",
      "print acetic_acid_decorated"
     ],
     "language": "python",
     "metadata": {},
     "outputs": [
      {
       "output_type": "stream",
       "stream": "stdout",
       "text": [
        "Molecule Summary (H4 C2 O2)\n",
        "Reduced Formula: H2CO\n",
        "Charge = 0, Spin Mult = 1\n",
        "Sites (8)\n",
        "1 C4+     1.079784    -0.892321     0.000000\n",
        "2 C4+     0.000000     0.155304     0.000000\n",
        "3 O2-     0.167514     1.358238     0.000000\n",
        "4 H+     2.060132    -0.408887     0.000000\n",
        "5 H+     0.977098    -1.536687     0.883544\n",
        "6 H+     0.977098    -1.536687    -0.883544\n",
        "7 O2-    -1.244586    -0.412073     0.000000\n",
        "8 H+    -1.876454     0.335039     0.000000\n"
       ]
      }
     ],
     "prompt_number": 6
    },
    {
     "cell_type": "code",
     "collapsed": false,
     "input": [
      "#add oxidation states to structures\n",
      "oxidation_states = {'Cs':1, 'Cl':-1}\n",
      "\n",
      "cscl.add_oxidation_state_by_element(oxidation_states)\n",
      "\n",
      "#access oxidation state and ionic radius\n",
      "for site in cscl:\n",
      "    specie = site.species_and_occu.keys()[0] \n",
      "    print specie.element, specie.oxi_state, specie.ionic_radius\n",
      "    \n",
      "#    for sp, amt in site.species_and_occu.items():\n",
      "#        print sp.Z, sp.X, sp.oxidation_states, sp.ionic_radii, sp.common_oxidation_states, sp.full_electronic_structure"
     ],
     "language": "python",
     "metadata": {},
     "outputs": [
      {
       "output_type": "stream",
       "stream": "stdout",
       "text": [
        "Cs 1 1.81 ang\n",
        "Cl -1 1.67 ang\n"
       ]
      }
     ],
     "prompt_number": 7
    },
    {
     "cell_type": "code",
     "collapsed": false,
     "input": [
      "###oxidation state decorations using pymatgen.core.transformations\n",
      "##manual oxiadtion state decoration\n",
      "#only works for Structure objects\n",
      "#from pymatgen.transformations.standard_transformations import OxidationStateDecorationTransformation\n",
      "#oxdec = OxidationStateDecorationTransformation({'Cs':1, 'Cl':-1})\n",
      "#s_ox = oxdec.apply_transformation(cscl)\n",
      "\n",
      "##automatic oxidation state decoration\n",
      "##only works for Structure objects\n",
      "#from pymatgen.transformations.standard_transformations import AutoOxiStateDecorationTransformation\n",
      "#auto_oxdec = AutoOxiStateDecorationTransformation()\n",
      "#print auto_oxdec.apply_transformation(cscl)"
     ],
     "language": "python",
     "metadata": {},
     "outputs": [],
     "prompt_number": 8
    },
    {
     "cell_type": "code",
     "collapsed": false,
     "input": [],
     "language": "python",
     "metadata": {},
     "outputs": [],
     "prompt_number": 8
    }
   ],
   "metadata": {}
  }
 ]
}