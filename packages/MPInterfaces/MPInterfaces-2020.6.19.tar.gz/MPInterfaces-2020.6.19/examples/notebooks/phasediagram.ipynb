{
 "metadata": {
  "name": "",
  "signature": "sha256:8e05d70a85aae7a4daf3009f8aacb9c56af68de81d59f68bc3e908f577f4f7bf"
 },
 "nbformat": 3,
 "nbformat_minor": 0,
 "worksheets": [
  {
   "cells": [
    {
     "cell_type": "code",
     "collapsed": false,
     "input": [
      "%matplotlib inline\n",
      "import numpy as np\n",
      "\n",
      "from pymatgen.matproj.rest import MPRester\n",
      "from pymatgen.core.composition import Composition\n",
      "from pymatgen.entries.computed_entries import ComputedEntry\n",
      "from pymatgen.phasediagram.pdmaker import PhaseDiagram\n",
      "from pymatgen.phasediagram.plotter import PDPlotter"
     ],
     "language": "python",
     "metadata": {},
     "outputs": []
    },
    {
     "cell_type": "code",
     "collapsed": false,
     "input": [
      "a = MPRester(\"dwvz2XCFUEI9fJiR\")"
     ],
     "language": "python",
     "metadata": {},
     "outputs": []
    },
    {
     "cell_type": "code",
     "collapsed": false,
     "input": [
      "entries = a.get_entries_in_chemsys(['Sn', 'O'])\n",
      "#exp_entries = a.get_exp_entry(\"SnO\")\n",
      "#print exp_entries"
     ],
     "language": "python",
     "metadata": {},
     "outputs": []
    },
    {
     "cell_type": "code",
     "collapsed": false,
     "input": [
      "pd = PhaseDiagram(entries)\n",
      "print [entry.name for entry in pd.stable_entries]\n",
      "plotter = PDPlotter(pd)\n",
      "plotter.show()"
     ],
     "language": "python",
     "metadata": {},
     "outputs": []
    },
    {
     "cell_type": "markdown",
     "metadata": {},
     "source": [
      "Corrections"
     ]
    },
    {
     "cell_type": "code",
     "collapsed": false,
     "input": [
      "#entries_corr = list()\n",
      "energy_corr_2d = 0.1 #eV per SnO, 100 meV/atom, paper #87\n",
      "\n",
      "for entry in entries:\n",
      "    red_comp, factor = entry.composition.get_reduced_composition_and_factor()\n",
      "    if red_comp == Composition(\"SnO\"):\n",
      "        entry.correction += energy_corr_2d\n",
      "#    entries_corr.append(ComputedEntry(entry.composition, entry.uncorrected_energy, correction=entry.correction,\n",
      "#                      parameters=entry.parameters, data=entry.data, entry_id=entry.entry_id, attribute=entry.attribute))"
     ],
     "language": "python",
     "metadata": {},
     "outputs": []
    },
    {
     "cell_type": "code",
     "collapsed": false,
     "input": [
      "pd = PhaseDiagram(entries)\n",
      "print [entry.name for entry in pd.stable_entries]\n",
      "plotter = PDPlotter(pd)\n",
      "#plotter.write_image('SnO')\n",
      "plotter.show()"
     ],
     "language": "python",
     "metadata": {},
     "outputs": []
    },
    {
     "cell_type": "code",
     "collapsed": false,
     "input": [],
     "language": "python",
     "metadata": {},
     "outputs": []
    }
   ],
   "metadata": {}
  }
 ]
}