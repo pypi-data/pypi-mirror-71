{
 "cells": [
  {
   "cell_type": "markdown",
   "metadata": {},
   "source": [
    "# NWBWidgets for Allen Institute Neuropixel data\n",
    "\n",
    "1) Requires `allensdk` and `nwbwidgets`\n",
    "\n",
    "2) If using first release of Neuropixel files, you need to run them through [this script](https://github.com/catalystneuro/allen-institute-neuropixel-utils/blob/master/fix_neuropixel.py) so that they are readable by the latest PyNWB"
   ]
  },
  {
   "cell_type": "code",
   "execution_count": null,
   "metadata": {
    "scrolled": false
   },
   "outputs": [],
   "source": [
    "from nwbwidgets import nwb2widget\n",
    "from pynwb import NWBHDF5IO\n",
    "import allensdk.brain_observatory.ecephys.nwb\n",
    "from nwbwidgets.allen import load_allen_widgets\n",
    "\n",
    "load_allen_widgets()\n",
    "\n",
    "fpath = 'path/to/ecephys_session_715093703.nwb'\n",
    "\n",
    "file = NWBHDF5IO(fpath, 'r')\n",
    "nwb = file.read()"
   ]
  },
  {
   "cell_type": "code",
   "execution_count": null,
   "metadata": {},
   "outputs": [],
   "source": [
    "nwb2widget(nwb)"
   ]
  }
 ],
 "metadata": {
  "kernelspec": {
   "display_name": "Python 3",
   "language": "python",
   "name": "python3"
  },
  "language_info": {
   "codemirror_mode": {
    "name": "ipython",
    "version": 3
   },
   "file_extension": ".py",
   "mimetype": "text/x-python",
   "name": "python",
   "nbconvert_exporter": "python",
   "pygments_lexer": "ipython3",
   "version": "3.7.4"
  }
 },
 "nbformat": 4,
 "nbformat_minor": 2
}
