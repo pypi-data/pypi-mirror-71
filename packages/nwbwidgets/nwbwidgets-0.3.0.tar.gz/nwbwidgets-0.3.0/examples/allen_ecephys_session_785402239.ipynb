{
 "cells": [
  {
   "cell_type": "code",
   "execution_count": 1,
   "metadata": {},
   "outputs": [],
   "source": [
    "from nwbwidgets import nwb2widget\n",
    "import nwbwidgets\n",
    "from pynwb import NWBHDF5IO\n",
    "import pynwb\n",
    "\n",
    "import pandas as pd\n",
    "import numpy as np\n",
    "\n",
    "from collections import OrderedDict"
   ]
  },
  {
   "cell_type": "code",
   "execution_count": 2,
   "metadata": {},
   "outputs": [],
   "source": [
    "from ipywidgets import widgets\n",
    "from ipywidgets import interactive\n",
    "\n",
    "from IPython import display\n",
    "\n",
    "\n",
    "class SimpleInteractiveTables:\n",
    "\n",
    "    def __init__(self, tables=None):\n",
    "        if tables is None:\n",
    "            tables = {}\n",
    "        self.tables = tables\n",
    "    \n",
    "    def __call__(self, node, **kwargs):\n",
    "        if node.name not in self.tables:\n",
    "            self.tables[node.name] = self.build_table(node)\n",
    "        df = self.tables[node.name]\n",
    "        \n",
    "        def view(bounds, columns):\n",
    "            return display.display(df.iloc[bounds[0]:bounds[1], :].loc[:, columns])\n",
    "\n",
    "        _slider = widgets.IntRangeSlider(\n",
    "            value=[0, 10],\n",
    "            min=0,\n",
    "            max=df.shape[0],\n",
    "            step=1,\n",
    "            continuous_update=False,\n",
    "        )\n",
    "\n",
    "        _columns = widgets.SelectMultiple(\n",
    "            options=df.columns.values,\n",
    "            value=tuple(df.columns.values),\n",
    "        )\n",
    "\n",
    "        return interactive(view, bounds=_slider, columns=_columns)\n",
    "    \n",
    "    def build_table(self, node):\n",
    "        df = node.to_dataframe(exclude=set(['timeseries', 'timeseries_index']))\n",
    "        df.sort_values(by='id', axis=0, inplace=True)\n",
    "        return df\n",
    "\n",
    "vis_spec = OrderedDict({\n",
    "    pynwb.misc.AnnotationSeries: OrderedDict({\n",
    "        'text': nwbwidgets.view.show_text_fields,\n",
    "        'times': nwbwidgets.misc.show_annotations}),\n",
    "    pynwb.core.LabelledDict: nwbwidgets.view.dict2accordion,\n",
    "    pynwb.ProcessingModule: lambda x: nwbwidgets.nwb2widget(x.data_interfaces),\n",
    "    pynwb.core.DynamicTable: SimpleInteractiveTables(),\n",
    "    pynwb.ecephys.LFP: nwbwidgets.ecephys.show_lfp,\n",
    "    pynwb.behavior.Position: nwbwidgets.behavior.show_position,\n",
    "    pynwb.behavior.SpatialSeries: nwbwidgets.behavior.show_spatial_series,\n",
    "    pynwb.TimeSeries: nwbwidgets.base.show_timeseries,\n",
    "    pynwb.core.NWBBaseType: nwbwidgets.base.show_neurodata_base\n",
    "})\n"
   ]
  },
  {
   "cell_type": "code",
   "execution_count": 3,
   "metadata": {
    "scrolled": false
   },
   "outputs": [
    {
     "data": {
      "application/vnd.jupyter.widget-view+json": {
       "model_id": "02fbd96288134520b6ed824be73f7289",
       "version_major": 2,
       "version_minor": 0
      },
      "text/plain": [
       "VBox(children=(Accordion(children=(Accordion(children=(HTML(value='Rendering...'), HTML(value='Rendering...'))…"
      ]
     },
     "metadata": {},
     "output_type": "display_data"
    }
   ],
   "source": [
    "path = 'ecephys_session_785402239.nwb'\n",
    "\n",
    "io = NWBHDF5IO(path, 'r')\n",
    "nwbfile = io.read()\n",
    "\n",
    "nwbwidgets.nwb2widget(nwbfile, vis_spec)"
   ]
  },
  {
   "cell_type": "code",
   "execution_count": 4,
   "metadata": {},
   "outputs": [],
   "source": [
    "io.close()"
   ]
  },
  {
   "cell_type": "code",
   "execution_count": null,
   "metadata": {},
   "outputs": [],
   "source": []
  }
 ],
 "metadata": {
  "kernelspec": {
   "display_name": "py37",
   "language": "python",
   "name": "py37"
  },
  "language_info": {
   "codemirror_mode": {
    "name": "ipython",
    "version": 3
   },
   "file_extension": ".py",
   "mimetype": "text/x-python",
   "name": "python",
   "nbconvert_exporter": "python",
   "pygments_lexer": "ipython3",
   "version": "3.7.3"
  }
 },
 "nbformat": 4,
 "nbformat_minor": 2
}
