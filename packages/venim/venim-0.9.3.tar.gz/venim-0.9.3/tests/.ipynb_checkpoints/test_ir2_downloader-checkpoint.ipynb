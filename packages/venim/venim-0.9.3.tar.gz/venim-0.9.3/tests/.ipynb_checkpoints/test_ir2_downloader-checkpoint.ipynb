{
 "cells": [
  {
   "cell_type": "code",
   "execution_count": 1,
   "metadata": {},
   "outputs": [],
   "source": [
    "from venim.akatsuki import ir2"
   ]
  },
  {
   "cell_type": "code",
   "execution_count": 2,
   "metadata": {},
   "outputs": [],
   "source": [
    "dl = ir2.Downloader(orbit=25)"
   ]
  },
  {
   "cell_type": "code",
   "execution_count": 3,
   "metadata": {},
   "outputs": [
    {
     "data": {
      "text/plain": [
       "'r0025'"
      ]
     },
     "execution_count": 3,
     "metadata": {},
     "output_type": "execute_result"
    }
   ],
   "source": [
    "dl.orbit"
   ]
  },
  {
   "cell_type": "code",
   "execution_count": 4,
   "metadata": {},
   "outputs": [
    {
     "data": {
      "text/plain": [
       "'calibrated'"
      ]
     },
     "execution_count": 4,
     "metadata": {},
     "output_type": "execute_result"
    }
   ],
   "source": [
    "dl.level"
   ]
  },
  {
   "cell_type": "code",
   "execution_count": 5,
   "metadata": {},
   "outputs": [
    {
     "data": {
      "text/plain": [
       "PosixPath('/Users/klay6683/Dropbox/data/venim/akatsuki/ir2/calibrated')"
      ]
     },
     "execution_count": 5,
     "metadata": {},
     "output_type": "execute_result"
    }
   ],
   "source": [
    "dl.savedir"
   ]
  },
  {
   "cell_type": "code",
   "execution_count": 7,
   "metadata": {},
   "outputs": [
    {
     "data": {
      "text/html": [
       "<div>\n",
       "<style scoped>\n",
       "    .dataframe tbody tr th:only-of-type {\n",
       "        vertical-align: middle;\n",
       "    }\n",
       "\n",
       "    .dataframe tbody tr th {\n",
       "        vertical-align: top;\n",
       "    }\n",
       "\n",
       "    .dataframe thead th {\n",
       "        text-align: right;\n",
       "    }\n",
       "</style>\n",
       "<table border=\"1\" class=\"dataframe\">\n",
       "  <thead>\n",
       "    <tr style=\"text-align: right;\">\n",
       "      <th></th>\n",
       "      <th>filename</th>\n",
       "      <th>time</th>\n",
       "      <th>size</th>\n",
       "      <th>datestr</th>\n",
       "      <th>timestr</th>\n",
       "      <th>datetime</th>\n",
       "    </tr>\n",
       "  </thead>\n",
       "  <tbody>\n",
       "    <tr>\n",
       "      <th>0</th>\n",
       "      <td>ir2_20160824_193142_202_l2b_v10.fit</td>\n",
       "      <td>2019-06-03 15:08</td>\n",
       "      <td>4.0M</td>\n",
       "      <td>20160824</td>\n",
       "      <td>193142</td>\n",
       "      <td>2016-08-24 19:31:42</td>\n",
       "    </tr>\n",
       "    <tr>\n",
       "      <th>1</th>\n",
       "      <td>ir2_20160824_193142_202_l2b_v10.lbl</td>\n",
       "      <td>2019-06-03 15:08</td>\n",
       "      <td>7.1K</td>\n",
       "      <td>20160824</td>\n",
       "      <td>193142</td>\n",
       "      <td>2016-08-24 19:31:42</td>\n",
       "    </tr>\n",
       "    <tr>\n",
       "      <th>2</th>\n",
       "      <td>ir2_20160824_203242_202_l2b_v10.fit</td>\n",
       "      <td>2019-06-03 15:08</td>\n",
       "      <td>4.0M</td>\n",
       "      <td>20160824</td>\n",
       "      <td>203242</td>\n",
       "      <td>2016-08-24 20:32:42</td>\n",
       "    </tr>\n",
       "    <tr>\n",
       "      <th>3</th>\n",
       "      <td>ir2_20160824_203242_202_l2b_v10.lbl</td>\n",
       "      <td>2019-06-03 15:08</td>\n",
       "      <td>7.1K</td>\n",
       "      <td>20160824</td>\n",
       "      <td>203242</td>\n",
       "      <td>2016-08-24 20:32:42</td>\n",
       "    </tr>\n",
       "    <tr>\n",
       "      <th>4</th>\n",
       "      <td>ir2_20160824_220044_202_l2b_v10.fit</td>\n",
       "      <td>2019-06-03 15:08</td>\n",
       "      <td>4.0M</td>\n",
       "      <td>20160824</td>\n",
       "      <td>220044</td>\n",
       "      <td>2016-08-24 22:00:44</td>\n",
       "    </tr>\n",
       "    <tr>\n",
       "      <th>...</th>\n",
       "      <td>...</td>\n",
       "      <td>...</td>\n",
       "      <td>...</td>\n",
       "      <td>...</td>\n",
       "      <td>...</td>\n",
       "      <td>...</td>\n",
       "    </tr>\n",
       "    <tr>\n",
       "      <th>489</th>\n",
       "      <td>ir2_20160904_210542_202_l2b_v10.lbl</td>\n",
       "      <td>2019-06-03 15:08</td>\n",
       "      <td>7.1K</td>\n",
       "      <td>20160904</td>\n",
       "      <td>210542</td>\n",
       "      <td>2016-09-04 21:05:42</td>\n",
       "    </tr>\n",
       "    <tr>\n",
       "      <th>490</th>\n",
       "      <td>ir2_20160904_211542_202_l2b_v10.fit</td>\n",
       "      <td>2019-06-03 15:08</td>\n",
       "      <td>4.0M</td>\n",
       "      <td>20160904</td>\n",
       "      <td>211542</td>\n",
       "      <td>2016-09-04 21:15:42</td>\n",
       "    </tr>\n",
       "    <tr>\n",
       "      <th>491</th>\n",
       "      <td>ir2_20160904_211542_202_l2b_v10.lbl</td>\n",
       "      <td>2019-06-03 15:08</td>\n",
       "      <td>7.1K</td>\n",
       "      <td>20160904</td>\n",
       "      <td>211542</td>\n",
       "      <td>2016-09-04 21:15:42</td>\n",
       "    </tr>\n",
       "    <tr>\n",
       "      <th>492</th>\n",
       "      <td>ir2_20160904_212542_202_l2b_v10.fit</td>\n",
       "      <td>2019-06-03 15:08</td>\n",
       "      <td>4.0M</td>\n",
       "      <td>20160904</td>\n",
       "      <td>212542</td>\n",
       "      <td>2016-09-04 21:25:42</td>\n",
       "    </tr>\n",
       "    <tr>\n",
       "      <th>493</th>\n",
       "      <td>ir2_20160904_212542_202_l2b_v10.lbl</td>\n",
       "      <td>2019-06-03 15:08</td>\n",
       "      <td>7.1K</td>\n",
       "      <td>20160904</td>\n",
       "      <td>212542</td>\n",
       "      <td>2016-09-04 21:25:42</td>\n",
       "    </tr>\n",
       "  </tbody>\n",
       "</table>\n",
       "<p>494 rows × 6 columns</p>\n",
       "</div>"
      ],
      "text/plain": [
       "                                filename              time  size   datestr timestr            datetime\n",
       "0    ir2_20160824_193142_202_l2b_v10.fit  2019-06-03 15:08  4.0M  20160824  193142 2016-08-24 19:31:42\n",
       "1    ir2_20160824_193142_202_l2b_v10.lbl  2019-06-03 15:08  7.1K  20160824  193142 2016-08-24 19:31:42\n",
       "2    ir2_20160824_203242_202_l2b_v10.fit  2019-06-03 15:08  4.0M  20160824  203242 2016-08-24 20:32:42\n",
       "3    ir2_20160824_203242_202_l2b_v10.lbl  2019-06-03 15:08  7.1K  20160824  203242 2016-08-24 20:32:42\n",
       "4    ir2_20160824_220044_202_l2b_v10.fit  2019-06-03 15:08  4.0M  20160824  220044 2016-08-24 22:00:44\n",
       "..                                   ...               ...   ...       ...     ...                 ...\n",
       "489  ir2_20160904_210542_202_l2b_v10.lbl  2019-06-03 15:08  7.1K  20160904  210542 2016-09-04 21:05:42\n",
       "490  ir2_20160904_211542_202_l2b_v10.fit  2019-06-03 15:08  4.0M  20160904  211542 2016-09-04 21:15:42\n",
       "491  ir2_20160904_211542_202_l2b_v10.lbl  2019-06-03 15:08  7.1K  20160904  211542 2016-09-04 21:15:42\n",
       "492  ir2_20160904_212542_202_l2b_v10.fit  2019-06-03 15:08  4.0M  20160904  212542 2016-09-04 21:25:42\n",
       "493  ir2_20160904_212542_202_l2b_v10.lbl  2019-06-03 15:08  7.1K  20160904  212542 2016-09-04 21:25:42\n",
       "\n",
       "[494 rows x 6 columns]"
      ]
     },
     "execution_count": 7,
     "metadata": {},
     "output_type": "execute_result"
    }
   ],
   "source": [
    "dl.get_orbit_filelist()"
   ]
  },
  {
   "cell_type": "code",
   "execution_count": 8,
   "metadata": {},
   "outputs": [
    {
     "data": {
      "text/plain": [
       "0      https://atmos.nmsu.edu/PDS/data/vcoir2_1001/data/l2b/r0025/ir2_20160824_193142_202_l2b_v10.fit\n",
       "1      https://atmos.nmsu.edu/PDS/data/vcoir2_1001/data/l2b/r0025/ir2_20160824_193142_202_l2b_v10.lbl\n",
       "2      https://atmos.nmsu.edu/PDS/data/vcoir2_1001/data/l2b/r0025/ir2_20160824_203242_202_l2b_v10.fit\n",
       "3      https://atmos.nmsu.edu/PDS/data/vcoir2_1001/data/l2b/r0025/ir2_20160824_203242_202_l2b_v10.lbl\n",
       "4      https://atmos.nmsu.edu/PDS/data/vcoir2_1001/data/l2b/r0025/ir2_20160824_220044_202_l2b_v10.fit\n",
       "                                                    ...                                              \n",
       "489    https://atmos.nmsu.edu/PDS/data/vcoir2_1001/data/l2b/r0025/ir2_20160904_210542_202_l2b_v10.lbl\n",
       "490    https://atmos.nmsu.edu/PDS/data/vcoir2_1001/data/l2b/r0025/ir2_20160904_211542_202_l2b_v10.fit\n",
       "491    https://atmos.nmsu.edu/PDS/data/vcoir2_1001/data/l2b/r0025/ir2_20160904_211542_202_l2b_v10.lbl\n",
       "492    https://atmos.nmsu.edu/PDS/data/vcoir2_1001/data/l2b/r0025/ir2_20160904_212542_202_l2b_v10.fit\n",
       "493    https://atmos.nmsu.edu/PDS/data/vcoir2_1001/data/l2b/r0025/ir2_20160904_212542_202_l2b_v10.lbl\n",
       "Length: 494, dtype: object"
      ]
     },
     "execution_count": 8,
     "metadata": {},
     "output_type": "execute_result"
    }
   ],
   "source": [
    "dl.get_urls_for_orbit()"
   ]
  },
  {
   "cell_type": "code",
   "execution_count": null,
   "metadata": {},
   "outputs": [],
   "source": []
  }
 ],
 "metadata": {
  "kernelspec": {
   "display_name": "Python [conda env:py37] *",
   "language": "python",
   "name": "conda-env-py37-py"
  },
  "language_info": {
   "codemirror_mode": {
    "name": "ipython",
    "version": 3
   },
   "file_extension": ".py",
   "mimetype": "text/x-python",
   "name": "python",
   "nbconvert_exporter": "python",
   "pygments_lexer": "ipython3",
   "version": "3.7.6"
  }
 },
 "nbformat": 4,
 "nbformat_minor": 4
}
