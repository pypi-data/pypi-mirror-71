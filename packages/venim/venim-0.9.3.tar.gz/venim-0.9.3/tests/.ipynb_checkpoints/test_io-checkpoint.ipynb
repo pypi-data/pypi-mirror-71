{
 "cells": [
  {
   "cell_type": "code",
   "execution_count": 6,
   "metadata": {},
   "outputs": [],
   "source": [
    "import pytest\n",
    "from urllib.request import urlretrieve"
   ]
  },
  {
   "cell_type": "code",
   "execution_count": 7,
   "metadata": {},
   "outputs": [],
   "source": [
    "server_url = 'https://atmos.nmsu.edu/PDS/data/'\n",
    "testfile_url = server_url + 'vcoir2_0001/data/r0009/ir2_20160313_075709_174_l1b_v10.fit'"
   ]
  },
  {
   "cell_type": "code",
   "execution_count": 6,
   "metadata": {},
   "outputs": [
    {
     "name": "stdout",
     "output_type": "stream",
     "text": [
      "18 s ± 2.29 s per loop (mean ± std. dev. of 7 runs, 1 loop each)\n"
     ]
    }
   ],
   "source": [
    "%%timeit \n",
    "urlretrieve(str(testfile_url), 'testfile.fits')"
   ]
  },
  {
   "cell_type": "code",
   "execution_count": 8,
   "metadata": {},
   "outputs": [],
   "source": [
    "from pathlib import Path\n",
    "from urlpath import URL\n",
    "import requests\n",
    "\n",
    "def url_retrieve(url: str, outfile: Path, chunk_size: int=128):\n",
    "    R = requests.get(url, stream=True, allow_redirects=True)\n",
    "    if R.status_code != 200:\n",
    "        raise ConnectionError(f'could not download {url}\\nerror code: {R.status_code}')\n",
    "    with outfile.open('wb') as df:\n",
    "        for chunk in R.iter_content(chunk_size=chunk_size):\n",
    "            fd.write(chunk)"
   ]
  },
  {
   "cell_type": "code",
   "execution_count": 9,
   "metadata": {},
   "outputs": [
    {
     "ename": "TypeError",
     "evalue": "url_retrieve() missing 1 required positional argument: 'chunk_size'",
     "output_type": "error",
     "traceback": [
      "\u001b[0;31m---------------------------------------------------------------------------\u001b[0m",
      "\u001b[0;31mTypeError\u001b[0m                                 Traceback (most recent call last)",
      "\u001b[0;32m<ipython-input-9-14b51f102ec7>\u001b[0m in \u001b[0;36m<module>\u001b[0;34m\u001b[0m\n\u001b[0;32m----> 1\u001b[0;31m \u001b[0murl_retrieve\u001b[0m\u001b[0;34m(\u001b[0m\u001b[0mURL\u001b[0m\u001b[0;34m(\u001b[0m\u001b[0mtestfile_url\u001b[0m\u001b[0;34m)\u001b[0m\u001b[0;34m,\u001b[0m \u001b[0mPath\u001b[0m\u001b[0;34m(\u001b[0m\u001b[0;34m'testfile.fits'\u001b[0m\u001b[0;34m)\u001b[0m\u001b[0;34m)\u001b[0m\u001b[0;34m\u001b[0m\u001b[0;34m\u001b[0m\u001b[0m\n\u001b[0m",
      "\u001b[0;31mTypeError\u001b[0m: url_retrieve() missing 1 required positional argument: 'chunk_size'"
     ]
    }
   ],
   "source": [
    "url_retrieve(URL(testfile_url), Path('testfile.fits'))"
   ]
  },
  {
   "cell_type": "code",
   "execution_count": 8,
   "metadata": {},
   "outputs": [
    {
     "name": "stdout",
     "output_type": "stream",
     "text": [
      "18.5 s ± 1.04 s per loop (mean ± std. dev. of 7 runs, 1 loop each)\n"
     ]
    }
   ],
   "source": [
    "%%timeit\n",
    "url_retrieve(str(testfile_url), Path('testfile.fits'))"
   ]
  },
  {
   "cell_type": "code",
   "execution_count": 18,
   "metadata": {},
   "outputs": [
    {
     "data": {
      "text/plain": [
       "\u001b[0;31mSignature:\u001b[0m \u001b[0mrequests\u001b[0m\u001b[0;34m.\u001b[0m\u001b[0mget\u001b[0m\u001b[0;34m(\u001b[0m\u001b[0murl\u001b[0m\u001b[0;34m,\u001b[0m \u001b[0mparams\u001b[0m\u001b[0;34m=\u001b[0m\u001b[0;32mNone\u001b[0m\u001b[0;34m,\u001b[0m \u001b[0;34m**\u001b[0m\u001b[0mkwargs\u001b[0m\u001b[0;34m)\u001b[0m\u001b[0;34m\u001b[0m\u001b[0;34m\u001b[0m\u001b[0m\n",
       "\u001b[0;31mDocstring:\u001b[0m\n",
       "Sends a GET request.\n",
       "\n",
       ":param url: URL for the new :class:`Request` object.\n",
       ":param params: (optional) Dictionary, list of tuples or bytes to send\n",
       "    in the query string for the :class:`Request`.\n",
       ":param \\*\\*kwargs: Optional arguments that ``request`` takes.\n",
       ":return: :class:`Response <Response>` object\n",
       ":rtype: requests.Response\n",
       "\u001b[0;31mFile:\u001b[0m      ~/miniconda3/envs/py37/lib/python3.7/site-packages/requests/api.py\n",
       "\u001b[0;31mType:\u001b[0m      function\n"
      ]
     },
     "metadata": {},
     "output_type": "display_data"
    }
   ],
   "source": [
    "requests.get?"
   ]
  },
  {
   "cell_type": "code",
   "execution_count": 11,
   "metadata": {},
   "outputs": [],
   "source": [
    "def _download(url, savepath, chunk_size):\n",
    "    # urlretrieve(str(url), savepath)\n",
    "    r = requests.get(str(url), stream=True)\n",
    "    with open(savepath, \"wb\") as fd:\n",
    "        for chunk in r.iter_content(chunk_size=chunk_size):\n",
    "            fd.write(chunk)\n"
   ]
  },
  {
   "cell_type": "code",
   "execution_count": 14,
   "metadata": {},
   "outputs": [
    {
     "name": "stdout",
     "output_type": "stream",
     "text": [
      "16.1 s ± 1.09 s per loop (mean ± std. dev. of 7 runs, 1 loop each)\n"
     ]
    }
   ],
   "source": [
    "%%timeit\n",
    "\n",
    "_download(str(testfile_url), 'testfile.fits', 128)"
   ]
  },
  {
   "cell_type": "code",
   "execution_count": 15,
   "metadata": {},
   "outputs": [
    {
     "name": "stdout",
     "output_type": "stream",
     "text": [
      "17.2 s ± 858 ms per loop (mean ± std. dev. of 7 runs, 1 loop each)\n"
     ]
    }
   ],
   "source": [
    "%%timeit\n",
    "\n",
    "_download(str(testfile_url), 'testfile.fits', 256)"
   ]
  },
  {
   "cell_type": "code",
   "execution_count": 16,
   "metadata": {},
   "outputs": [
    {
     "name": "stdout",
     "output_type": "stream",
     "text": [
      "16.8 s ± 411 ms per loop (mean ± std. dev. of 7 runs, 1 loop each)\n"
     ]
    }
   ],
   "source": [
    "%%timeit\n",
    "\n",
    "_download(str(testfile_url), 'testfile.fits', 512)"
   ]
  },
  {
   "cell_type": "code",
   "execution_count": null,
   "metadata": {},
   "outputs": [],
   "source": []
  },
  {
   "cell_type": "code",
   "execution_count": null,
   "metadata": {},
   "outputs": [],
   "source": []
  },
  {
   "cell_type": "code",
   "execution_count": null,
   "metadata": {},
   "outputs": [],
   "source": [
    "_download"
   ]
  },
  {
   "cell_type": "code",
   "execution_count": 12,
   "metadata": {},
   "outputs": [],
   "source": [
    "from astropy.io import fits"
   ]
  },
  {
   "cell_type": "code",
   "execution_count": 14,
   "metadata": {},
   "outputs": [],
   "source": [
    "hdu = fits.open('testfile.fits')"
   ]
  },
  {
   "cell_type": "code",
   "execution_count": 15,
   "metadata": {},
   "outputs": [
    {
     "data": {
      "text/plain": [
       "2"
      ]
     },
     "execution_count": 15,
     "metadata": {},
     "output_type": "execute_result"
    }
   ],
   "source": [
    "len(hdu)"
   ]
  },
  {
   "cell_type": "code",
   "execution_count": 16,
   "metadata": {},
   "outputs": [
    {
     "data": {
      "text/plain": [
       "[<astropy.io.fits.hdu.image.PrimaryHDU object at 0x1195973c8>, <astropy.io.fits.hdu.image.ImageHDU object at 0x1195a0e48>]"
      ]
     },
     "execution_count": 16,
     "metadata": {},
     "output_type": "execute_result"
    }
   ],
   "source": [
    "hdu"
   ]
  },
  {
   "cell_type": "code",
   "execution_count": 18,
   "metadata": {},
   "outputs": [],
   "source": [
    "prime = hdu[0]"
   ]
  },
  {
   "cell_type": "code",
   "execution_count": 19,
   "metadata": {},
   "outputs": [],
   "source": [
    "prime.data"
   ]
  },
  {
   "cell_type": "code",
   "execution_count": 23,
   "metadata": {},
   "outputs": [],
   "source": [
    "keylist = list(prime.header)"
   ]
  },
  {
   "cell_type": "code",
   "execution_count": 25,
   "metadata": {},
   "outputs": [],
   "source": [
    "keylist.remove(\"HISTORY\")"
   ]
  },
  {
   "cell_type": "code",
   "execution_count": 26,
   "metadata": {},
   "outputs": [
    {
     "data": {
      "text/plain": [
       "['SIMPLE',\n",
       " 'BITPIX',\n",
       " 'NAXIS',\n",
       " 'EXTEND',\n",
       " 'FMTTYPE',\n",
       " 'FTYPEVER',\n",
       " 'ORIGIN',\n",
       " 'NEXTEND',\n",
       " 'TELESCOP',\n",
       " 'SPCECRFT',\n",
       " 'FILENAME',\n",
       " 'DATE',\n",
       " 'CNTTYPE',\n",
       " 'CNTVER',\n",
       " 'HISTORY',\n",
       " 'HISTORY',\n",
       " 'HISTORY',\n",
       " 'HISTORY']"
      ]
     },
     "execution_count": 26,
     "metadata": {},
     "output_type": "execute_result"
    }
   ],
   "source": [
    "keylist"
   ]
  },
  {
   "cell_type": "code",
   "execution_count": 27,
   "metadata": {},
   "outputs": [
    {
     "data": {
      "text/plain": [
       "SIMPLE  =                    T / conformity to FITS standard                    \n",
       "BITPIX  =                   16 / number of bits per data pixel                  \n",
       "NAXIS   =                    0 / number of data axes                            \n",
       "EXTEND  =                    T / possibility of presence of extensions          \n",
       "FMTTYPE = 'VCO IMAGE IR2 L1b'  / type of format in FITS file                    \n",
       "FTYPEVER=           2018061201 / version of FMTTYPE definition                  \n",
       "ORIGIN  = 'ISAS/JAXA'          / organization responsible for the data          \n",
       "NEXTEND =                    1 / number of standard extensions                  \n",
       "TELESCOP= 'VCO     '           / telescope used to acquire data                 \n",
       "SPCECRFT= 'VCO     '           / name of spacecraft                             \n",
       "FILENAME= 'ir2_20160313_075709_174_l1b_v10.fit' / original filename             \n",
       "DATE    = '2019-04-10T10:41:30' / date of file creation in UTC                  \n",
       "CNTTYPE = 'N/A     '           / type of data content                           \n",
       "CNTVER  = 'N/A     '           / version of data content                        \n",
       "HISTORY   Using LEON-L1a.cpp program compiled at Sep  6 2018 00:31:10           \n",
       "HISTORY Update value of FILENAME keyword.                                       \n",
       "HISTORY   Using update-FILENAME.cpp program compiled at Jun 23 2018 21:10:31    \n",
       "HISTORY Update value of FILENAME keyword.                                       \n",
       "HISTORY   Using update-FILENAME.cpp program compiled at Jun 23 2018 21:10:31    "
      ]
     },
     "execution_count": 27,
     "metadata": {},
     "output_type": "execute_result"
    }
   ],
   "source": [
    "prime.header"
   ]
  },
  {
   "cell_type": "code",
   "execution_count": 28,
   "metadata": {},
   "outputs": [],
   "source": [
    "hdulist = fits.open(\"/Users/klay6683/Dropbox/Shared/venus/set2/sgd.2017A072.170429.im.00073.a.fits\")"
   ]
  },
  {
   "cell_type": "code",
   "execution_count": 29,
   "metadata": {},
   "outputs": [
    {
     "data": {
      "text/plain": [
       "SIMPLE  =                    T / DATA IS IN FITS FORMAT                         \n",
       "BITPIX  =                   16 / 16 BITS TWOS COMPLEMENT INTEGERS               \n",
       "NAXIS   =                    2 / NUMBER OF AXIS                                 \n",
       "NAXIS1  =                  512 / PIXELS ON 1st MOST VARYING AXIS                \n",
       "NAXIS2  =                  512 / PIXELS ON 2nd MOST VARYING AXIS                \n",
       "DATAMIN =               -242.0 / MIN DATA VALUE IN FILE                         \n",
       "DATAMAX =               3539.0 / MAX DATA VALUE IN FILE                         \n",
       "DATAMEAN=               502.21 / MEAN DATA VALUE IN FILE                        \n",
       "DIVISOR =                    1 / Normalization value                            \n",
       "ORIGIN  = 'Institute for Astronomy'                                             \n",
       "TELESCOP= 'NASA IRTF'                                                           \n",
       "INSTRUME= 'SpeX Imager'                                                         \n",
       "INST_ID =                'sgd' / Instrument ID                                  \n",
       "PROG_ID =           '2017A072' / IRTF Program ID YYYYSNNN                       \n",
       "OBS_UTC =         '2017-04-29' / UTC Date when observer logged in to inst       \n",
       "OBSERVER= 'McGouldrick Bullock'                                                 \n",
       "OBJECT  = 'Venus'                                                               \n",
       "COMMENT = 'FITS comment'                                                        \n",
       "IRAFNAME= 'sgd.2017A072.170429.im.00073.a.fits'                                 \n",
       "BEAM    =                  'A' / Object(A) or sky(B)                            \n",
       "COMMENT = Using PC time for DATE, TIME_OBS                                      \n",
       "COMMENT = iarc timestamp is 1970-01-01 00:00:00.000000                          \n",
       "DATE_OBS=         '2017-04-29' / DATE OF OBS IN UTC                             \n",
       "TIME_OBS=    '16:28:53.062309' / TIME OF OBS IN UTC                             \n",
       "MJD_OBS =     57872.6867252584 / MJD from DATE_OBS+TIME_OBS                     \n",
       "DATE_PC =         '2017-04-29' / Date when PC started GO in UTC                 \n",
       "TIME_PC =    '16:28:53.062309' / Time when PC started GO in UTC                 \n",
       "CAMMODE =                    0 / CameraMode is Basic                            \n",
       "ITIME   =               0.2410 / Integration time in seconds                    \n",
       "CO_ADDS =                    1 / Integration co-added                           \n",
       "CYCLES  =                  200 / Number of cycles                               \n",
       "DATATYPE=             'target' / Datatype description                           \n",
       "DTYPE_ID=                    1 / Data type counter                              \n",
       "ARCHMODE=                 'On' / ArchiveMode value                              \n",
       "ARRAY   =        '0,0,512,512' / x,y,wid,hgt of data sub-arrays                 \n",
       "BEAMPAT =                    0 / Beam Pattern                                   \n",
       "RO_MODE =                    1 / ReadOut Mode is DOUBLE                         \n",
       "NDR     =                    1 / Number of Non-Destructive Reads                \n",
       "TABLE_SE=             0.241000 / sec to clock out array                         \n",
       "ELAPTIME=             0.482500 / realtime exposure time seconds                 \n",
       "QTH_LAMP=                'Off' / Quart 0.8-2.5 10W lamp                         \n",
       "INC_LAMP=                'Off' / Inc 0.8-2.5 0.1W lamp                          \n",
       "IR_LAMP =                'Off' / IR 1.9-5.5 lamp                                \n",
       "ARG_LAMP=                'Off' / AR 0.8-3.5 Argon lamp                          \n",
       "CALMIR  =                'Out' / menu=0,dpos=252000                             \n",
       "DIT     =               'open' / menu=2,dpos=160000                             \n",
       "OSF     =               'Open' / menu=0,dpos=21333                              \n",
       "ROTATOR =               326.73 / Rotator_Mechanical_Angle; dpos=1306900         \n",
       "POSANGLE=               245.00 / Sky_Position_Angle                             \n",
       "SLIT    =             'Mirror' / menu=1,dpos=57000                              \n",
       "GRAT    =              'Prism' / menu=1,dpos=360800                             \n",
       "GFLT    =              'contK' / menu=10,dpos=448000                            \n",
       "AFOC    =                    0 / dpos=0,volts= 2.46                             \n",
       "PLATE_SC=                0.116 / PlateScale arcsec/pixel                        \n",
       "FLTZP   =                17.50 / GFlt Filter Zero Point                         \n",
       "EXT_COF =                0.000 / GFlt Extinction coefficient                    \n",
       "TC335A  = '37.01,73.96,37.00,Med,36.50%' / Bigdog ctempK,stempK,SetPt,Heater    \n",
       "TC335B  = '30.01,13.94,30.00,Med,22.80%' / Guider ctempK,stempK,SetPt,Heater    \n",
       "TC218   = ' 43.7  18.0  74.3  87.3  74.6  77.6  79.8 480.0'                     \n",
       "CAMERA  =               'iarc' / Camera: iarc, sim                              \n",
       "VOFFSET =                    0 / IARC preamp offset in counts                   \n",
       "VDD     =                    0 / IARC VDD in millivolts                         \n",
       "VDDA    =                    0 / IARC VDDA in millivolts                        \n",
       "VBG     =                    0 / IARC VBG in millivolts                         \n",
       "VBP     =                    0 / IARC VBP in millivolts                         \n",
       "VDSUB   =                    0 / IARC VDBUS in millivolts                       \n",
       "VRST    =                    0 / IARC VRST in millivolts                        \n",
       "IA_GAIN =                    1 / IARC n_gain_flag, 0=LOW 1=HIGH                 \n",
       "IA_ROM  =                    1 / IARC ReadOut Mode 1 = DOUBLE.                  \n",
       "IA_INDR =                    0 / IARC itime_ndrs                                \n",
       "IA_NDR  =                    1 / IARC n_ndr_count                               \n",
       "IA_COADD=                    1 / IARC n_coadd_count                             \n",
       "IA_PX_TM=                    3 / IARC n_pixel_time 3 is 3 us/px.                \n",
       "TCSSYS  =               'tcs3' / TCS System Parameter                           \n",
       "TCS_OK  =                    1 / 0=TCS_comm_ERR; 1=TCS_comm_OK                  \n",
       "TCS_UTC =     57872.6867248269 / TCS UTC MJD. UTC=2017-04-29 16:28:53.025       \n",
       "TCS_RA  =       ' 23:58:39.81' / TCS Right Ascension, FK5 J2000                 \n",
       "TCS_DEC =        ' 01:29:24.9' / TCS Declination FK5 J2000                      \n",
       "TCS_HA  =       '-03:21:10.89' / TCS Observed Hour Angle                        \n",
       "TCS_AZ  =               103.91 / TCS Observed Azimuth, degrees                  \n",
       "TCS_EL  =                37.60 / TCS Observed Elevation, degrees                \n",
       "TCS_NSRA=               0.0200 / TCS non-sidereal rate RA, as/s                 \n",
       "TCS_NSDE=               0.0011 / TCS non-sidereal rate Dec, as/s                \n",
       "TCS_PA  =               -65.99 / TCS Parallactic Angle, degrees                 \n",
       "TCS_AM  =                1.636 / TCS Airmass                                    \n",
       "TCS_SM  =              'track' / TCS Servo_mode                                 \n",
       "TCS_OBJ =        'Venus (299)' / object name                                    \n",
       "TCS_MAG =                 -4.7 / TCS object magnitude                           \n",
       "TCS_SEC =                    1 / TCS secondary:0=chopper;1=hexapod              \n",
       "TCS_FOC =               -0.400 / TCS actual focus                               \n",
       "TCS_AIRT=                 -0.8 / TCS outside air temp, DegC                     \n",
       "TCS_HUM =                 18.3 / TCS humidity, 0-100                            \n",
       "TCS_WMSP=                 28.3 / TCS mean wind speed, mph                       \n",
       "TCS_WDIR=                232.0 / TCS wind direction, deg                        \n",
       "TCS_TD6 =                 -1.4 / TCS Dome TD6, degC                             \n",
       "TCS_BP  =                612.8 / TCS Barometric Presssure BP1, mbar             \n",
       "TAU225  =                0.095 / TAU 225GHz Measurement                         \n",
       "LS_VALID=                    1 / 1=Valid Last Slew data; 0=No data              \n",
       "LS_CS   =                'fk5' / Last Slew Coordinate System                    \n",
       "LS_EQ   =               2000.0 / Last Slew CS epoch of equinox                  \n",
       "LS_RA   =       ' 23:58:39.17' / Last Slew Right Ascension                      \n",
       "LS_DEC  =        ' 01:29:24.4' / Last Slew Declination                          \n",
       "LS_PMRA =             0.000000 / Last Slew proper motion RA, s/y                \n",
       "LS_PMDEC=             0.000000 / Last Slew proper motion DEC, as/y              \n",
       "LS_EP   =              2000.00 / Last Slew epoch for proper motion correction   \n",
       "LS_NSRA =             0.020110 / Last Slew non-sidereal rate RA, as/s           \n",
       "LS_NSDEC=             0.001060 / Last Slew non-sidereal rate Dec, as/s          \n",
       "LS_NAME =        'Venus (299)' / Last Slew Object Name                          \n",
       "LS_SRC  =        'jpl-horizon' / Last Slew Data Source                          "
      ]
     },
     "execution_count": 29,
     "metadata": {},
     "output_type": "execute_result"
    }
   ],
   "source": [
    "hdulist[0].header"
   ]
  },
  {
   "cell_type": "code",
   "execution_count": null,
   "metadata": {},
   "outputs": [],
   "source": []
  }
 ],
 "metadata": {
  "kernelspec": {
   "display_name": "Python [conda env:py37] *",
   "language": "python",
   "name": "conda-env-py37-py"
  },
  "language_info": {
   "codemirror_mode": {
    "name": "ipython",
    "version": 3
   },
   "file_extension": ".py",
   "mimetype": "text/x-python",
   "name": "python",
   "nbconvert_exporter": "python",
   "pygments_lexer": "ipython3",
   "version": "3.7.6"
  },
  "widgets": {
   "application/vnd.jupyter.widget-state+json": {
    "state": {},
    "version_major": 2,
    "version_minor": 0
   }
  }
 },
 "nbformat": 4,
 "nbformat_minor": 4
}
