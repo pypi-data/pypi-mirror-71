{
 "cells": [
  {
   "cell_type": "code",
   "execution_count": null,
   "metadata": {},
   "outputs": [],
   "source": [
    "%matplotlib inline\n",
    "import matplotlib.pyplot as plt\n",
    "import numpy as np\n",
    "\n",
    "from batman import TransitModel\n",
    "from astropy.io import fits\n",
    "import astropy.units as u\n",
    "from astropy.time import Time\n",
    "\n",
    "import sys\n",
    "sys.path.insert(0, '../')\n",
    "from linea import CheopsLightCurve, Planet\n",
    "\n",
    "p = Planet.from_name(\"55 Cnc e\")"
   ]
  },
  {
   "cell_type": "code",
   "execution_count": null,
   "metadata": {},
   "outputs": [],
   "source": [
    "lc = CheopsLightCurve.from_example()"
   ]
  },
  {
   "cell_type": "code",
   "execution_count": null,
   "metadata": {},
   "outputs": [],
   "source": [
    "lc.plot(fmt='.', ecolor='silver')"
   ]
  },
  {
   "cell_type": "code",
   "execution_count": null,
   "metadata": {},
   "outputs": [],
   "source": [
    "lc.sigma_clip_flux(plot=True)"
   ]
  },
  {
   "cell_type": "code",
   "execution_count": null,
   "metadata": {},
   "outputs": [],
   "source": [
    "transit_model_offset = TransitModel(p, lc.bjd_time[~lc.mask], \n",
    "                                    supersample_factor=3, \n",
    "                                    exp_time=lc.bjd_time[1] - lc.bjd_time[0],\n",
    "                                    ).light_curve(p) - 1\n",
    "\n",
    "# Build a design matrix\n",
    "X = np.hstack([    \n",
    "    # Transit model: \n",
    "    transit_model_offset[:, None],\n",
    "\n",
    "    # Sinusoidal phase curve trend: \n",
    "    np.sin(2 * np.pi * (lc.bjd_time[~lc.mask] - lc.bjd_time.mean()) / p.per)[:, None], \n",
    "    np.cos(2 * np.pi * (lc.bjd_time[~lc.mask] - lc.bjd_time.mean()) / p.per)[:, None],\n",
    "    \n",
    "    # Default design matrix: \n",
    "    lc.design_matrix(), \n",
    "])\n"
   ]
  },
  {
   "cell_type": "code",
   "execution_count": null,
   "metadata": {},
   "outputs": [],
   "source": [
    "r = lc.regress(X)"
   ]
  },
  {
   "cell_type": "code",
   "execution_count": null,
   "metadata": {},
   "outputs": [],
   "source": [
    "t_fine = np.linspace(lc.bjd_time.min(), lc.bjd_time.max(), 1000)\n",
    "\n",
    "transit_fine = TransitModel(p, t_fine, \n",
    "                            supersample_factor=3, \n",
    "                            exp_time=lc.bjd_time[1] - lc.bjd_time[0],\n",
    "                            ).light_curve(p)\n",
    "\n",
    "sinusoid_fine = np.hstack([\n",
    "    np.sin(2 * np.pi * (t_fine - t_fine.mean()) / p.per)[:, None], \n",
    "    np.cos(2 * np.pi * (t_fine - t_fine.mean()) / p.per)[:, None], \n",
    "]) @ r.betas[1:3]"
   ]
  },
  {
   "cell_type": "code",
   "execution_count": null,
   "metadata": {},
   "outputs": [],
   "source": [
    "sinusoid = X[:, 1:3] @ r.betas[1:3]\n",
    "\n",
    "preserve_sinusoid = sinusoid + (lc.flux[~lc.mask] - r.best_fit)\n",
    "\n",
    "print(f\"Reconstructed phase curve amplitude: {1e6 * sinusoid.ptp():.0f} ± \" +\n",
    "      f\"{1e6 * np.max(np.sqrt(np.diag(r.cov))[1:3]):.0f} ppm (truth = 175 ppm)\")\n",
    "\n",
    "plt.plot(lc.bjd_time[~lc.mask], preserve_sinusoid, 'k.')\n",
    "plt.plot(lc.bjd_time[~lc.mask], sinusoid, 'r')"
   ]
  },
  {
   "cell_type": "code",
   "execution_count": null,
   "metadata": {},
   "outputs": [],
   "source": [
    "from scipy.stats import binned_statistic\n",
    "\n",
    "n_regressors = 2\n",
    "bins = 15\n",
    "t0_offset = 0\n",
    "\n",
    "transit = r.X[:, 0] * r.betas[0]\n",
    "eclipse = eclipse_fine = 0\n",
    "\n",
    "sinusoid = (r.X[:, 1:n_regressors+1] @ r.betas[1:n_regressors+1])\n",
    "\n",
    "phases = ((lc.bjd_time[~lc.mask] - p.t0 - t0_offset) %\n",
    "          p.per) / p.per\n",
    "wrap_phase = 0.9\n",
    "phases[phases > wrap_phase] -= 1\n",
    "phases_fine = (((t_fine - p.t0 - t0_offset) % p.per) /\n",
    "               p.per)\n",
    "phases_fine[phases_fine > wrap_phase] -= 1\n",
    "\n",
    "fig, ax = plt.subplots(2, 1, figsize=(4.5, 8), sharex=True)\n",
    "ax[0].plot(phases, (transit + 1 + eclipse) * (\n",
    "        lc.flux[~lc.mask] / r.best_fit + sinusoid), '.',\n",
    "           color='silver')\n",
    "\n",
    "bs = binned_statistic(phases,\n",
    "                      (transit + 1 + eclipse) * (lc.flux[~lc.mask] /\n",
    "                                       r.best_fit + sinusoid),\n",
    "                      bins=bins, statistic='median')\n",
    "\n",
    "bs_counts = binned_statistic(phases, lc.flux[~lc.mask],\n",
    "                             bins=bins, statistic=np.count_nonzero).statistic\n",
    "counts_mask = bs_counts > 35\n",
    "\n",
    "bincenters = 0.5 * (bs.bin_edges[1:] + bs.bin_edges[:-1])\n",
    "\n",
    "ax[0].plot(bincenters[counts_mask], bs.statistic[counts_mask], \n",
    "           's', color='k')\n",
    "\n",
    "ax[0].plot(phases_fine[np.argsort(phases_fine)],\n",
    "           (transit_fine + sinusoid_fine + eclipse_fine)[np.argsort(phases_fine)], 'r')\n",
    "\n",
    "ax[0].set(ylabel='Phase Curve')\n",
    "\n",
    "bs_resid = binned_statistic(phases,\n",
    "                            lc.flux[~lc.mask] / r.best_fit - 1,\n",
    "                            bins=bins, statistic='median')\n",
    "\n",
    "ax[1].plot(phases, 1e6 * (lc.flux[~lc.mask] / r.best_fit - 1), '.',\n",
    "           color='silver')\n",
    "ax[1].plot(bincenters[counts_mask], 1e6 * bs_resid.statistic[counts_mask], \n",
    "           's', color='k')\n",
    "\n",
    "ax[1].set(ylabel='Residuals [ppm]', xlabel='Phase')\n",
    "ax[1].set_xticks(np.arange(-0, 1, 0.1), minor=True)\n",
    "# ax[1].set_ylim([-2.5e-4, 2.5e-4])\n",
    "ax[1].set_yticks(np.arange(-250, 300, 50), minor=True)\n",
    "for axis in ax:\n",
    "    for sp in ['right', 'top']:\n",
    "        axis.spines[sp].set_visible(False)\n",
    "ax[0].ticklabel_format(useOffset=False)\n"
   ]
  }
 ],
 "metadata": {
  "kernelspec": {
   "display_name": "Python 3",
   "language": "python",
   "name": "python3"
  },
  "language_info": {
   "codemirror_mode": {
    "name": "ipython",
    "version": 3
   },
   "file_extension": ".py",
   "mimetype": "text/x-python",
   "name": "python",
   "nbconvert_exporter": "python",
   "pygments_lexer": "ipython3",
   "version": "3.7.6"
  }
 },
 "nbformat": 4,
 "nbformat_minor": 4
}
