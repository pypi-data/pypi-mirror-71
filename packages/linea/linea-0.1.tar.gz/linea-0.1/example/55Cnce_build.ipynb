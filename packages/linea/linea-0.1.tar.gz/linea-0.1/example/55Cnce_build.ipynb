{
 "cells": [
  {
   "cell_type": "code",
   "execution_count": null,
   "metadata": {},
   "outputs": [],
   "source": [
    "%matplotlib inline\n",
    "import matplotlib.pyplot as plt\n",
    "import numpy as np\n",
    "\n",
    "from batman import TransitModel\n",
    "from astropy.io import fits\n",
    "import astropy.units as u\n",
    "from astropy.time import Time\n",
    "\n",
    "import sys\n",
    "sys.path.insert(0, '../')\n",
    "from linea import CheopsLightCurve, Planet\n",
    "\n",
    "p = Planet.from_name(\"55 Cnc e\")"
   ]
  },
  {
   "cell_type": "code",
   "execution_count": null,
   "metadata": {},
   "outputs": [],
   "source": [
    "def simulate_roll_angle(phase, time): \n",
    "    # Compute rough approximation to a varying parallactic angle\n",
    "    H = 2 * np.pi * (phase - 1.5)\n",
    "    q = np.arctan2(np.sin(H) + 0.3 * (time - time[0]),\n",
    "                   (np.tan(np.radians(0)) *\n",
    "                    np.cos(np.radians(20)) -\n",
    "                    np.sin(np.radians(20))*np.cos(H)))\n",
    "    return np.degrees(q)"
   ]
  },
  {
   "cell_type": "code",
   "execution_count": null,
   "metadata": {},
   "outputs": [],
   "source": [
    "np.random.seed(42)\n",
    "cheops_orbit_min = 99.5  # minutes\n",
    "\n",
    "all_times = np.linspace(p.t0 - 0.5, p.t0 + 1., 2500)\n",
    "cheops_phase = (((all_times[0] - all_times) * u.day) % \n",
    "                (cheops_orbit_min * u.min) / \n",
    "                (cheops_orbit_min * u.min)\n",
    "               ).to(u.dimensionless_unscaled).value\n",
    "\n",
    "bjd_time = all_times[cheops_phase > 0.5]\n",
    "utc_time = Time(bjd_time, format='jd').isot\n",
    "mjd_time = Time(bjd_time, format='jd').mjd\n",
    "\n",
    "n_points = len(bjd_time)\n",
    "\n",
    "conta_lc = 10 * np.ones(n_points) + np.random.randn(n_points)\n",
    "conta_lc_err = np.ones(n_points) / 100\n",
    "status = np.zeros(n_points)\n",
    "event = np.zeros(n_points)\n",
    "dark = 10 + np.random.randn(n_points)\n",
    "background = 100 + np.random.randn(n_points)\n",
    "roll_angle = simulate_roll_angle(cheops_phase[cheops_phase > 0.5], bjd_time)\n",
    "location_x = 512 * np.ones(n_points)\n",
    "location_y = 512 * np.ones(n_points)\n",
    "centroid_x = location_x[0] + 0.2 * np.random.randn(n_points)\n",
    "centroid_y = location_y[0] + 0.2 * np.random.randn(n_points)"
   ]
  },
  {
   "cell_type": "code",
   "execution_count": null,
   "metadata": {},
   "outputs": [],
   "source": [
    "model = TransitModel(p, bjd_time, \n",
    "                     supersample_factor=3, \n",
    "                     exp_time=bjd_time[1] - bjd_time[0]\n",
    "                     ).light_curve(p)\n",
    "planet_phase = ((bjd_time - p.t0) % p.per) / p.per\n",
    "\n",
    "sinusoid_amp = p.rp**2 / 4\n",
    "print(f'sinusoid amp: {2e6 * sinusoid_amp:.2f} ppm')\n",
    "\n",
    "model += sinusoid_amp * np.sin(2 * np.pi * (planet_phase + 0.5))\n",
    "\n",
    "flux = (\n",
    "    -2 * (bjd_time - bjd_time.mean()) + \n",
    "    2 * background + \n",
    "    1.1 * conta_lc + \n",
    "    dark + \n",
    "    25 * roll_angle / 360 + \n",
    "    2 * (centroid_x - location_x)**2 + \n",
    "    3 * (centroid_y - location_y)**2 +\n",
    "    0.5 * (centroid_x - location_x) +\n",
    "    0.1 * (centroid_y - location_y) + \n",
    "    1e3 * dark.mean()\n",
    ") * model\n",
    "\n",
    "fluxerr = np.std(flux) * np.ones(len(bjd_time))\n",
    "\n",
    "n_outliers = 50\n",
    "\n",
    "flux[np.random.randint(0, flux.shape[0], size=n_outliers)] += 3.5 * flux.std() * np.random.randn(n_outliers)\n",
    "\n",
    "plt.errorbar(bjd_time, flux, fluxerr, fmt='.', ecolor='silver')\n",
    "plt.plot(bjd_time, model * flux.mean(), 'r')"
   ]
  },
  {
   "cell_type": "code",
   "execution_count": null,
   "metadata": {},
   "outputs": [],
   "source": [
    "formatter = [\n",
    "    ('UTC_TIME', '|S26', utc_time),\n",
    "    ('MJD_TIME', '>f8', mjd_time),\n",
    "    ('BJD_TIME', '>f8', bjd_time),\n",
    "    ('FLUX', '>f8', flux),\n",
    "    ('FLUXERR', '>f8', fluxerr),\n",
    "    ('STATUS', '>i4', status),\n",
    "    ('EVENT', '>i4', event),\n",
    "    ('DARK', '>f8', dark),\n",
    "    ('BACKGROUND', '>f8', background),\n",
    "    ('CONTA_LC', '>f8', conta_lc),\n",
    "    ('CONTA_LC_ERR', '>f8', conta_lc_err),\n",
    "    ('ROLL_ANGLE', '>f8', roll_angle),\n",
    "    ('LOCATION_X', '>f4', location_x),\n",
    "    ('LOCATION_Y', '>f4', location_y),\n",
    "    ('CENTROID_X', '>f4', centroid_x),\n",
    "    ('CENTROID_Y', '>f4', centroid_y)\n",
    "]\n",
    "\n",
    "ra = np.recarray((n_points, ), \n",
    "                 names=[name for name, _, _ in formatter], \n",
    "                 formats=[fmt for _, fmt, _ in formatter])\n",
    "\n",
    "for name, fmt, arr in formatter: \n",
    "    ra[name] = arr"
   ]
  },
  {
   "cell_type": "code",
   "execution_count": null,
   "metadata": {},
   "outputs": [],
   "source": [
    "fits.writeto('../linea/data/example_55Cnce.fits', ra, overwrite=True)"
   ]
  }
 ],
 "metadata": {
  "kernelspec": {
   "display_name": "Python 3",
   "language": "python",
   "name": "python3"
  },
  "language_info": {
   "codemirror_mode": {
    "name": "ipython",
    "version": 3
   },
   "file_extension": ".py",
   "mimetype": "text/x-python",
   "name": "python",
   "nbconvert_exporter": "python",
   "pygments_lexer": "ipython3",
   "version": "3.7.6"
  }
 },
 "nbformat": 4,
 "nbformat_minor": 4
}
