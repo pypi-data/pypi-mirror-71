{
 "cells": [
  {
   "cell_type": "code",
   "execution_count": null,
   "metadata": {},
   "outputs": [],
   "source": [
    "%matplotlib inline\n",
    "from glob import glob \n",
    "\n",
    "import matplotlib.pyplot as plt\n",
    "import numpy as np\n",
    "from scipy.stats import binned_statistic \n",
    "from batman import TransitModel\n",
    "\n",
    "import sys\n",
    "sys.path.insert(0, '../')\n",
    "from linea import JointLightCurve, Planet\n",
    "\n",
    "p = Planet.from_name(\"WASP-189 b\")"
   ]
  },
  {
   "cell_type": "code",
   "execution_count": null,
   "metadata": {},
   "outputs": [],
   "source": [
    "lcs = JointLightCurve.from_example()"
   ]
  },
  {
   "cell_type": "code",
   "execution_count": null,
   "metadata": {},
   "outputs": [],
   "source": [
    "for lc in lcs: \n",
    "    lc.sigma_clip_flux(sigma_upper=3, sigma_lower=3, plot=True)\n",
    "    plt.show()"
   ]
  },
  {
   "cell_type": "code",
   "execution_count": null,
   "metadata": {},
   "outputs": [],
   "source": [
    "X = lcs.combined_design_matrix()\n",
    "\n",
    "all_lcs = lcs.concatenate()\n",
    "\n",
    "eclipse_model = TransitModel(p, all_lcs.bjd_time[~all_lcs.mask], \n",
    "                             supersample_factor=3, \n",
    "                             transittype='secondary',\n",
    "                             exp_time=all_lcs.bjd_time[1]-all_lcs.bjd_time[0]\n",
    "                            ).light_curve(p) - 1\n",
    "\n",
    "X = np.hstack([\n",
    "    X, \n",
    "    eclipse_model[:, None]\n",
    "])"
   ]
  },
  {
   "cell_type": "code",
   "execution_count": null,
   "metadata": {},
   "outputs": [],
   "source": [
    "r = lcs.regress(X)"
   ]
  },
  {
   "cell_type": "code",
   "execution_count": null,
   "metadata": {},
   "outputs": [],
   "source": [
    "print(f\"Eclipse depth = {r.betas[-1] :.0f} ± {np.sqrt(np.diag(r.cov))[-1] :.0f} ppm\")"
   ]
  },
  {
   "cell_type": "code",
   "execution_count": null,
   "metadata": {},
   "outputs": [],
   "source": [
    "phases = np.concatenate([lc.phase(p)[~lc.mask] for lc in lcs])\n",
    "\n",
    "sort = np.argsort(phases)\n",
    "\n",
    "obs_eclipse = all_lcs.flux[~all_lcs.mask] / (X[:, :-1] @ r.betas[:-1])\n",
    "eclipse_model = X[:, -1] * r.betas[-1]\n",
    "\n",
    "bs = binned_statistic(phases[sort], obs_eclipse[sort], bins=30)\n",
    "bincenters = 0.5 * (bs.bin_edges[1:] + bs.bin_edges[:-1])\n",
    "\n",
    "fig, ax = plt.subplots(figsize=(8, 6), sharex=True)\n",
    "ax.plot(phases, obs_eclipse, '.', color='silver')\n",
    "ax.plot(phases[sort], eclipse_model[sort] + 1, 'r', lw=2)\n",
    "ax.plot(bincenters, bs.statistic, 's', color='k')\n",
    "\n",
    "for sp in ['right', 'top']:\n",
    "    ax.spines[sp].set_visible(False)\n",
    "ax.ticklabel_format(useOffset=False)\n",
    "\n",
    "ax.set(xlabel='Phase', ylabel='Flux', \n",
    "       ylim=[0.99965, 1.0004]);"
   ]
  }
 ],
 "metadata": {
  "kernelspec": {
   "display_name": "Python 3",
   "language": "python",
   "name": "python3"
  },
  "language_info": {
   "codemirror_mode": {
    "name": "ipython",
    "version": 3
   },
   "file_extension": ".py",
   "mimetype": "text/x-python",
   "name": "python",
   "nbconvert_exporter": "python",
   "pygments_lexer": "ipython3",
   "version": "3.7.6"
  }
 },
 "nbformat": 4,
 "nbformat_minor": 4
}
