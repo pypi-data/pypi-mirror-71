{
 "cells": [
  {
   "cell_type": "code",
   "execution_count": null,
   "metadata": {},
   "outputs": [],
   "source": [
    "import ipydagred3"
   ]
  },
  {
   "cell_type": "code",
   "execution_count": null,
   "metadata": {},
   "outputs": [],
   "source": [
    "# Instantiate new graph\n",
    "g = ipydagred3.Graph()"
   ]
  },
  {
   "cell_type": "code",
   "execution_count": null,
   "metadata": {},
   "outputs": [],
   "source": [
    "states = [\"CLOSED\", \"LISTEN\", \"SYN RCVD\", \"SYN SENT\",\n",
    "          \"ESTAB\", \"FINWAIT-1\", \"CLOSE WAIT\", \"FINWAIT-2\",\n",
    "          \"CLOSING\", \"LAST-ACK\", \"TIME WAIT\"]"
   ]
  },
  {
   "cell_type": "code",
   "execution_count": null,
   "metadata": {},
   "outputs": [],
   "source": [
    "for state in states:\n",
    "    g.setNode(state, tooltip='tooltip1 of ' + state)"
   ]
  },
  {
   "cell_type": "code",
   "execution_count": null,
   "metadata": {},
   "outputs": [],
   "source": [
    "g.setEdge(\"CLOSED\",     \"LISTEN\",     label=\"open\")\n",
    "g.setEdge(\"LISTEN\",     \"SYN RCVD\",   label=\"rcv SYN\")\n",
    "g.setEdge(\"LISTEN\",     \"SYN SENT\",   label=\"send\")\n",
    "g.setEdge(\"LISTEN\",     \"CLOSED\",     label=\"close\")\n",
    "g.setEdge(\"SYN RCVD\",   \"FINWAIT-1\",  label=\"close\")\n",
    "g.setEdge(\"SYN RCVD\",   \"ESTAB\",      label=\"rcv ACK of SYN\")\n",
    "g.setEdge(\"SYN SENT\",   \"SYN RCVD\",   label=\"rcv SYN\")\n",
    "g.setEdge(\"SYN SENT\",   \"ESTAB\",      label=\"rcv SYN, ACK\")\n",
    "g.setEdge(\"SYN SENT\",   \"CLOSED\",     label=\"close\")\n",
    "g.setEdge(\"ESTAB\",      \"FINWAIT-1\",  label=\"close\")\n",
    "g.setEdge(\"ESTAB\",      \"CLOSE WAIT\", label=\"rcv FIN\")\n",
    "g.setEdge(\"FINWAIT-1\",  \"FINWAIT-2\",  label=\"rcv ACK of FIN\")\n",
    "g.setEdge(\"FINWAIT-1\",  \"CLOSING\",    label=\"rcv FIN\")\n",
    "g.setEdge(\"CLOSE WAIT\", \"LAST-ACK\",   label=\"close\")\n",
    "g.setEdge(\"FINWAIT-2\",  \"TIME WAIT\",  label=\"rcv FIN\")\n",
    "g.setEdge(\"CLOSING\",    \"TIME WAIT\",  label=\"rcv ACK of FIN\")\n",
    "g.setEdge(\"LAST-ACK\",   \"CLOSED\",     label=\"rcv ACK of FIN\")\n",
    "g.setEdge(\"TIME WAIT\",  \"CLOSED\",     label=\"timeout=2MSL\");"
   ]
  },
  {
   "cell_type": "code",
   "execution_count": null,
   "metadata": {},
   "outputs": [],
   "source": [
    "widget = ipydagred3.DagreD3Widget(graph=g)\n",
    "widget"
   ]
  },
  {
   "cell_type": "code",
   "execution_count": null,
   "metadata": {},
   "outputs": [],
   "source": [
    "# Add some custom colors based on state\n",
    "g.setNode('CLOSED', style=\"fill: #f77\")\n",
    "g.setNode('ESTAB', style=\"fill: #7f7\")"
   ]
  },
  {
   "cell_type": "code",
   "execution_count": null,
   "metadata": {},
   "outputs": [],
   "source": [
    "# Add new nodes\n",
    "g.setNode(\"test\")\n",
    "g.setNode(\"test2\")"
   ]
  },
  {
   "cell_type": "code",
   "execution_count": null,
   "metadata": {},
   "outputs": [],
   "source": [
    "# Add new edges\n",
    "g.setEdge(\"test\", \"test2\")"
   ]
  },
  {
   "cell_type": "code",
   "execution_count": null,
   "metadata": {},
   "outputs": [],
   "source": []
  }
 ],
 "metadata": {
  "kernelspec": {
   "display_name": "Python 3",
   "language": "python",
   "name": "python3"
  },
  "language_info": {
   "codemirror_mode": {
    "name": "ipython",
    "version": 3
   },
   "file_extension": ".py",
   "mimetype": "text/x-python",
   "name": "python",
   "nbconvert_exporter": "python",
   "pygments_lexer": "ipython3",
   "version": "3.7.5"
  }
 },
 "nbformat": 4,
 "nbformat_minor": 4
}
