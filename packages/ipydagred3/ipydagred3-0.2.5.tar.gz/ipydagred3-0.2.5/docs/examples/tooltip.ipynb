{
 "cells": [
  {
   "cell_type": "code",
   "execution_count": null,
   "metadata": {},
   "outputs": [],
   "source": [
    "import ipydagred3 as dd3\n",
    "from ipywidgets import VBox, Label\n",
    "\n",
    "g = dd3.Graph(multigraph=True)\n",
    "n = g.setNode(\"a\", shape=\"diamond\")\n",
    "\n",
    "g.setNode(\"b\", tooltip=\"this is a test\")\n",
    "e = g.setEdge(\"a\", \"b\", label=\"test\", labelpos=\"r\", tooltip=\"a->b\")\n",
    "d = dd3.DagreD3Widget(graph=g)"
   ]
  },
  {
   "cell_type": "code",
   "execution_count": null,
   "metadata": {},
   "outputs": [],
   "source": [
    "def foo(graph, clicked):\n",
    "    box.children[-1].value = \"last clicked: {}\".format(clicked)\n",
    "    \n",
    "d.on_click(foo)\n",
    "\n",
    "box = VBox([d, Label()])\n",
    "box"
   ]
  },
  {
   "cell_type": "code",
   "execution_count": null,
   "metadata": {},
   "outputs": [],
   "source": [
    "g.setNode(\"d\", shape=\"circle\")"
   ]
  },
  {
   "cell_type": "code",
   "execution_count": null,
   "metadata": {},
   "outputs": [],
   "source": [
    "g.setEdge(\"b\", \"d\", label=\"b->d\", labelpos=\"r\", style=\"stroke: red;\")"
   ]
  },
  {
   "cell_type": "code",
   "execution_count": null,
   "metadata": {},
   "outputs": [],
   "source": []
  }
 ],
 "metadata": {
  "kernelspec": {
   "display_name": "Python 3",
   "language": "python",
   "name": "python3"
  },
  "language_info": {
   "codemirror_mode": {
    "name": "ipython",
    "version": 3
   },
   "file_extension": ".py",
   "mimetype": "text/x-python",
   "name": "python",
   "nbconvert_exporter": "python",
   "pygments_lexer": "ipython3",
   "version": "3.7.5"
  }
 },
 "nbformat": 4,
 "nbformat_minor": 4
}
