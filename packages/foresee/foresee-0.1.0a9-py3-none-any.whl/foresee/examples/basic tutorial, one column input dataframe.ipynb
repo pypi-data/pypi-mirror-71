{
 "cells": [
  {
   "cell_type": "markdown",
   "metadata": {},
   "source": [
    "##### An example of using foresee from jupyter notebook"
   ]
  },
  {
   "cell_type": "code",
   "execution_count": null,
   "metadata": {},
   "outputs": [],
   "source": [
    "import warnings\n",
    "warnings.filterwarnings(\"ignore\")"
   ]
  },
  {
   "cell_type": "code",
   "execution_count": null,
   "metadata": {},
   "outputs": [],
   "source": [
    "import pandas as pd\n",
    "import numpy as np\n",
    "from io import StringIO\n",
    "import importlib_resources\n",
    "\n",
    "# import main from foresee.scripts\n",
    "from foresee.scripts import main"
   ]
  },
  {
   "cell_type": "code",
   "execution_count": null,
   "metadata": {},
   "outputs": [],
   "source": [
    "# upload sample time-series dataframe with columns(id, date_stamp, y)\n",
    "\n",
    "test_data_light_txt = importlib_resources.files('foresee.data').joinpath('basic_time_series_data.csv').read_text()\n",
    "\n",
    "ts_df = pd.read_csv(StringIO(test_data_light_txt))\n",
    "ts_df.head()"
   ]
  },
  {
   "cell_type": "code",
   "execution_count": null,
   "metadata": {},
   "outputs": [],
   "source": [
    "# user defind parameters\n",
    "\n",
    "# time series values column name: required if input dataframe has more than one column\n",
    "\n",
    "endog_colname = None\n",
    "\n",
    "if len(ts_df.columns) > 1 and endog_colname is None:\n",
    "    raise ValueError('time series column name is required!!!')\n",
    "\n",
    "freq = 5\n",
    "fcst_length = 10\n",
    "# model_list = ['ewm_model']\n",
    "model_list = ['ewm_model', 'fft', 'holt_winters', 'prophet', 'sarimax']\n",
    "\n",
    "'''\n",
    "avilable run types: 'best_model', 'all_best', 'all_models'\n",
    "'''\n",
    "\n",
    "run_type = 'all_models'\n",
    "\n",
    "# if comparing models (run_type is 'best_model' or 'all_best') then holdout length is required\n",
    "\n",
    "if run_type == 'all_models':\n",
    "    holdout_length = None\n",
    "else:\n",
    "    holdout_length = 20\n",
    "\n",
    "\n",
    "# we are working with one time series and no date-time column so time series id and date-time column name are set to None.\n",
    "gbkey = None\n",
    "ds_column = None\n",
    "\n",
    "\n",
    "# we are fitting one time series in this example so no need to parallelize.\n",
    "\n",
    "fit_execution_method = 'non_parallel'"
   ]
  },
  {
   "cell_type": "code",
   "execution_count": null,
   "metadata": {},
   "outputs": [],
   "source": [
    "'''\n",
    "result:  dataframe containing fitted values and future forecasts\n",
    "fit_results_list:  list of dictionaries containing fitted values, forecasts, and errors (useful for debuging)\n",
    "'''\n",
    "\n",
    "result, fit_result_list = main.collect_result(\n",
    "                                                    ts_df.copy(),\n",
    "                                                    endog_colname,\n",
    "                                                    gbkey,\n",
    "                                                    ds_column, \n",
    "                                                    freq, \n",
    "                                                    fcst_length, \n",
    "                                                    run_type, \n",
    "                                                    holdout_length, \n",
    "                                                    model_list,\n",
    "                                                    fit_execution_method,\n",
    "                                            )\n",
    "\n",
    "result.head()"
   ]
  },
  {
   "cell_type": "code",
   "execution_count": null,
   "metadata": {},
   "outputs": [],
   "source": [
    "# m_list = model_list.remove('prophet')\n",
    "for k, df in result.groupby('ts_id'):\n",
    "    df.iloc[-50:].plot(y=[x+'_forecast' for x in model_list])\n"
   ]
  },
  {
   "cell_type": "code",
   "execution_count": null,
   "metadata": {},
   "outputs": [],
   "source": [
    "for item in fit_result_list:\n",
    "    for model in model_list:\n",
    "        if item[model+'_err'] is not None:\n",
    "            print(model + ': ' + item[model+'_err'])"
   ]
  }
 ],
 "metadata": {
  "kernelspec": {
   "display_name": "Python 3",
   "language": "python",
   "name": "python3"
  },
  "language_info": {
   "codemirror_mode": {
    "name": "ipython",
    "version": 3
   },
   "file_extension": ".py",
   "mimetype": "text/x-python",
   "name": "python",
   "nbconvert_exporter": "python",
   "pygments_lexer": "ipython3",
   "version": "3.6.5"
  }
 },
 "nbformat": 4,
 "nbformat_minor": 2
}
