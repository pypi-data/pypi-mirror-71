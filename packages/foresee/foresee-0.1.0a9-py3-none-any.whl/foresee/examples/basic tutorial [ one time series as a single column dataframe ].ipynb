{
 "cells": [
  {
   "cell_type": "markdown",
   "metadata": {},
   "source": [
    "##### An example of using foresee from jupyter notebook"
   ]
  },
  {
   "cell_type": "code",
   "execution_count": null,
   "metadata": {},
   "outputs": [],
   "source": [
    "import warnings\n",
    "warnings.filterwarnings(\"ignore\")"
   ]
  },
  {
   "cell_type": "code",
   "execution_count": null,
   "metadata": {},
   "outputs": [],
   "source": [
    "import pandas as pd\n",
    "import numpy as np\n",
    "from io import StringIO\n",
    "import importlib_resources\n",
    "\n",
    "# import main from foresee.scripts\n",
    "from foresee.scripts.main import prepare_fit_report"
   ]
  },
  {
   "cell_type": "code",
   "execution_count": null,
   "metadata": {},
   "outputs": [],
   "source": [
    "# upload sample time-series dataframe\n",
    "\n",
    "ts_df_txt = importlib_resources.files('foresee.data').joinpath('basic_time_series_data.csv').read_text()\n",
    "\n",
    "ts_df = pd.read_csv(StringIO(ts_df_txt))\n",
    "ts_df.head()"
   ]
  },
  {
   "cell_type": "code",
   "execution_count": null,
   "metadata": {},
   "outputs": [],
   "source": [
    "# available forecasting models\n",
    "model_list = ['ewm_model', 'fft', 'holt_winters', 'prophet', 'sarimax']\n",
    "\n",
    "\n",
    "result, _ = prepare_fit_report(ts_df.copy(), model_list=model_list)"
   ]
  }
 ],
 "metadata": {
  "kernelspec": {
   "display_name": "Python 3",
   "language": "python",
   "name": "python3"
  },
  "language_info": {
   "codemirror_mode": {
    "name": "ipython",
    "version": 3
   },
   "file_extension": ".py",
   "mimetype": "text/x-python",
   "name": "python",
   "nbconvert_exporter": "python",
   "pygments_lexer": "ipython3",
   "version": "3.6.5"
  }
 },
 "nbformat": 4,
 "nbformat_minor": 2
}
