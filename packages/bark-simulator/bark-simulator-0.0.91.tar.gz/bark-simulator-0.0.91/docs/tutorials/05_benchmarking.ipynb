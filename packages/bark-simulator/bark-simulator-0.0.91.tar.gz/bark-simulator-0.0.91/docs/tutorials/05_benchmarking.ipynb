{
 "cells": [
  {
   "cell_type": "markdown",
   "metadata": {},
   "source": [
    "# Benchmarking Behavior Planners in BARK\n",
    "\n",
    "This notebook the benchmarking workflow of BARK.\n",
    "\n",
    "Systematically benchmarking behavior consists of\n",
    "1. A reproducable set of scenarios (we call it **BenchmarkDatabase**)\n",
    "2. Metrics, which you use to study the performance (we call it **Evaluators**)\n",
    "3. The behavior model(s) under test\n",
    "\n",
    "Our **BenchmarkRunner** can then run the benchmark and produce the results."
   ]
  },
  {
   "cell_type": "code",
   "execution_count": 1,
   "metadata": {},
   "outputs": [],
   "source": [
    "import os\n",
    "import matplotlib.pyplot as plt\n",
    "from IPython.display import Video\n",
    "\n",
    "from benchmark_database.load.benchmark_database import BenchmarkDatabase\n",
    "from benchmark_database.serialization.database_serializer import DatabaseSerializer\n",
    "from bark.benchmark.benchmark_runner import BenchmarkRunner, BenchmarkConfig, BenchmarkResult\n",
    "from bark.benchmark.benchmark_analyzer import BenchmarkAnalyzer\n",
    "\n",
    "from bark.runtime.commons.parameters import ParameterServer\n",
    "\n",
    "from bark.runtime.viewer.matplotlib_viewer import MPViewer\n",
    "from bark.runtime.viewer.video_renderer import VideoRenderer\n",
    "\n",
    "\n",
    "from bark.core.models.behavior import BehaviorIDMClassic, BehaviorConstantVelocity"
   ]
  },
  {
   "cell_type": "markdown",
   "metadata": {},
   "source": [
    "# Database\n",
    "The benchmark database provides a reproducable set of scenarios.\n",
    "A scenario get's created by a ScenarioGenerator (we have a couple of them). The scenarios are serialized into binary files (ending `.bark_scenarios`) and packed together with the map file and the parameter files into a `.zip`-archive. We call this zipped archive a relase, which can be published at Github, or processed locally.\n",
    "\n",
    "## We will first start with the DatabaseSerializer\n",
    "\n",
    "The **DatabaseSerializer** recursively serializes all scenario param files sets\n",
    " within a folder.\n",
    " \n",
    "We will process the database directory from Github."
   ]
  },
  {
   "cell_type": "code",
   "execution_count": 16,
   "metadata": {},
   "outputs": [
    {
     "name": "stderr",
     "output_type": "stream",
     "text": [
      "WARNING:root:Do not set down the number of serialized scenarios in a release                     -> set serialized_scenarios=None\n",
      "INFO:root:The following list of files will be released:\n"
     ]
    },
    {
     "ename": "FileNotFoundError",
     "evalue": "[Errno 2] No such file or directory: '../../../benchmark_database/data/benchmark_database_tutorial.zip'",
     "output_type": "error",
     "traceback": [
      "\u001b[0;31m---------------------------------------------------------------------------\u001b[0m",
      "\u001b[0;31mFileNotFoundError\u001b[0m                         Traceback (most recent call last)",
      "\u001b[0;32m<ipython-input-16-5efd5ccfa9f3>\u001b[0m in \u001b[0;36m<module>\u001b[0;34m\u001b[0m\n\u001b[1;32m      1\u001b[0m \u001b[0mdbs\u001b[0m \u001b[0;34m=\u001b[0m \u001b[0mDatabaseSerializer\u001b[0m\u001b[0;34m(\u001b[0m\u001b[0mtest_scenarios\u001b[0m\u001b[0;34m=\u001b[0m\u001b[0;36m1\u001b[0m\u001b[0;34m,\u001b[0m \u001b[0mtest_world_steps\u001b[0m\u001b[0;34m=\u001b[0m\u001b[0;36m5\u001b[0m\u001b[0;34m,\u001b[0m \u001b[0mnum_serialize_scenarios\u001b[0m\u001b[0;34m=\u001b[0m\u001b[0;36m10\u001b[0m\u001b[0;34m)\u001b[0m\u001b[0;34m\u001b[0m\u001b[0;34m\u001b[0m\u001b[0m\n\u001b[1;32m      2\u001b[0m \u001b[0mdbs\u001b[0m\u001b[0;34m.\u001b[0m\u001b[0mprocess\u001b[0m\u001b[0;34m(\u001b[0m\u001b[0;34m\"../../../benchmark_database/data/database1\"\u001b[0m\u001b[0;34m)\u001b[0m\u001b[0;34m\u001b[0m\u001b[0;34m\u001b[0m\u001b[0m\n\u001b[0;32m----> 3\u001b[0;31m \u001b[0mlocal_release_filename\u001b[0m \u001b[0;34m=\u001b[0m \u001b[0mdbs\u001b[0m\u001b[0;34m.\u001b[0m\u001b[0mrelease\u001b[0m\u001b[0;34m(\u001b[0m\u001b[0mversion\u001b[0m\u001b[0;34m=\u001b[0m\u001b[0;34m\"tutorial\"\u001b[0m\u001b[0;34m)\u001b[0m\u001b[0;34m\u001b[0m\u001b[0;34m\u001b[0m\u001b[0m\n\u001b[0m\u001b[1;32m      4\u001b[0m \u001b[0;34m\u001b[0m\u001b[0m\n\u001b[1;32m      5\u001b[0m \u001b[0mprint\u001b[0m\u001b[0;34m(\u001b[0m\u001b[0;34m'Filename:'\u001b[0m\u001b[0;34m,\u001b[0m \u001b[0mlocal_release_filename\u001b[0m\u001b[0;34m)\u001b[0m\u001b[0;34m\u001b[0m\u001b[0;34m\u001b[0m\u001b[0m\n",
      "\u001b[0;32m~/.cache/bazel/_bazel_esterle/d337abac8c371120c1b9affa1049fa7e/execroot/bark_project/bazel-out/k8-fastbuild/bin/docs/tutorials/run.runfiles/benchmark_database/serialization/database_serializer.py\u001b[0m in \u001b[0;36mrelease\u001b[0;34m(self, version, github_token, delete)\u001b[0m\n\u001b[1;32m    137\u001b[0m         packed_file_name = os.path.join(os.path.dirname(self._database_dir),\"{}.{}\".format(\n\u001b[1;32m    138\u001b[0m             DatabaseSerializer._release_file_name(version), \"zip\"))\n\u001b[0;32m--> 139\u001b[0;31m         \u001b[0mDatabaseSerializer\u001b[0m\u001b[0;34m.\u001b[0m\u001b[0m_pack\u001b[0m\u001b[0;34m(\u001b[0m\u001b[0mself\u001b[0m\u001b[0;34m.\u001b[0m\u001b[0m_database_dir\u001b[0m\u001b[0;34m,\u001b[0m \u001b[0mpacked_file_name\u001b[0m\u001b[0;34m)\u001b[0m\u001b[0;34m\u001b[0m\u001b[0;34m\u001b[0m\u001b[0m\n\u001b[0m\u001b[1;32m    140\u001b[0m \u001b[0;34m\u001b[0m\u001b[0m\n\u001b[1;32m    141\u001b[0m         \u001b[0;32mif\u001b[0m \u001b[0mgithub_token\u001b[0m\u001b[0;34m:\u001b[0m\u001b[0;34m\u001b[0m\u001b[0;34m\u001b[0m\u001b[0m\n",
      "\u001b[0;32m~/.cache/bazel/_bazel_esterle/d337abac8c371120c1b9affa1049fa7e/execroot/bark_project/bazel-out/k8-fastbuild/bin/docs/tutorials/run.runfiles/benchmark_database/serialization/database_serializer.py\u001b[0m in \u001b[0;36m_pack\u001b[0;34m(database_dir, packed_file_name)\u001b[0m\n\u001b[1;32m     99\u001b[0m     \u001b[0;32mdef\u001b[0m \u001b[0m_pack\u001b[0m\u001b[0;34m(\u001b[0m\u001b[0mdatabase_dir\u001b[0m\u001b[0;34m,\u001b[0m \u001b[0mpacked_file_name\u001b[0m\u001b[0;34m)\u001b[0m\u001b[0;34m:\u001b[0m\u001b[0;34m\u001b[0m\u001b[0;34m\u001b[0m\u001b[0m\n\u001b[1;32m    100\u001b[0m         \u001b[0mlogging\u001b[0m\u001b[0;34m.\u001b[0m\u001b[0minfo\u001b[0m\u001b[0;34m(\u001b[0m\u001b[0;34m'The following list of files will be released:'\u001b[0m\u001b[0;34m)\u001b[0m\u001b[0;34m\u001b[0m\u001b[0;34m\u001b[0m\u001b[0m\n\u001b[0;32m--> 101\u001b[0;31m         \u001b[0mzipf\u001b[0m \u001b[0;34m=\u001b[0m \u001b[0mzipfile\u001b[0m\u001b[0;34m.\u001b[0m\u001b[0mZipFile\u001b[0m\u001b[0;34m(\u001b[0m\u001b[0mpacked_file_name\u001b[0m\u001b[0;34m,\u001b[0m \u001b[0;34m'w'\u001b[0m\u001b[0;34m,\u001b[0m \u001b[0mzipfile\u001b[0m\u001b[0;34m.\u001b[0m\u001b[0mZIP_DEFLATED\u001b[0m\u001b[0;34m)\u001b[0m\u001b[0;34m\u001b[0m\u001b[0;34m\u001b[0m\u001b[0m\n\u001b[0m\u001b[1;32m    102\u001b[0m         \u001b[0mtmp_dir\u001b[0m \u001b[0;34m=\u001b[0m \u001b[0;34m\"/tmp/bark_packed_databases/{}\"\u001b[0m\u001b[0;34m.\u001b[0m\u001b[0mformat\u001b[0m\u001b[0;34m(\u001b[0m\u001b[0muuid\u001b[0m\u001b[0;34m.\u001b[0m\u001b[0muuid4\u001b[0m\u001b[0;34m(\u001b[0m\u001b[0;34m)\u001b[0m\u001b[0;34m)\u001b[0m\u001b[0;34m\u001b[0m\u001b[0;34m\u001b[0m\u001b[0m\n\u001b[1;32m    103\u001b[0m         \u001b[0mshutil\u001b[0m\u001b[0;34m.\u001b[0m\u001b[0mcopytree\u001b[0m\u001b[0;34m(\u001b[0m\u001b[0mdatabase_dir\u001b[0m\u001b[0;34m,\u001b[0m \u001b[0mtmp_dir\u001b[0m\u001b[0;34m)\u001b[0m \u001b[0;31m# copy to resolve symlinks\u001b[0m\u001b[0;34m\u001b[0m\u001b[0;34m\u001b[0m\u001b[0m\n",
      "\u001b[0;32m/usr/lib/python3.7/zipfile.py\u001b[0m in \u001b[0;36m__init__\u001b[0;34m(self, file, mode, compression, allowZip64, compresslevel)\u001b[0m\n\u001b[1;32m   1205\u001b[0m             \u001b[0;32mwhile\u001b[0m \u001b[0;32mTrue\u001b[0m\u001b[0;34m:\u001b[0m\u001b[0;34m\u001b[0m\u001b[0;34m\u001b[0m\u001b[0m\n\u001b[1;32m   1206\u001b[0m                 \u001b[0;32mtry\u001b[0m\u001b[0;34m:\u001b[0m\u001b[0;34m\u001b[0m\u001b[0;34m\u001b[0m\u001b[0m\n\u001b[0;32m-> 1207\u001b[0;31m                     \u001b[0mself\u001b[0m\u001b[0;34m.\u001b[0m\u001b[0mfp\u001b[0m \u001b[0;34m=\u001b[0m \u001b[0mio\u001b[0m\u001b[0;34m.\u001b[0m\u001b[0mopen\u001b[0m\u001b[0;34m(\u001b[0m\u001b[0mfile\u001b[0m\u001b[0;34m,\u001b[0m \u001b[0mfilemode\u001b[0m\u001b[0;34m)\u001b[0m\u001b[0;34m\u001b[0m\u001b[0;34m\u001b[0m\u001b[0m\n\u001b[0m\u001b[1;32m   1208\u001b[0m                 \u001b[0;32mexcept\u001b[0m \u001b[0mOSError\u001b[0m\u001b[0;34m:\u001b[0m\u001b[0;34m\u001b[0m\u001b[0;34m\u001b[0m\u001b[0m\n\u001b[1;32m   1209\u001b[0m                     \u001b[0;32mif\u001b[0m \u001b[0mfilemode\u001b[0m \u001b[0;32min\u001b[0m \u001b[0mmodeDict\u001b[0m\u001b[0;34m:\u001b[0m\u001b[0;34m\u001b[0m\u001b[0;34m\u001b[0m\u001b[0m\n",
      "\u001b[0;31mFileNotFoundError\u001b[0m: [Errno 2] No such file or directory: '../../../benchmark_database/data/benchmark_database_tutorial.zip'"
     ]
    }
   ],
   "source": [
    "dbs = DatabaseSerializer(test_scenarios=1, test_world_steps=5, num_serialize_scenarios=10)\n",
    "dbs.process(\"../../../benchmark_database/data/database1\")\n",
    "local_release_filename = dbs.release(version=\"tutorial\")\n",
    "\n",
    "print('Filename:', local_release_filename)"
   ]
  },
  {
   "cell_type": "markdown",
   "metadata": {},
   "source": [
    "Then reload to test correct parsing"
   ]
  },
  {
   "cell_type": "code",
   "execution_count": 3,
   "metadata": {},
   "outputs": [
    {
     "name": "stderr",
     "output_type": "stream",
     "text": [
      "INFO:root:extracting zipped-database ../../../benchmark_database/data/benchmark_database_tutorial.zip to temporary directory /tmp/bark_extracted_databases/2c542f5e-4dbd-4779-821d-9f3f2c7aa328\n",
      "INFO:root:Found info dict set_info_40per_variation\n",
      "INFO:root:Found info dict set_info_20per_variation\n",
      "INFO:root:The following scenario sets are available\n",
      "INFO:root:\n",
      "                    GeneratorName  NumScenarios                                             Params    Seed                                         Serialized          SetName\n",
      "0  ConfigurableScenarioGeneration          10.0  scenario_sets/highway_merging/40per_variation....  2000.0  scenario_sets/highway_merging/40per_variation_...  40per_variation\n",
      "1  ConfigurableScenarioGeneration          10.0  scenario_sets/highway_merging/20per_variation....  2000.0  scenario_sets/highway_merging/20per_variation_...  20per_variation\n"
     ]
    },
    {
     "name": "stdout",
     "output_type": "stream",
     "text": [
      "Scenario:  <bark.runtime.scenario.scenario_generation.scenario_generation.ScenarioGeneration object at 0x7fe91b055890>\n",
      "Scenario:  <bark.runtime.scenario.scenario_generation.scenario_generation.ScenarioGeneration object at 0x7fe911324590>\n"
     ]
    }
   ],
   "source": [
    "db = BenchmarkDatabase(database_root=local_release_filename)\n",
    "scenario_generation, _ = db.get_scenario_generator(scenario_set_id=0)\n",
    "\n",
    "for scenario_generation, _ in db:\n",
    "  print('Scenario: ', scenario_generation)"
   ]
  },
  {
   "cell_type": "markdown",
   "metadata": {},
   "source": [
    "## Evaluators\n",
    "\n",
    "Evaluators allow to calculate a boolean, integer or real-valued metric based on the current simulation world state.\n",
    "\n",
    "The current evaluators available in BARK are:\n",
    "- StepCount: returns the step count the scenario is at.\n",
    "- GoalReached: checks if a controlled agent’s Goal Definitionis satisfied.\n",
    "- DrivableArea: checks whether the agent is inside its RoadCorridor.\n",
    "- Collision(ControlledAgent): checks whether any agent or only the currently controlled agent collided\n",
    "\n",
    "Let's now map those evaluators to some symbols, that are easier to interpret."
   ]
  },
  {
   "cell_type": "code",
   "execution_count": 4,
   "metadata": {},
   "outputs": [],
   "source": [
    "evaluators = {\"success\" : \"EvaluatorGoalReached\", \\\n",
    "              \"collision\" : \"EvaluatorCollisionEgoAgent\", \\\n",
    "              \"max_steps\": \"EvaluatorStepCount\"}"
   ]
  },
  {
   "cell_type": "markdown",
   "metadata": {},
   "source": [
    "We will now define the terminal conditions of our benchmark. We state that a scenario ends, if\n",
    "- a collision occured\n",
    "- the number of time steps exceeds the limit\n",
    "- the definition of success becomes true (which we defined to reaching the goal, using EvaluatorGoalReached)"
   ]
  },
  {
   "cell_type": "code",
   "execution_count": 5,
   "metadata": {},
   "outputs": [],
   "source": [
    "terminal_when = {\"collision\" :lambda x: x, \\\n",
    "                 \"max_steps\": lambda x : x>10, \\\n",
    "                 \"success\" : lambda x: x}"
   ]
  },
  {
   "cell_type": "markdown",
   "metadata": {},
   "source": [
    "# Behaviors Under Test\n",
    "Let's now define the Behaviors we want to compare. We will compare IDM with Constant Velocity, but we could also compare two different parameter sets for IDM. "
   ]
  },
  {
   "cell_type": "code",
   "execution_count": 6,
   "metadata": {},
   "outputs": [],
   "source": [
    "params = ParameterServer() \n",
    "behaviors_tested = {\"IDM\": BehaviorIDMClassic(params), \"Const\" : BehaviorConstantVelocity(params)}"
   ]
  },
  {
   "cell_type": "markdown",
   "metadata": {},
   "source": [
    "# Benchmark Runner\n",
    "\n",
    "The BenchmarkRunner allows to evaluate behavior models with different parameter configurations over the entire benchmarking database."
   ]
  },
  {
   "cell_type": "code",
   "execution_count": 7,
   "metadata": {},
   "outputs": [
    {
     "name": "stderr",
     "output_type": "stream",
     "text": [
      "INFO:BenchmarkRunner:Running config idx 0/39: Scenario 0 of set \"40per_variation\" for behavior \"IDM\"\n",
      "INFO:BenchmarkRunner:Running config idx 1/39: Scenario 1 of set \"40per_variation\" for behavior \"IDM\"\n",
      "INFO:BenchmarkRunner:Running config idx 2/39: Scenario 2 of set \"40per_variation\" for behavior \"IDM\"\n",
      "INFO:BenchmarkRunner:Running config idx 3/39: Scenario 3 of set \"40per_variation\" for behavior \"IDM\"\n",
      "INFO:BenchmarkRunner:Running config idx 4/39: Scenario 4 of set \"40per_variation\" for behavior \"IDM\"\n",
      "INFO:BenchmarkRunner:Running config idx 5/39: Scenario 5 of set \"40per_variation\" for behavior \"IDM\"\n",
      "INFO:BenchmarkRunner:Running config idx 6/39: Scenario 6 of set \"40per_variation\" for behavior \"IDM\"\n",
      "INFO:BenchmarkRunner:Running config idx 7/39: Scenario 7 of set \"40per_variation\" for behavior \"IDM\"\n",
      "INFO:BenchmarkRunner:Running config idx 8/39: Scenario 8 of set \"40per_variation\" for behavior \"IDM\"\n",
      "INFO:BenchmarkRunner:Running config idx 9/39: Scenario 9 of set \"40per_variation\" for behavior \"IDM\"\n",
      "INFO:BenchmarkRunner:\n",
      "------------------- Current Evaluation Results ---------------------- \n",
      " Num. Results:10\n",
      "                           success  collision  max_steps  step\n",
      "scen_set        behavior                                     \n",
      "40per_variation IDM         False      False       11.0  10.0 \n",
      " ---------------------------------------------------------------------\n",
      "INFO:BenchmarkRunner:Running config idx 10/39: Scenario 0 of set \"20per_variation\" for behavior \"IDM\"\n",
      "INFO:BenchmarkRunner:Running config idx 11/39: Scenario 1 of set \"20per_variation\" for behavior \"IDM\"\n",
      "INFO:BenchmarkRunner:Running config idx 12/39: Scenario 2 of set \"20per_variation\" for behavior \"IDM\"\n",
      "INFO:BenchmarkRunner:Running config idx 13/39: Scenario 3 of set \"20per_variation\" for behavior \"IDM\"\n",
      "INFO:BenchmarkRunner:Running config idx 14/39: Scenario 4 of set \"20per_variation\" for behavior \"IDM\"\n",
      "INFO:BenchmarkRunner:Running config idx 15/39: Scenario 5 of set \"20per_variation\" for behavior \"IDM\"\n",
      "INFO:BenchmarkRunner:Running config idx 16/39: Scenario 6 of set \"20per_variation\" for behavior \"IDM\"\n",
      "INFO:BenchmarkRunner:Running config idx 17/39: Scenario 7 of set \"20per_variation\" for behavior \"IDM\"\n",
      "INFO:BenchmarkRunner:Running config idx 18/39: Scenario 8 of set \"20per_variation\" for behavior \"IDM\"\n",
      "INFO:BenchmarkRunner:Running config idx 19/39: Scenario 9 of set \"20per_variation\" for behavior \"IDM\"\n",
      "INFO:BenchmarkRunner:\n",
      "------------------- Current Evaluation Results ---------------------- \n",
      " Num. Results:20\n",
      "                           success  collision  max_steps  step\n",
      "scen_set        behavior                                     \n",
      "20per_variation IDM         False      False       11.0  10.0\n",
      "40per_variation IDM         False      False       11.0  10.0 \n",
      " ---------------------------------------------------------------------\n",
      "INFO:BenchmarkRunner:Running config idx 20/39: Scenario 0 of set \"40per_variation\" for behavior \"Const\"\n",
      "INFO:BenchmarkRunner:Running config idx 21/39: Scenario 1 of set \"40per_variation\" for behavior \"Const\"\n",
      "INFO:BenchmarkRunner:Running config idx 22/39: Scenario 2 of set \"40per_variation\" for behavior \"Const\"\n",
      "INFO:BenchmarkRunner:Running config idx 23/39: Scenario 3 of set \"40per_variation\" for behavior \"Const\"\n",
      "INFO:BenchmarkRunner:Running config idx 24/39: Scenario 4 of set \"40per_variation\" for behavior \"Const\"\n",
      "INFO:BenchmarkRunner:Running config idx 25/39: Scenario 5 of set \"40per_variation\" for behavior \"Const\"\n",
      "INFO:BenchmarkRunner:Running config idx 26/39: Scenario 6 of set \"40per_variation\" for behavior \"Const\"\n",
      "INFO:BenchmarkRunner:Running config idx 27/39: Scenario 7 of set \"40per_variation\" for behavior \"Const\"\n",
      "INFO:BenchmarkRunner:Running config idx 28/39: Scenario 8 of set \"40per_variation\" for behavior \"Const\"\n",
      "INFO:BenchmarkRunner:Running config idx 29/39: Scenario 9 of set \"40per_variation\" for behavior \"Const\"\n",
      "INFO:BenchmarkRunner:\n",
      "------------------- Current Evaluation Results ---------------------- \n",
      " Num. Results:30\n",
      "                           success  collision  max_steps  step\n",
      "scen_set        behavior                                     \n",
      "20per_variation IDM         False      False       11.0  10.0\n",
      "40per_variation Const       False      False       11.0  10.0\n",
      "                IDM         False      False       11.0  10.0 \n",
      " ---------------------------------------------------------------------\n",
      "INFO:BenchmarkRunner:Running config idx 30/39: Scenario 0 of set \"20per_variation\" for behavior \"Const\"\n",
      "INFO:BenchmarkRunner:Running config idx 31/39: Scenario 1 of set \"20per_variation\" for behavior \"Const\"\n",
      "INFO:BenchmarkRunner:Running config idx 32/39: Scenario 2 of set \"20per_variation\" for behavior \"Const\"\n",
      "INFO:BenchmarkRunner:Running config idx 33/39: Scenario 3 of set \"20per_variation\" for behavior \"Const\"\n",
      "INFO:BenchmarkRunner:Running config idx 34/39: Scenario 4 of set \"20per_variation\" for behavior \"Const\"\n",
      "INFO:BenchmarkRunner:Running config idx 35/39: Scenario 5 of set \"20per_variation\" for behavior \"Const\"\n",
      "INFO:BenchmarkRunner:Running config idx 36/39: Scenario 6 of set \"20per_variation\" for behavior \"Const\"\n",
      "INFO:BenchmarkRunner:Running config idx 37/39: Scenario 7 of set \"20per_variation\" for behavior \"Const\"\n",
      "INFO:BenchmarkRunner:Running config idx 38/39: Scenario 8 of set \"20per_variation\" for behavior \"Const\"\n",
      "INFO:BenchmarkRunner:Running config idx 39/39: Scenario 9 of set \"20per_variation\" for behavior \"Const\"\n",
      "INFO:BenchmarkRunner:\n",
      "------------------- Current Evaluation Results ---------------------- \n",
      " Num. Results:40\n",
      "                           success  collision  max_steps  step\n",
      "scen_set        behavior                                     \n",
      "20per_variation Const       False      False       11.0  10.0\n",
      "                IDM         False      False       11.0  10.0\n",
      "40per_variation Const       False      False       11.0  10.0\n",
      "                IDM         False      False       11.0  10.0 \n",
      " ---------------------------------------------------------------------\n"
     ]
    }
   ],
   "source": [
    "benchmark_runner = BenchmarkRunner(benchmark_database=db,\\\n",
    "                                   evaluators=evaluators,\\\n",
    "                                   terminal_when=terminal_when,\\\n",
    "                                   behaviors=behaviors_tested,\\\n",
    "                                   log_eval_avg_every=10)\n",
    "\n",
    "result = benchmark_runner.run(maintain_history=True)"
   ]
  },
  {
   "cell_type": "markdown",
   "metadata": {},
   "source": [
    "We will now dump the files, to allow them to be postprocessed later."
   ]
  },
  {
   "cell_type": "code",
   "execution_count": 8,
   "metadata": {},
   "outputs": [
    {
     "name": "stderr",
     "output_type": "stream",
     "text": [
      "INFO:root:Saved BenchmarkResult to /tmp/bark_extracted_databases/2c542f5e-4dbd-4779-821d-9f3f2c7aa328/benchmark_results.pickle\n"
     ]
    }
   ],
   "source": [
    "result.dump(os.path.join(\"./benchmark_results.pickle\"))\n"
   ]
  },
  {
   "cell_type": "markdown",
   "metadata": {},
   "source": [
    "# Benchmark Results\n",
    "\n",
    "Benchmark results contain\n",
    "- the evaluated metrics of each simulation run, as a Panda Dataframe\n",
    "- the world state of every simulation (optional)"
   ]
  },
  {
   "cell_type": "code",
   "execution_count": 9,
   "metadata": {},
   "outputs": [],
   "source": [
    "result_loaded = BenchmarkResult.load(os.path.join(\"./benchmark_results.pickle\"))"
   ]
  },
  {
   "cell_type": "markdown",
   "metadata": {},
   "source": [
    "We will now first analyze the dataframe."
   ]
  },
  {
   "cell_type": "code",
   "execution_count": 10,
   "metadata": {},
   "outputs": [
    {
     "data": {
      "text/html": [
       "<div>\n",
       "<style scoped>\n",
       "    .dataframe tbody tr th:only-of-type {\n",
       "        vertical-align: middle;\n",
       "    }\n",
       "\n",
       "    .dataframe tbody tr th {\n",
       "        vertical-align: top;\n",
       "    }\n",
       "\n",
       "    .dataframe thead th {\n",
       "        text-align: right;\n",
       "    }\n",
       "</style>\n",
       "<table border=\"1\" class=\"dataframe\">\n",
       "  <thead>\n",
       "    <tr style=\"text-align: right;\">\n",
       "      <th></th>\n",
       "      <th>Terminal</th>\n",
       "      <th>behavior</th>\n",
       "      <th>collision</th>\n",
       "      <th>config_idx</th>\n",
       "      <th>max_steps</th>\n",
       "      <th>scen_idx</th>\n",
       "      <th>scen_set</th>\n",
       "      <th>step</th>\n",
       "      <th>success</th>\n",
       "    </tr>\n",
       "  </thead>\n",
       "  <tbody>\n",
       "    <tr>\n",
       "      <th>0</th>\n",
       "      <td>[max_steps]</td>\n",
       "      <td>IDM</td>\n",
       "      <td>False</td>\n",
       "      <td>0</td>\n",
       "      <td>11</td>\n",
       "      <td>0</td>\n",
       "      <td>40per_variation</td>\n",
       "      <td>10</td>\n",
       "      <td>False</td>\n",
       "    </tr>\n",
       "    <tr>\n",
       "      <th>1</th>\n",
       "      <td>[max_steps]</td>\n",
       "      <td>IDM</td>\n",
       "      <td>False</td>\n",
       "      <td>1</td>\n",
       "      <td>11</td>\n",
       "      <td>1</td>\n",
       "      <td>40per_variation</td>\n",
       "      <td>10</td>\n",
       "      <td>False</td>\n",
       "    </tr>\n",
       "    <tr>\n",
       "      <th>2</th>\n",
       "      <td>[max_steps]</td>\n",
       "      <td>IDM</td>\n",
       "      <td>False</td>\n",
       "      <td>2</td>\n",
       "      <td>11</td>\n",
       "      <td>2</td>\n",
       "      <td>40per_variation</td>\n",
       "      <td>10</td>\n",
       "      <td>False</td>\n",
       "    </tr>\n",
       "    <tr>\n",
       "      <th>3</th>\n",
       "      <td>[max_steps]</td>\n",
       "      <td>IDM</td>\n",
       "      <td>False</td>\n",
       "      <td>3</td>\n",
       "      <td>11</td>\n",
       "      <td>3</td>\n",
       "      <td>40per_variation</td>\n",
       "      <td>10</td>\n",
       "      <td>False</td>\n",
       "    </tr>\n",
       "    <tr>\n",
       "      <th>4</th>\n",
       "      <td>[max_steps]</td>\n",
       "      <td>IDM</td>\n",
       "      <td>False</td>\n",
       "      <td>4</td>\n",
       "      <td>11</td>\n",
       "      <td>4</td>\n",
       "      <td>40per_variation</td>\n",
       "      <td>10</td>\n",
       "      <td>False</td>\n",
       "    </tr>\n",
       "  </tbody>\n",
       "</table>\n",
       "</div>"
      ],
      "text/plain": [
       "      Terminal behavior  collision  config_idx  max_steps  scen_idx  \\\n",
       "0  [max_steps]      IDM      False           0         11         0   \n",
       "1  [max_steps]      IDM      False           1         11         1   \n",
       "2  [max_steps]      IDM      False           2         11         2   \n",
       "3  [max_steps]      IDM      False           3         11         3   \n",
       "4  [max_steps]      IDM      False           4         11         4   \n",
       "\n",
       "          scen_set  step  success  \n",
       "0  40per_variation    10    False  \n",
       "1  40per_variation    10    False  \n",
       "2  40per_variation    10    False  \n",
       "3  40per_variation    10    False  \n",
       "4  40per_variation    10    False  "
      ]
     },
     "execution_count": 10,
     "metadata": {},
     "output_type": "execute_result"
    }
   ],
   "source": [
    "df = result_loaded.get_data_frame()\n",
    "\n",
    "df.head()"
   ]
  },
  {
   "cell_type": "markdown",
   "metadata": {},
   "source": [
    "# Benchmark Analyzer\n",
    "\n",
    "The benchmark analyzer allows to filter the results to show visualize what really happened. These filters can be set via a dictionary with lambda functions specifying the evaluation criteria which must be fullfilled.\n",
    "\n",
    "A config is basically a simulation run, where step size, controlled agent, terminal conditions and metrics have been defined.\n",
    "\n",
    "Let us first load the results into the BenchmarkAnalyzer and then filter the results."
   ]
  },
  {
   "cell_type": "code",
   "execution_count": 11,
   "metadata": {},
   "outputs": [],
   "source": [
    "analyzer = BenchmarkAnalyzer(benchmark_result=result_loaded)\n",
    "\n",
    "\n",
    "configs_idm = analyzer.find_configs(criteria={\"behavior\": lambda x: x==\"IDM\", \"success\": lambda x : not x})\n",
    "configs_const = analyzer.find_configs(criteria={\"behavior\": lambda x: x==\"Const\", \"success\": lambda x : not x})"
   ]
  },
  {
   "cell_type": "markdown",
   "metadata": {},
   "source": [
    "We will now create a video from them. We will use Matplotlib Viewer and render everything to a video."
   ]
  },
  {
   "cell_type": "code",
   "execution_count": 15,
   "metadata": {},
   "outputs": [
    {
     "data": {
      "image/png": "[encoded data removed]",
      "text/plain": [
       "<Figure size 720x720 with 1 Axes>"
      ]
     },
     "metadata": {
      "needs_background": "light"
     },
     "output_type": "display_data"
    },
    {
     "data": {
      "text/plain": [
       "<Figure size 432x288 with 0 Axes>"
      ]
     },
     "metadata": {},
     "output_type": "display_data"
    },
    {
     "data": {
      "text/plain": [
       "<Figure size 432x288 with 0 Axes>"
      ]
     },
     "metadata": {},
     "output_type": "display_data"
    },
    {
     "data": {
      "text/plain": [
       "<Figure size 432x288 with 0 Axes>"
      ]
     },
     "metadata": {},
     "output_type": "display_data"
    },
    {
     "data": {
      "text/plain": [
       "<Figure size 432x288 with 0 Axes>"
      ]
     },
     "metadata": {},
     "output_type": "display_data"
    },
    {
     "data": {
      "text/plain": [
       "<Figure size 432x288 with 0 Axes>"
      ]
     },
     "metadata": {},
     "output_type": "display_data"
    },
    {
     "data": {
      "text/plain": [
       "<Figure size 432x288 with 0 Axes>"
      ]
     },
     "metadata": {},
     "output_type": "display_data"
    },
    {
     "data": {
      "text/plain": [
       "<Figure size 432x288 with 0 Axes>"
      ]
     },
     "metadata": {},
     "output_type": "display_data"
    },
    {
     "data": {
      "text/plain": [
       "<Figure size 432x288 with 0 Axes>"
      ]
     },
     "metadata": {},
     "output_type": "display_data"
    },
    {
     "data": {
      "text/plain": [
       "<Figure size 432x288 with 0 Axes>"
      ]
     },
     "metadata": {},
     "output_type": "display_data"
    },
    {
     "data": {
      "text/plain": [
       "<Figure size 432x288 with 0 Axes>"
      ]
     },
     "metadata": {},
     "output_type": "display_data"
    },
    {
     "data": {
      "text/plain": [
       "<Figure size 432x288 with 0 Axes>"
      ]
     },
     "metadata": {},
     "output_type": "display_data"
    },
    {
     "data": {
      "text/plain": [
       "<Figure size 432x288 with 0 Axes>"
      ]
     },
     "metadata": {},
     "output_type": "display_data"
    },
    {
     "data": {
      "text/plain": [
       "<Figure size 432x288 with 0 Axes>"
      ]
     },
     "metadata": {},
     "output_type": "display_data"
    },
    {
     "data": {
      "text/plain": [
       "<Figure size 432x288 with 0 Axes>"
      ]
     },
     "metadata": {},
     "output_type": "display_data"
    },
    {
     "data": {
      "text/plain": [
       "<Figure size 432x288 with 0 Axes>"
      ]
     },
     "metadata": {},
     "output_type": "display_data"
    },
    {
     "data": {
      "text/plain": [
       "<Figure size 432x288 with 0 Axes>"
      ]
     },
     "metadata": {},
     "output_type": "display_data"
    },
    {
     "data": {
      "text/plain": [
       "<Figure size 432x288 with 0 Axes>"
      ]
     },
     "metadata": {},
     "output_type": "display_data"
    },
    {
     "data": {
      "text/plain": [
       "<Figure size 432x288 with 0 Axes>"
      ]
     },
     "metadata": {},
     "output_type": "display_data"
    },
    {
     "data": {
      "text/plain": [
       "<Figure size 432x288 with 0 Axes>"
      ]
     },
     "metadata": {},
     "output_type": "display_data"
    },
    {
     "data": {
      "text/plain": [
       "<Figure size 432x288 with 0 Axes>"
      ]
     },
     "metadata": {},
     "output_type": "display_data"
    },
    {
     "data": {
      "text/plain": [
       "<Figure size 432x288 with 0 Axes>"
      ]
     },
     "metadata": {},
     "output_type": "display_data"
    }
   ],
   "source": [
    "sim_step_time=0.2\n",
    "\n",
    "params2 = ParameterServer()\n",
    "\n",
    "fig = plt.figure(figsize=[10, 10])\n",
    "viewer = MPViewer(params=params2, y_length = 80, enforce_y_length=True, enforce_x_length=False,\\\n",
    "                  follow_agent_id=True, axis=fig.gca())\n",
    "video_exporter = VideoRenderer(renderer=viewer, world_step_time=sim_step_time)\n",
    "\n",
    "analyzer.visualize(viewer = video_exporter, real_time_factor = 1, configs_idx_list=configs_idm[1:3], \\\n",
    "                  fontsize=6)\n",
    "                   \n",
    "video_exporter.export_video(filename=\"/tmp/tutorial_video\")\n"
   ]
  },
  {
   "cell_type": "code",
   "execution_count": null,
   "metadata": {},
   "outputs": [],
   "source": []
  }
 ],
 "metadata": {
  "kernelspec": {
   "display_name": "Python 3",
   "language": "python",
   "name": "python3"
  },
  "language_info": {
   "codemirror_mode": {
    "name": "ipython",
    "version": 3
   },
   "file_extension": ".py",
   "mimetype": "text/x-python",
   "name": "python",
   "nbconvert_exporter": "python",
   "pygments_lexer": "ipython3",
   "version": "3.7.5"
  }
 },
 "nbformat": 4,
 "nbformat_minor": 4
}
