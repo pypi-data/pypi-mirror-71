{
 "cells": [
  {
   "cell_type": "markdown",
   "metadata": {},
   "source": [
    "# NPS calculated for multiple form fields through time as a Time Series"
   ]
  },
  {
   "cell_type": "code",
   "execution_count": null,
   "metadata": {},
   "outputs": [],
   "source": [
    "import pandas as pd\n",
    "from configobj import ConfigObj    # dnf install python3-configobj\n",
    "import sqlalchemy\n",
    "import matplotlib.pyplot as plt\n",
    "import numpy as np\n",
    "import time\n",
    "import datetime\n",
    "%matplotlib inline\n",
    "%config InlineBackend.figure_formats = ['svg']\n",
    "#plt.rcParams['figure.dpi']=400\n",
    "\n",
    "config='../syncFromTypeform.conf'"
   ]
  },
  {
   "cell_type": "code",
   "execution_count": null,
   "metadata": {},
   "outputs": [],
   "source": [
    "context=ConfigObj(config)\n",
    "db=sqlalchemy.create_engine(context['database'], encoding='utf8')"
   ]
  },
  {
   "cell_type": "markdown",
   "metadata": {},
   "source": [
    "Estou apresentando o [Typeform ETL](https://github.com/avibrazil/Typeform-ETL/) prá galera da CI&T"
   ]
  },
  {
   "cell_type": "markdown",
   "metadata": {},
   "source": [
    "## Forms and fields that can be found in our database"
   ]
  },
  {
   "cell_type": "code",
   "execution_count": null,
   "metadata": {},
   "outputs": [],
   "source": [
    "myNPSfields=[\n",
    "#     ['APiACy', '4772be8bd4f21ea2'],\n",
    "#     ['KPbhd6', '43afcbf9b69c2feb'],\n",
    "#     ['kVGmcU', '43afcbf9b69c2feb'],\n",
    "    ['YRyBYh', '4629726316f59ad4' , 'Renovação de seguros'],\n",
    "    ['Tz3iJK','353eb07c-15bf-4669-9793-9c0ec33f818a', 'Cotação'],\n",
    "    ['Eh4x2E','268ef6ae60b480fc', 'Vibra'],\n",
    "    ['ARqhAx','de80f7ff-2a0b-46f1-afec-e61432da10bf','NPS página inicial de 05/2020, seguradora'],\n",
    "    ['ARqhAx','33147541-e204-41ad-83ca-777f3f60290a','NPS página inicial de 05/2020, portal'],\n",
    "    ['ARqhAx','5fdb286b-b68c-45da-ac30-ca155fee9322', 'NPS app mobile'],\n",
    "#     ['fHUNzp', 'e6dc74518142df7a'],\n",
    "#     ['WwuFx0', '4a2c5e69-166e-4e44-9543-a0966b8d35f0'],\n",
    "#     ['WwuFx0', 'f5c7ac13-868f-4948-9195-c812ad851aa3'],\n",
    "    ['qneoZH','353eb07c-15bf-4669-9793-9c0ec33f818a', 'Cotação (nova)'],\n",
    "    ['to6Bfp', 'nps', 'Gestão de Negócios'],\n",
    "    ['WwuFx0', 'nps', 'Tela Inicial (antigo)'],\n",
    "    ['RwBmJ4','268ef6ae60b480fc', 'Vibra - acompanhamento de inspeção'],\n",
    "    ['zdgJ8H','59759776-9cb2-4ee0-bac8-1893ae1474af'],\n",
    "    ['PBBWaL','nps', 'Vila Mobile - Quero Opinar']\n",
    "]"
   ]
  },
  {
   "cell_type": "code",
   "execution_count": null,
   "metadata": {},
   "outputs": [],
   "source": [
    "fields=pd.DataFrame(myNPSfields,columns=['form_id','field_name', 'comment'])"
   ]
  },
  {
   "cell_type": "code",
   "execution_count": null,
   "metadata": {},
   "outputs": [],
   "source": [
    "fields"
   ]
  },
  {
   "cell_type": "markdown",
   "metadata": {},
   "source": [
    "## NPS evolution calculated and graphed based on answers from all the fields above"
   ]
  },
  {
   "cell_type": "code",
   "execution_count": null,
   "metadata": {},
   "outputs": [],
   "source": [
    "nps=pd.DataFrame()\n",
    "for index, field in fields.iterrows():\n",
    "    r=pd.read_sql_query(\"SELECT * FROM tf_nps_daily WHERE form_id='{}' AND field_name='{}'\".format(field['form_id'],field['field_name']),db)\n",
    "    nps=nps.append(r)\n",
    "del r"
   ]
  },
  {
   "cell_type": "code",
   "execution_count": null,
   "metadata": {},
   "outputs": [],
   "source": [
    "nps['date']=pd.to_datetime(nps['date'],infer_datetime_format=True)\n",
    "nps['NPS_cumulative_percent']=100*nps['NPS_cumulative']"
   ]
  },
  {
   "cell_type": "code",
   "execution_count": null,
   "metadata": {},
   "outputs": [],
   "source": [
    "for index, field in fields.iterrows():\n",
    "    if nps[(nps['form_id']==field['form_id']) & (nps['field_name']==field['field_name'])].shape[0]>0:\n",
    "        ax=nps[(nps['form_id']==field['form_id']) & (nps['field_name']==field['field_name'])].sort_values(by='date').plot(\n",
    "            kind='line',\n",
    "            x='date',\n",
    "            y='totl_cumulative',\n",
    "        )\n",
    "\n",
    "\n",
    "        nps[(nps['form_id']==field['form_id']) & (nps['field_name']==field['field_name'])].sort_values(by='date').plot(\n",
    "            kind='line',\n",
    "            x='date',\n",
    "            y='NPS_cumulative_percent',\n",
    "            secondary_y='NPS_cumulative_percent',\n",
    "            ax=ax\n",
    "        )\n",
    "\n",
    "        ax.set_title('«{}» {}'.format(\n",
    "            nps[(nps['form_id']==field['form_id']) & (nps['field_name']==field['field_name'])]['form_id'][0],\n",
    "            nps[(nps['form_id']==field['form_id']) & (nps['field_name']==field['field_name'])]['form_title'][0],\n",
    "\n",
    "            nps[(nps['form_id']==field['form_id']) & (nps['field_name']==field['field_name'])]['field_name'][0],\n",
    "            nps[(nps['form_id']==field['form_id']) & (nps['field_name']==field['field_name'])]['field_title'][0]\n",
    "        ))\n",
    "\n",
    "        ax.legend(['# respostas', '% NPS'], loc='best',bbox_to_anchor=(1.1,1))\n",
    "        ax.set_xlabel('Data')\n",
    "        ax.set_ylabel('# respostas')\n",
    "        ax.right_ax.set_ylabel('% NPS')"
   ]
  },
  {
   "cell_type": "markdown",
   "metadata": {},
   "source": [
    "# Response count per week"
   ]
  },
  {
   "cell_type": "code",
   "execution_count": null,
   "metadata": {},
   "outputs": [],
   "source": [
    "answers=pd.DataFrame()\n",
    "for index, field in fields.iterrows():\n",
    "    r=pd.read_sql_query(\"SELECT * FROM tf_super_answers WHERE form_id='{}' AND field_name='{}'\".format(field['form_id'],field['field_name']),db)\n",
    "    answers=answers.append(r)\n",
    "del r"
   ]
  },
  {
   "cell_type": "code",
   "execution_count": null,
   "metadata": {},
   "outputs": [],
   "source": [
    "ans=answers[['form_id','submitted','answer']]\n",
    "ans['answer']=pd.to_numeric(ans['answer'])\n",
    "ans.set_index('submitted',inplace=True)"
   ]
  },
  {
   "cell_type": "markdown",
   "metadata": {},
   "source": [
    "# Plain textual data"
   ]
  },
  {
   "cell_type": "code",
   "execution_count": null,
   "metadata": {},
   "outputs": [],
   "source": [
    "nps"
   ]
  },
  {
   "cell_type": "code",
   "execution_count": null,
   "metadata": {},
   "outputs": [],
   "source": [
    "nps=pd.DataFrame()\n",
    "for index, field in fields.iterrows():\n",
    "    r=pd.read_sql_query(\"SELECT * FROM tf_nps WHERE form_id='{}' AND field_name='{}'\".format(field['form_id'],field['field_name']),db)\n",
    "    nps=nps.append(r)\n",
    "del r"
   ]
  },
  {
   "cell_type": "code",
   "execution_count": null,
   "metadata": {},
   "outputs": [],
   "source": [
    "nps"
   ]
  },
  {
   "cell_type": "markdown",
   "metadata": {},
   "source": [
    "## Form conversion, or, how many printed forms are actually submmited by users"
   ]
  },
  {
   "cell_type": "code",
   "execution_count": 22,
   "metadata": {},
   "outputs": [
    {
     "ename": "NameError",
     "evalue": "name 'pd' is not defined",
     "output_type": "error",
     "traceback": [
      "\u001b[0;31m---------------------------------------------------------------------------\u001b[0m",
      "\u001b[0;31mNameError\u001b[0m                                 Traceback (most recent call last)",
      "\u001b[0;32m<ipython-input-22-ac75a897348f>\u001b[0m in \u001b[0;36m<module>\u001b[0;34m\u001b[0m\n\u001b[1;32m     37\u001b[0m \"\"\"\n\u001b[1;32m     38\u001b[0m \u001b[0;34m\u001b[0m\u001b[0m\n\u001b[0;32m---> 39\u001b[0;31m \u001b[0mconversion\u001b[0m\u001b[0;34m=\u001b[0m\u001b[0mpd\u001b[0m\u001b[0;34m.\u001b[0m\u001b[0mDataFrame\u001b[0m\u001b[0;34m(\u001b[0m\u001b[0;34m)\u001b[0m\u001b[0;34m\u001b[0m\u001b[0;34m\u001b[0m\u001b[0m\n\u001b[0m\u001b[1;32m     40\u001b[0m \u001b[0;32mfor\u001b[0m \u001b[0mindex\u001b[0m\u001b[0;34m,\u001b[0m \u001b[0mfield\u001b[0m \u001b[0;32min\u001b[0m \u001b[0mfields\u001b[0m\u001b[0;34m.\u001b[0m\u001b[0miterrows\u001b[0m\u001b[0;34m(\u001b[0m\u001b[0;34m)\u001b[0m\u001b[0;34m:\u001b[0m\u001b[0;34m\u001b[0m\u001b[0;34m\u001b[0m\u001b[0m\n\u001b[1;32m     41\u001b[0m     \u001b[0mr\u001b[0m\u001b[0;34m=\u001b[0m\u001b[0mpd\u001b[0m\u001b[0;34m.\u001b[0m\u001b[0mread_sql_query\u001b[0m\u001b[0;34m(\u001b[0m\u001b[0mquery\u001b[0m \u001b[0;34m+\u001b[0m \u001b[0;34m\" WHERE tot.form='{}'\"\u001b[0m\u001b[0;34m.\u001b[0m\u001b[0mformat\u001b[0m\u001b[0;34m(\u001b[0m\u001b[0mfield\u001b[0m\u001b[0;34m[\u001b[0m\u001b[0;34m'form_id'\u001b[0m\u001b[0;34m]\u001b[0m\u001b[0;34m)\u001b[0m\u001b[0;34m,\u001b[0m\u001b[0mdb\u001b[0m\u001b[0;34m)\u001b[0m\u001b[0;34m\u001b[0m\u001b[0;34m\u001b[0m\u001b[0m\n",
      "\u001b[0;31mNameError\u001b[0m: name 'pd' is not defined"
     ]
    }
   ],
   "source": [
    "query=\"\"\"\n",
    "                        SELECT\n",
    "                            tot.form,\n",
    "                            tf_forms.title,\n",
    "                            tot.date,\n",
    "                            sub.avg_time,\n",
    "                            tot.landings,\n",
    "                            sub.submissions,\n",
    "                            sub.submissions / tot.landings as rate\n",
    "                        from\n",
    "                            (\n",
    "                            select\n",
    "                                form,\n",
    "                                cast(landed as date) date,\n",
    "                                landed,\n",
    "                                submitted,\n",
    "                                count(*) landings\n",
    "                            from\n",
    "                                tf_responses\n",
    "                            group by\n",
    "                                form, date ) as tot\n",
    "                        left outer join (\n",
    "                            select\n",
    "                                form,\n",
    "                                cast(landed as date) date,\n",
    "                                avg(time_to_sec(timediff(submitted,landed))) as avg_time,\n",
    "                                count(*) submissions\n",
    "                            from\n",
    "                                tf_responses\n",
    "                            where\n",
    "                                submitted is not null\n",
    "                            group by\n",
    "                                form, date ) as sub on\n",
    "                            sub.form = tot.form and sub.date=tot.date\n",
    "                        left outer join tf_forms\n",
    "                        on tf_forms.id=tot.form\n",
    "\"\"\"\n",
    "\n",
    "conversion=pd.DataFrame()\n",
    "for index, field in fields.iterrows():\n",
    "    r=pd.read_sql_query(query + \" WHERE tot.form='{}'\".format(field['form_id']),db)\n",
    "    conversion=conversion.append(r)\n",
    "del r"
   ]
  },
  {
   "cell_type": "code",
   "execution_count": null,
   "metadata": {},
   "outputs": [],
   "source": [
    "conversion"
   ]
  },
  {
   "cell_type": "code",
   "execution_count": null,
   "metadata": {},
   "outputs": [],
   "source": [
    "conversion['date']=pd.to_datetime(conversion['date'],infer_datetime_format=True)\n",
    "conversion['abandoned']=conversion['landings']-conversion['submissions']\n",
    "conversion.fillna(0, inplace=True)"
   ]
  },
  {
   "cell_type": "code",
   "execution_count": null,
   "metadata": {},
   "outputs": [],
   "source": [
    "conversion.info()"
   ]
  },
  {
   "cell_type": "code",
   "execution_count": null,
   "metadata": {},
   "outputs": [],
   "source": [
    "conversion[conversion['form']=='ARqhAx'] #['submissions'].sum()"
   ]
  },
  {
   "cell_type": "code",
   "execution_count": null,
   "metadata": {},
   "outputs": [],
   "source": [
    "mean=conversion[conversion['form']=='ARqhAx']['avg_time'].mean()\n",
    "median=conversion[conversion['form']=='ARqhAx']['avg_time'].median()\n",
    "stddev=conversion[conversion['form']=='ARqhAx']['avg_time'].std()\n",
    "\n",
    "deltamean=datetime.timedelta(seconds=mean)\n",
    "print(\"Mean ({}s): {}m{}s\".format(deltamean.seconds, deltamean.seconds//60, deltamean.seconds-(deltamean.seconds//60)))\n",
    "\n",
    "deltamedian=datetime.timedelta(seconds=median)\n",
    "print(\"Median ({}s): {}m{}s\".format(deltamedian.seconds, deltamedian.seconds//60, deltamedian.seconds-(deltamedian.seconds//60)))\n",
    "\n",
    "print(\"Std deviation ({}s): {}m{}s\".format(stddev, stddev//60, stddev-(stddev//60)))\n",
    "\n",
    "\n",
    "\n",
    "# conversion[conversion['form']=='ARqhAx'].describe()"
   ]
  },
  {
   "cell_type": "code",
   "execution_count": null,
   "metadata": {},
   "outputs": [],
   "source": [
    "for index, field in fields.iterrows():\n",
    "    if conversion[(conversion['form']==field['form_id'])].shape[0]>0:\n",
    "        \n",
    "        conversion_by_week=conversion[(conversion['form']==field['form_id'])][['date','abandoned','submissions','avg_time']].resample(rule='W-MON', on='date').agg({\n",
    "                    'abandoned': np.sum,\n",
    "                    'submissions': np.sum,\n",
    "                    'avg_time': np.mean\n",
    "                })\n",
    "        \n",
    "        conversion_by_week['time_avg_time'] = pd.to_datetime(conversion_by_week['avg_time'], unit='s')        \n",
    "        conversion_by_week['avg_time_text'] = conversion_by_week['time_avg_time'].dt.strftime('%mm%ss')\n",
    "#         conversion_by_week[conversion_by_week['avg_time']<60]['avg_time_text'] = conversion_by_week['avg_time'].dt.strftime('%ss')        \n",
    "        \n",
    "        ax=conversion_by_week[['submissions','abandoned']].plot(\n",
    "            kind='bar',\n",
    "            figsize=(20,8),\n",
    "            stacked=True, width=0.95\n",
    "        )\n",
    "\n",
    "        text = \"{} is average time to answer 1 form\\n{:.2f}% of form response probability\".format(\n",
    "                    time.strftime(\"%Mm%Ss\",time.gmtime(conversion[(conversion['form']==field['form_id'])]['avg_time'].mean())),\n",
    "                    conversion[(conversion['form']==field['form_id'])]['submissions'].sum()/conversion[(conversion['form']==field['form_id'])]['landings'].sum()*100\n",
    "        )\n",
    "        \n",
    "        box = dict(boxstyle='round', facecolor='wheat', alpha=0.5)\n",
    "\n",
    "        ax.text(0.005,0.98, text, transform=ax.transAxes,\n",
    "                verticalalignment='top', bbox=box\n",
    "        )\n",
    "        \n",
    "#         conversion_by_week[['avg_time']].plot(\n",
    "#             kind='line',\n",
    "#             secondary_y='avg_time',\n",
    "#            # fmt='bo-',\n",
    "#             ax=ax\n",
    "#         )\n",
    "\n",
    "#         for d,avg in conversion_by_week[['avg_time']].iterrows():\n",
    "#             if np.isnan(avg[0]):\n",
    "#                 pass\n",
    "#             else:\n",
    "#                 label = time.strftime(\"%M:%S\",time.gmtime(avg[0]))\n",
    "\n",
    "#                 ax.annotate(label, # this is the text\n",
    "#                              (d,avg[0]), # this is the point to label\n",
    "#                              textcoords=\"offset points\", # how to position the text\n",
    "#                              xytext=(0,10), # distance from text to points (x,y)\n",
    "#                              ha='center',  # horizontal alignment can be left, right or center\n",
    "#                             ) # horizontal alignment can be left, right or center\n",
    "\n",
    "        \n",
    "        \n",
    "        \n",
    "        (form,title)=conversion[(conversion['form']==field['form_id'])][['form','title']].loc[0]\n",
    "                \n",
    "        ax.set_title('«{}» {}'.format(\n",
    "            form,\n",
    "            title\n",
    "        ))\n",
    "\n",
    "#         ax.legend(['# respostas', '% NPS'], loc='best',bbox_to_anchor=(1.1,1))\n",
    "        ax.set_xlabel('Data')\n",
    "        ax.set_ylabel('# respostas')\n",
    "#         ax.right_ax.set_ylabel('tempo médio para responder')"
   ]
  },
  {
   "cell_type": "code",
   "execution_count": 11,
   "metadata": {},
   "outputs": [],
   "source": [
    "x=[1,2,3]\n",
    "y=['a', 'bé', 'c']\n",
    "\n",
    "d=dict(zip(y,x))"
   ]
  },
  {
   "cell_type": "code",
   "execution_count": 12,
   "metadata": {},
   "outputs": [],
   "source": [
    "import json"
   ]
  },
  {
   "cell_type": "code",
   "execution_count": 17,
   "metadata": {},
   "outputs": [
    {
     "data": {
      "text/plain": [
       "'{\"a\":1,   \"bé\":2,   \"c\":3}'"
      ]
     },
     "execution_count": 17,
     "metadata": {},
     "output_type": "execute_result"
    }
   ],
   "source": [
    "json.dumps(d, ensure_ascii=False, separators=(',   ', ':'))"
   ]
  },
  {
   "cell_type": "code",
   "execution_count": 68,
   "metadata": {},
   "outputs": [],
   "source": [
    "import hashlib\n",
    "import base64\n",
    "\n",
    "hasher=hashlib.new('shake_256')"
   ]
  },
  {
   "cell_type": "code",
   "execution_count": 69,
   "metadata": {},
   "outputs": [],
   "source": [
    "hasher.update(query.encode('UTF-8'))"
   ]
  },
  {
   "cell_type": "code",
   "execution_count": 79,
   "metadata": {},
   "outputs": [],
   "source": [
    "size=10"
   ]
  },
  {
   "cell_type": "code",
   "execution_count": 80,
   "metadata": {},
   "outputs": [
    {
     "data": {
      "text/plain": [
       "b'\\xcb\\x98\\xd6\\xe7\\x9f\\xca-\\xcf\\x12\\x8a'"
      ]
     },
     "execution_count": 80,
     "metadata": {},
     "output_type": "execute_result"
    }
   ],
   "source": [
    "hasher.digest(size)"
   ]
  },
  {
   "cell_type": "code",
   "execution_count": 81,
   "metadata": {},
   "outputs": [
    {
     "data": {
      "text/plain": [
       "'cb98d6e79fca2dcf128a'"
      ]
     },
     "execution_count": 81,
     "metadata": {},
     "output_type": "execute_result"
    }
   ],
   "source": [
    "hasher.hexdigest(size)"
   ]
  },
  {
   "cell_type": "code",
   "execution_count": 82,
   "metadata": {},
   "outputs": [
    {
     "data": {
      "text/plain": [
       "'y5jW55/KLc8Sig=='"
      ]
     },
     "execution_count": 82,
     "metadata": {},
     "output_type": "execute_result"
    }
   ],
   "source": [
    "base64.b64encode(hasher.digest(size)).decode('ascii')"
   ]
  },
  {
   "cell_type": "code",
   "execution_count": 83,
   "metadata": {},
   "outputs": [
    {
     "data": {
      "text/plain": [
       "'ZOMNNZ47ZIW46EUK'"
      ]
     },
     "execution_count": 83,
     "metadata": {},
     "output_type": "execute_result"
    }
   ],
   "source": [
    "base64.b32encode(hasher.digest(size)).decode('ascii')"
   ]
  },
  {
   "cell_type": "code",
   "execution_count": 84,
   "metadata": {},
   "outputs": [
    {
     "data": {
      "text/plain": [
       "'CB98D6E79FCA2DCF128A'"
      ]
     },
     "execution_count": 84,
     "metadata": {},
     "output_type": "execute_result"
    }
   ],
   "source": [
    "base64.b16encode(hasher.digest(size)).decode('ascii')"
   ]
  },
  {
   "cell_type": "code",
   "execution_count": 85,
   "metadata": {},
   "outputs": [
    {
     "data": {
      "text/plain": [
       "'y5jW55_KLc8Sig=='"
      ]
     },
     "execution_count": 85,
     "metadata": {},
     "output_type": "execute_result"
    }
   ],
   "source": [
    "base64.urlsafe_b64encode(hasher.digest(size)).decode('ascii')"
   ]
  },
  {
   "cell_type": "code",
   "execution_count": 90,
   "metadata": {},
   "outputs": [
    {
     "ename": "TypeError",
     "evalue": "a85encode() got an unexpected keyword argument 'ignorechars'",
     "output_type": "error",
     "traceback": [
      "\u001b[0;31m---------------------------------------------------------------------------\u001b[0m",
      "\u001b[0;31mTypeError\u001b[0m                                 Traceback (most recent call last)",
      "\u001b[0;32m<ipython-input-90-574d5784b98d>\u001b[0m in \u001b[0;36m<module>\u001b[0;34m\u001b[0m\n\u001b[0;32m----> 1\u001b[0;31m \u001b[0mbase64\u001b[0m\u001b[0;34m.\u001b[0m\u001b[0ma85encode\u001b[0m\u001b[0;34m(\u001b[0m\u001b[0mhasher\u001b[0m\u001b[0;34m.\u001b[0m\u001b[0mdigest\u001b[0m\u001b[0;34m(\u001b[0m\u001b[0msize\u001b[0m\u001b[0;34m)\u001b[0m\u001b[0;34m,\u001b[0m\u001b[0mignorechars\u001b[0m\u001b[0;34m=\u001b[0m\u001b[0;34mb' \\t\\n\\r\\v'\u001b[0m\u001b[0;34m)\u001b[0m\u001b[0;34m.\u001b[0m\u001b[0mdecode\u001b[0m\u001b[0;34m(\u001b[0m\u001b[0;34m'ascii'\u001b[0m\u001b[0;34m)\u001b[0m\u001b[0;34m\u001b[0m\u001b[0;34m\u001b[0m\u001b[0m\n\u001b[0m",
      "\u001b[0;31mTypeError\u001b[0m: a85encode() got an unexpected keyword argument 'ignorechars'"
     ]
    }
   ],
   "source": [
    "base64.a85encode(hasher.digest(size),ignorechars=b' \\t\\n\\r\\v').decode('ascii')"
   ]
  },
  {
   "cell_type": "code",
   "execution_count": 87,
   "metadata": {},
   "outputs": [
    {
     "data": {
      "text/plain": [
       "'%b3>ZpUN%I5{d'"
      ]
     },
     "execution_count": 87,
     "metadata": {},
     "output_type": "execute_result"
    }
   ],
   "source": [
    "base64.b85encode(hasher.digest(size)).decode('ascii')"
   ]
  },
  {
   "cell_type": "code",
   "execution_count": null,
   "metadata": {},
   "outputs": [],
   "source": []
  }
 ],
 "metadata": {
  "kernelspec": {
   "display_name": "Python 3",
   "language": "python",
   "name": "python3"
  },
  "language_info": {
   "codemirror_mode": {
    "name": "ipython",
    "version": 3
   },
   "file_extension": ".py",
   "mimetype": "text/x-python",
   "name": "python",
   "nbconvert_exporter": "python",
   "pygments_lexer": "ipython3",
   "version": "3.7.3"
  }
 },
 "nbformat": 4,
 "nbformat_minor": 4
}
