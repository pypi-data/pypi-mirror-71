{
 "cells": [
  {
   "cell_type": "code",
   "execution_count": 1,
   "metadata": {
    "graffitiCellId": "id_v9un8hs"
   },
   "outputs": [],
   "source": [
    "from ipyturtle import Turtle\n",
    "def goto(self, x, y=None):\n",
    "    if y is None:\n",
    "        y = x[1]\n",
    "        x = x[0]\n",
    "    self._turtle_location_x = float(x)\n",
    "    self._turtle_location_y = float(y)\n",
    "    \n",
    "def speed(self, s):\n",
    "    s = int(s)\n",
    "    s = max(min(s, 10), 0)\n",
    "    self._speed = s\n",
    "\n",
    "def forward(self, length):\n",
    "    times = self._speed_scale[self._speed]\n",
    "    for i in range(times):\n",
    "        self._forward(length / times)\n",
    "\n",
    "def _reset(self):\n",
    "    self._turtle_on = True\n",
    "    self._pen_on = True\n",
    "    self._turtle_location_x = 0\n",
    "    self._turtle_location_y = 0\n",
    "    self._turtle_heading = 90.0\n",
    "    self._turtle_heading_x = 0.0\n",
    "    self._turtle_heading_y = 1.0\n",
    "    self._speed = 10\n",
    "    \n",
    "Turtle._forward = Turtle.forward\n",
    "Turtle._speed_scale = [1, 1000, 500, 200, 100, 50, 20, 10, 5, 2, 1]\n",
    "setattr(Turtle, 'goto', goto)\n",
    "setattr(Turtle, '_reset', _reset)\n",
    "setattr(Turtle, 'speed', speed)\n",
    "setattr(Turtle, 'forward', forward)"
   ]
  },
  {
   "cell_type": "markdown",
   "metadata": {
    "graffitiCellId": "id_6i3g33o"
   },
   "source": [
    "#  海龟？绘画？让海龟绘画？"
   ]
  },
  {
   "cell_type": "markdown",
   "metadata": {
    "graffitiCellId": "id_iw961fi"
   },
   "source": [
    "<img src=\"https://video.udacity-data.com/topher/2018/January/5a4d38b6_turtle-draw/turtle-draw.jpg\" width = 500 div align=left>"
   ]
  },
  {
   "cell_type": "markdown",
   "metadata": {
    "graffitiCellId": "id_fm27jbq"
   },
   "source": [
    "# turtle —— 海龟绘图简介\n",
    "## 在上世纪六十年代,“turtle graphics”的概念由计算机教育家 Seymour Papert 提出\n",
    "一开始，turtle 是一个实际机器人，半球形的外壳看起来像海龟的外壳。\n",
    "\n",
    "该机器人拿着一个笔并且能够在一张大纸上画画。随着计算机越来越便宜，图形效果越来越好，turtle 机器人通常被替换成了屏幕上的版本，就像我们在课程中使用的虚拟机器人一样。\n",
    "\n",
    "turtle是预先写好的python模块也叫库，即为预先写好的可重复使用的命令的集合。只要记住相应的命令，你就可以在python中创建你的绘图啦！\n",
    "\n",
    "  - 在 `from ipyturtle import Turtle` 之后，绘图区将会有一只机器海龟，起始位置在 x-y 平面的 (0, 0) 点。\n",
    "  - 可以通过执行编程语句，使机器海龟在屏幕上画出线段，或者原地右转指定的角度。\n",
    "  - 通过组合使用此类动作命令，可以轻松地绘制出精美的形状和图案。"
   ]
  },
  {
   "cell_type": "code",
   "execution_count": 5,
   "metadata": {
    "graffitiCellId": "id_wpppas5"
   },
   "outputs": [],
   "source": [
    "from ipyturtle import Turtle"
   ]
  },
  {
   "cell_type": "code",
   "execution_count": 6,
   "metadata": {
    "graffitiCellId": "id_oqh6o12"
   },
   "outputs": [
    {
     "data": {
      "application/vnd.jupyter.widget-view+json": {
       "model_id": "91742866291f47b19a7564b675f755d1",
       "version_major": 2,
       "version_minor": 0
      },
      "text/plain": [
       "Turtle()"
      ]
     },
     "metadata": {},
     "output_type": "display_data"
    }
   ],
   "source": [
    "Boyu_pen = Turtle(width=300, height=300)\n",
    "Boyu_pen"
   ]
  },
  {
   "cell_type": "markdown",
   "metadata": {
    "graffitiCellId": "id_0a9aj6m"
   },
   "source": [
    "# 🐢 turtle 能执行什么操作？\n",
    "\n",
    "显示画笔位置，设置画笔颜色，直走，左转，右转，跳转至画布的任意一点等等"
   ]
  },
  {
   "cell_type": "markdown",
   "metadata": {
    "graffitiCellId": "id_upncwtr"
   },
   "source": [
    "### 显示当前画笔的位置\n",
    "\n",
    "\n",
    "<img src=\"https://staticcdn.boyuai.com/materials/2020/05/28/YCry2entrGmDeBF12LKaV.png!png\" width = 300 div align=left>\n",
    "\n",
    "在没有进行任何操作之前，画笔起始位置在 x-y 平面的 (0, 0) 点\n",
    "\n",
    "画笔默认方向朝上，如图所示。\n",
    "\n",
    "使用 Boyu_pen.position() 命令将会显示当前画笔的位置。"
   ]
  },
  {
   "cell_type": "code",
   "execution_count": 10,
   "metadata": {
    "graffitiCellId": "id_z5nua4l"
   },
   "outputs": [
    {
     "name": "stdout",
     "output_type": "stream",
     "text": [
      "(0.0, 0.0)\n"
     ]
    }
   ],
   "source": [
    "print(Boyu_pen.position())\n",
    "Boyu_pen.hideturtle()\n"
   ]
  },
  {
   "cell_type": "markdown",
   "metadata": {
    "graffitiCellId": "id_7grxw79"
   },
   "source": [
    "### 设置画笔颜色"
   ]
  },
  {
   "cell_type": "code",
   "execution_count": 3,
   "metadata": {
    "graffitiCellId": "id_qe3fvf9"
   },
   "outputs": [],
   "source": [
    "Boyu_pen.pencolor(\"blue\")"
   ]
  },
  {
   "cell_type": "markdown",
   "metadata": {
    "graffitiCellId": "id_bteazi8"
   },
   "source": [
    "### 前进</span>"
   ]
  },
  {
   "cell_type": "code",
   "execution_count": 4,
   "metadata": {
    "graffitiCellId": "id_jr9j5jh"
   },
   "outputs": [
    {
     "name": "stdout",
     "output_type": "stream",
     "text": [
      "(0.0, 50.0)\n"
     ]
    }
   ],
   "source": [
    "Boyu_pen.forward(50) # 画笔在画布上前进50像素的距离\n",
    "print(Boyu_pen.position())"
   ]
  },
  {
   "cell_type": "markdown",
   "metadata": {
    "graffitiCellId": "id_c8g0x8k"
   },
   "source": [
    "### 左转 + 前进"
   ]
  },
  {
   "cell_type": "code",
   "execution_count": 6,
   "metadata": {
    "graffitiCellId": "id_ndxgkip"
   },
   "outputs": [
    {
     "name": "stdout",
     "output_type": "stream",
     "text": [
      "(-50.0, 50.00000000000001)\n"
     ]
    }
   ],
   "source": [
    "Boyu_pen.left(90)\n",
    "Boyu_pen.forward(50)\n",
    "print(Boyu_pen.position())"
   ]
  },
  {
   "cell_type": "markdown",
   "metadata": {
    "graffitiCellId": "id_vcr2rl5"
   },
   "source": [
    "### 右转 + 前进"
   ]
  },
  {
   "cell_type": "code",
   "execution_count": 7,
   "metadata": {
    "graffitiCellId": "id_2gtdpgl"
   },
   "outputs": [
    {
     "name": "stdout",
     "output_type": "stream",
     "text": [
      "(-50.0, 100.0)\n"
     ]
    }
   ],
   "source": [
    "Boyu_pen.right(90)\n",
    "Boyu_pen.forward(50)\n",
    "print(Boyu_pen.position())"
   ]
  },
  {
   "cell_type": "markdown",
   "metadata": {
    "graffitiCellId": "id_uzxvf0y"
   },
   "source": [
    "### 跳转至点（-100.0，100.0）\n",
    "\n",
    "如果你想让画笔跳转到平面中的另一个点，只需要使用 goto() 语句，并在括号里写入你想去的位置坐标即可。比如："
   ]
  },
  {
   "cell_type": "code",
   "execution_count": 8,
   "metadata": {
    "graffitiCellId": "id_ril1z6f"
   },
   "outputs": [
    {
     "name": "stdout",
     "output_type": "stream",
     "text": [
      "(-100.0, 100.0)\n"
     ]
    }
   ],
   "source": [
    "Boyu_pen.goto(-100.0, 100.0)\n",
    "print(Boyu_pen.position())"
   ]
  },
  {
   "cell_type": "markdown",
   "metadata": {
    "graffitiCellId": "id_okarqs0"
   },
   "source": [
    "现在画笔处在平面空间中的（-100, 100）啦\n",
    "\n",
    "<img src=\"https://staticcdn.boyuai.com/materials/2020/05/28/57nq2iEyn-D_gsx5k4Pc-.png!png\" width = 400 div align=left>"
   ]
  },
  {
   "cell_type": "markdown",
   "metadata": {
    "graffitiCellId": "id_g4yyg2v"
   },
   "source": [
    "### 构建你的绘图\n",
    "\n",
    "通过拼接基本的功能，我们就能像搭积木一样，用上面这些功能构建出漂亮的绘图啦。\n",
    "\n",
    "这节中，我们首先尝试画一个正方形。\n",
    "\n",
    "<img src=\"https://staticcdn.boyuai.com/materials/2020/05/28/TTgRv69e09Z0fwG6-wp-C.png!png\" width = 150 div align=left>\n",
    "\n",
    "【思考】如果需要绘制一个正方形，需要哪些操作呢?\n",
    "- 使用Boyu_pen.forward(50)绘制一条边\n",
    "- 画笔左转90度（Boyu_pen.left(90)），再绘制一条边\n",
    "- 重复上一步，直到画完四条边\n",
    "- 完成！  "
   ]
  },
  {
   "cell_type": "code",
   "execution_count": 13,
   "metadata": {
    "graffitiCellId": "id_uu696es"
   },
   "outputs": [],
   "source": [
    "Boyu_pen.reset()\n",
    "\n",
    "Boyu_pen.pencolor(\"green\")\n",
    "Boyu_pen.forward(50)\n",
    "\n",
    "Boyu_pen.left(90)\n",
    "Boyu_pen.pencolor(\"red\")\n",
    "Boyu_pen.forward(50)\n",
    "\n",
    "Boyu_pen.left(90)\n",
    "Boyu_pen.pencolor(\"yellow\")\n",
    "Boyu_pen.forward(50)\n",
    "\n",
    "Boyu_pen.left(90)\n",
    "Boyu_pen.pencolor(\"black\")\n",
    "Boyu_pen.forward(50)"
   ]
  },
  {
   "cell_type": "markdown",
   "metadata": {
    "graffitiCellId": "id_g2go4ld"
   },
   "source": [
    "完成！是不是很简单。在绘制的过程和中我们还可以添加 Boyu_pen.pencolor() 语句给我们的画笔添加丰富的颜色。\n",
    "\n",
    "你是不是也跃跃欲试了呢，快在右边的代码区域自己尝试绘制属于你的正方形吧~"
   ]
  }
 ],
 "metadata": {
  "graffiti": {
   "firstAuthorId": "dev",
   "id": "id_c7ofvvp",
   "language": "EN"
  },
  "kernelspec": {
   "display_name": "Python 3",
   "language": "python",
   "name": "python3"
  },
  "language_info": {
   "codemirror_mode": {
    "name": "ipython",
    "version": 3
   },
   "file_extension": ".py",
   "mimetype": "text/x-python",
   "name": "python",
   "nbconvert_exporter": "python",
   "pygments_lexer": "ipython3",
   "version": "3.7.1"
  }
 },
 "nbformat": 4,
 "nbformat_minor": 2
}
